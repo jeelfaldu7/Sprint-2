{
 "cells": [
  {
   "cell_type": "markdown",
   "id": "4b1d2ff0",
   "metadata": {},
   "source": [
    "# Shopping Habits of Instacart Customers "
   ]
  },
  {
   "cell_type": "markdown",
   "id": "0915749c",
   "metadata": {},
   "source": [
    "## Introduction"
   ]
  },
  {
   "cell_type": "markdown",
   "id": "c699617e",
   "metadata": {},
   "source": [
    "The project is based on the data from Instacart, a grocery delivery platform where customers can place a grocery order and have it delivered to them. This particular dataset was publicly released by Instacart in 2017 for a Kaggle competition, and will be working on the modified version of the data. The aim of this project is to clean up the data which includes five tables and prepare a report that gives insight into the shopping habits of Instacart customers."
   ]
  },
  {
   "cell_type": "markdown",
   "id": "e59660d9",
   "metadata": {},
   "source": [
    "## Data Overview"
   ]
  },
  {
   "cell_type": "code",
   "execution_count": null,
   "id": "fbf1adab",
   "metadata": {},
   "outputs": [],
   "source": [
    "# import necessary libraries\n",
    "import pandas as pd \n",
    "import matplotlib.pyplot as plt"
   ]
  },
  {
   "cell_type": "markdown",
   "id": "6d7c253c",
   "metadata": {},
   "source": [
    "### Load the Datasets"
   ]
  },
  {
   "cell_type": "code",
   "execution_count": null,
   "id": "ad36396d",
   "metadata": {
    "scrolled": true
   },
   "outputs": [],
   "source": [
    "# load all datasets and set certain arguments to read the data correctly.\n",
    "orders = pd.read_csv('instacart_orders.csv', sep=';')\n",
    "products = pd.read_csv('products.csv', sep=';')\n",
    "aisles = pd.read_csv('aisles.csv', sep=';')\n",
    "departments = pd.read_csv('departments.csv', sep=';')\n",
    "orders_products = pd.read_csv('order_products.csv', sep=';')"
   ]
  },
  {
   "cell_type": "code",
   "execution_count": null,
   "id": "5d56e272",
   "metadata": {},
   "outputs": [
    {
     "data": {
      "text/html": [
       "<div>\n",
       "<style scoped>\n",
       "    .dataframe tbody tr th:only-of-type {\n",
       "        vertical-align: middle;\n",
       "    }\n",
       "\n",
       "    .dataframe tbody tr th {\n",
       "        vertical-align: top;\n",
       "    }\n",
       "\n",
       "    .dataframe thead th {\n",
       "        text-align: right;\n",
       "    }\n",
       "</style>\n",
       "<table border=\"1\" class=\"dataframe\">\n",
       "  <thead>\n",
       "    <tr style=\"text-align: right;\">\n",
       "      <th></th>\n",
       "      <th>order_id</th>\n",
       "      <th>user_id</th>\n",
       "      <th>order_number</th>\n",
       "      <th>order_dow</th>\n",
       "      <th>order_hour_of_day</th>\n",
       "      <th>days_since_prior_order</th>\n",
       "    </tr>\n",
       "  </thead>\n",
       "  <tbody>\n",
       "    <tr>\n",
       "      <th>0</th>\n",
       "      <td>1515936</td>\n",
       "      <td>183418</td>\n",
       "      <td>11</td>\n",
       "      <td>6</td>\n",
       "      <td>13</td>\n",
       "      <td>30.0</td>\n",
       "    </tr>\n",
       "    <tr>\n",
       "      <th>1</th>\n",
       "      <td>1690866</td>\n",
       "      <td>163593</td>\n",
       "      <td>5</td>\n",
       "      <td>5</td>\n",
       "      <td>12</td>\n",
       "      <td>9.0</td>\n",
       "    </tr>\n",
       "    <tr>\n",
       "      <th>2</th>\n",
       "      <td>1454967</td>\n",
       "      <td>39980</td>\n",
       "      <td>4</td>\n",
       "      <td>5</td>\n",
       "      <td>19</td>\n",
       "      <td>2.0</td>\n",
       "    </tr>\n",
       "    <tr>\n",
       "      <th>3</th>\n",
       "      <td>1768857</td>\n",
       "      <td>82516</td>\n",
       "      <td>56</td>\n",
       "      <td>0</td>\n",
       "      <td>20</td>\n",
       "      <td>10.0</td>\n",
       "    </tr>\n",
       "    <tr>\n",
       "      <th>4</th>\n",
       "      <td>3007858</td>\n",
       "      <td>196724</td>\n",
       "      <td>2</td>\n",
       "      <td>4</td>\n",
       "      <td>12</td>\n",
       "      <td>17.0</td>\n",
       "    </tr>\n",
       "  </tbody>\n",
       "</table>\n",
       "</div>"
      ],
      "text/plain": [
       "   order_id  user_id  order_number  order_dow  order_hour_of_day  \\\n",
       "0   1515936   183418            11          6                 13   \n",
       "1   1690866   163593             5          5                 12   \n",
       "2   1454967    39980             4          5                 19   \n",
       "3   1768857    82516            56          0                 20   \n",
       "4   3007858   196724             2          4                 12   \n",
       "\n",
       "   days_since_prior_order  \n",
       "0                    30.0  \n",
       "1                     9.0  \n",
       "2                     2.0  \n",
       "3                    10.0  \n",
       "4                    17.0  "
      ]
     },
     "metadata": {},
     "output_type": "display_data"
    },
    {
     "data": {
      "text/html": [
       "<div>\n",
       "<style scoped>\n",
       "    .dataframe tbody tr th:only-of-type {\n",
       "        vertical-align: middle;\n",
       "    }\n",
       "\n",
       "    .dataframe tbody tr th {\n",
       "        vertical-align: top;\n",
       "    }\n",
       "\n",
       "    .dataframe thead th {\n",
       "        text-align: right;\n",
       "    }\n",
       "</style>\n",
       "<table border=\"1\" class=\"dataframe\">\n",
       "  <thead>\n",
       "    <tr style=\"text-align: right;\">\n",
       "      <th></th>\n",
       "      <th>product_id</th>\n",
       "      <th>product_name</th>\n",
       "      <th>aisle_id</th>\n",
       "      <th>department_id</th>\n",
       "    </tr>\n",
       "  </thead>\n",
       "  <tbody>\n",
       "    <tr>\n",
       "      <th>0</th>\n",
       "      <td>1</td>\n",
       "      <td>Chocolate Sandwich Cookies</td>\n",
       "      <td>61</td>\n",
       "      <td>19</td>\n",
       "    </tr>\n",
       "    <tr>\n",
       "      <th>1</th>\n",
       "      <td>2</td>\n",
       "      <td>All-Seasons Salt</td>\n",
       "      <td>104</td>\n",
       "      <td>13</td>\n",
       "    </tr>\n",
       "    <tr>\n",
       "      <th>2</th>\n",
       "      <td>3</td>\n",
       "      <td>Robust Golden Unsweetened Oolong Tea</td>\n",
       "      <td>94</td>\n",
       "      <td>7</td>\n",
       "    </tr>\n",
       "    <tr>\n",
       "      <th>3</th>\n",
       "      <td>4</td>\n",
       "      <td>Smart Ones Classic Favorites Mini Rigatoni Wit...</td>\n",
       "      <td>38</td>\n",
       "      <td>1</td>\n",
       "    </tr>\n",
       "    <tr>\n",
       "      <th>4</th>\n",
       "      <td>5</td>\n",
       "      <td>Green Chile Anytime Sauce</td>\n",
       "      <td>5</td>\n",
       "      <td>13</td>\n",
       "    </tr>\n",
       "  </tbody>\n",
       "</table>\n",
       "</div>"
      ],
      "text/plain": [
       "   product_id                                       product_name  aisle_id  \\\n",
       "0           1                         Chocolate Sandwich Cookies        61   \n",
       "1           2                                   All-Seasons Salt       104   \n",
       "2           3               Robust Golden Unsweetened Oolong Tea        94   \n",
       "3           4  Smart Ones Classic Favorites Mini Rigatoni Wit...        38   \n",
       "4           5                          Green Chile Anytime Sauce         5   \n",
       "\n",
       "   department_id  \n",
       "0             19  \n",
       "1             13  \n",
       "2              7  \n",
       "3              1  \n",
       "4             13  "
      ]
     },
     "metadata": {},
     "output_type": "display_data"
    },
    {
     "data": {
      "text/html": [
       "<div>\n",
       "<style scoped>\n",
       "    .dataframe tbody tr th:only-of-type {\n",
       "        vertical-align: middle;\n",
       "    }\n",
       "\n",
       "    .dataframe tbody tr th {\n",
       "        vertical-align: top;\n",
       "    }\n",
       "\n",
       "    .dataframe thead th {\n",
       "        text-align: right;\n",
       "    }\n",
       "</style>\n",
       "<table border=\"1\" class=\"dataframe\">\n",
       "  <thead>\n",
       "    <tr style=\"text-align: right;\">\n",
       "      <th></th>\n",
       "      <th>order_id</th>\n",
       "      <th>product_id</th>\n",
       "      <th>add_to_cart_order</th>\n",
       "      <th>reordered</th>\n",
       "    </tr>\n",
       "  </thead>\n",
       "  <tbody>\n",
       "    <tr>\n",
       "      <th>0</th>\n",
       "      <td>2141543</td>\n",
       "      <td>11440</td>\n",
       "      <td>17.0</td>\n",
       "      <td>0</td>\n",
       "    </tr>\n",
       "    <tr>\n",
       "      <th>1</th>\n",
       "      <td>567889</td>\n",
       "      <td>1560</td>\n",
       "      <td>1.0</td>\n",
       "      <td>1</td>\n",
       "    </tr>\n",
       "    <tr>\n",
       "      <th>2</th>\n",
       "      <td>2261212</td>\n",
       "      <td>26683</td>\n",
       "      <td>1.0</td>\n",
       "      <td>1</td>\n",
       "    </tr>\n",
       "    <tr>\n",
       "      <th>3</th>\n",
       "      <td>491251</td>\n",
       "      <td>8670</td>\n",
       "      <td>35.0</td>\n",
       "      <td>1</td>\n",
       "    </tr>\n",
       "    <tr>\n",
       "      <th>4</th>\n",
       "      <td>2571142</td>\n",
       "      <td>1940</td>\n",
       "      <td>5.0</td>\n",
       "      <td>1</td>\n",
       "    </tr>\n",
       "  </tbody>\n",
       "</table>\n",
       "</div>"
      ],
      "text/plain": [
       "   order_id  product_id  add_to_cart_order  reordered\n",
       "0   2141543       11440               17.0          0\n",
       "1    567889        1560                1.0          1\n",
       "2   2261212       26683                1.0          1\n",
       "3    491251        8670               35.0          1\n",
       "4   2571142        1940                5.0          1"
      ]
     },
     "metadata": {},
     "output_type": "display_data"
    },
    {
     "data": {
      "text/html": [
       "<div>\n",
       "<style scoped>\n",
       "    .dataframe tbody tr th:only-of-type {\n",
       "        vertical-align: middle;\n",
       "    }\n",
       "\n",
       "    .dataframe tbody tr th {\n",
       "        vertical-align: top;\n",
       "    }\n",
       "\n",
       "    .dataframe thead th {\n",
       "        text-align: right;\n",
       "    }\n",
       "</style>\n",
       "<table border=\"1\" class=\"dataframe\">\n",
       "  <thead>\n",
       "    <tr style=\"text-align: right;\">\n",
       "      <th></th>\n",
       "      <th>aisle_id</th>\n",
       "      <th>aisle</th>\n",
       "    </tr>\n",
       "  </thead>\n",
       "  <tbody>\n",
       "    <tr>\n",
       "      <th>0</th>\n",
       "      <td>1</td>\n",
       "      <td>prepared soups salads</td>\n",
       "    </tr>\n",
       "    <tr>\n",
       "      <th>1</th>\n",
       "      <td>2</td>\n",
       "      <td>specialty cheeses</td>\n",
       "    </tr>\n",
       "    <tr>\n",
       "      <th>2</th>\n",
       "      <td>3</td>\n",
       "      <td>energy granola bars</td>\n",
       "    </tr>\n",
       "    <tr>\n",
       "      <th>3</th>\n",
       "      <td>4</td>\n",
       "      <td>instant foods</td>\n",
       "    </tr>\n",
       "    <tr>\n",
       "      <th>4</th>\n",
       "      <td>5</td>\n",
       "      <td>marinades meat preparation</td>\n",
       "    </tr>\n",
       "  </tbody>\n",
       "</table>\n",
       "</div>"
      ],
      "text/plain": [
       "   aisle_id                       aisle\n",
       "0         1       prepared soups salads\n",
       "1         2           specialty cheeses\n",
       "2         3         energy granola bars\n",
       "3         4               instant foods\n",
       "4         5  marinades meat preparation"
      ]
     },
     "metadata": {},
     "output_type": "display_data"
    },
    {
     "data": {
      "text/html": [
       "<div>\n",
       "<style scoped>\n",
       "    .dataframe tbody tr th:only-of-type {\n",
       "        vertical-align: middle;\n",
       "    }\n",
       "\n",
       "    .dataframe tbody tr th {\n",
       "        vertical-align: top;\n",
       "    }\n",
       "\n",
       "    .dataframe thead th {\n",
       "        text-align: right;\n",
       "    }\n",
       "</style>\n",
       "<table border=\"1\" class=\"dataframe\">\n",
       "  <thead>\n",
       "    <tr style=\"text-align: right;\">\n",
       "      <th></th>\n",
       "      <th>department_id</th>\n",
       "      <th>department</th>\n",
       "    </tr>\n",
       "  </thead>\n",
       "  <tbody>\n",
       "    <tr>\n",
       "      <th>0</th>\n",
       "      <td>1</td>\n",
       "      <td>frozen</td>\n",
       "    </tr>\n",
       "    <tr>\n",
       "      <th>1</th>\n",
       "      <td>2</td>\n",
       "      <td>other</td>\n",
       "    </tr>\n",
       "    <tr>\n",
       "      <th>2</th>\n",
       "      <td>3</td>\n",
       "      <td>bakery</td>\n",
       "    </tr>\n",
       "    <tr>\n",
       "      <th>3</th>\n",
       "      <td>4</td>\n",
       "      <td>produce</td>\n",
       "    </tr>\n",
       "    <tr>\n",
       "      <th>4</th>\n",
       "      <td>5</td>\n",
       "      <td>alcohol</td>\n",
       "    </tr>\n",
       "  </tbody>\n",
       "</table>\n",
       "</div>"
      ],
      "text/plain": [
       "   department_id department\n",
       "0              1     frozen\n",
       "1              2      other\n",
       "2              3     bakery\n",
       "3              4    produce\n",
       "4              5    alcohol"
      ]
     },
     "metadata": {},
     "output_type": "display_data"
    }
   ],
   "source": [
    "# Display the first 5 rows of all the DataFrames\n",
    "display(orders.head())\n",
    "display(products.head())\n",
    "display(orders_products.head())\n",
    "display(aisles.head())\n",
    "display(departments.head())"
   ]
  },
  {
   "cell_type": "markdown",
   "id": "6b59c814",
   "metadata": {},
   "source": [
    "### Shape of all the DataFrames"
   ]
  },
  {
   "cell_type": "code",
   "execution_count": null,
   "id": "f86a2c33",
   "metadata": {},
   "outputs": [
    {
     "name": "stdout",
     "output_type": "stream",
     "text": [
      "The DataFrame has 478967 rows and 6 columns\n"
     ]
    }
   ],
   "source": [
    "# Display the shape of all the DataFrame \n",
    "n_rows, n_cols = orders.shape\n",
    "print(f\"The DataFrame has {n_rows} rows and {n_cols} columns\") "
   ]
  },
  {
   "cell_type": "code",
   "execution_count": null,
   "id": "ad6a1efa",
   "metadata": {},
   "outputs": [
    {
     "name": "stdout",
     "output_type": "stream",
     "text": [
      "The DataFrame has 49694 rows and 4 columns\n"
     ]
    }
   ],
   "source": [
    "# Display the shape of the products DataFrame\n",
    "n_rows, n_cols = products.shape\n",
    "print(f\"The DataFrame has {n_rows} rows and {n_cols} columns\")"
   ]
  },
  {
   "cell_type": "code",
   "execution_count": null,
   "id": "cbfb6d12",
   "metadata": {},
   "outputs": [
    {
     "name": "stdout",
     "output_type": "stream",
     "text": [
      "The DataFrame has 134 rows and 2 columns\n"
     ]
    }
   ],
   "source": [
    "# Display the shape of the aisles DataFrame\n",
    "n_rows, n_cols = aisles.shape\n",
    "print(f\"The DataFrame has {n_rows} rows and {n_cols} columns\") "
   ]
  },
  {
   "cell_type": "code",
   "execution_count": null,
   "id": "0f1e7317",
   "metadata": {},
   "outputs": [
    {
     "name": "stdout",
     "output_type": "stream",
     "text": [
      "The DataFrame has 21 rows and 2 columns\n"
     ]
    }
   ],
   "source": [
    "# Display the shape of the departments DataFrame\n",
    "n_rows, n_cols = departments.shape\n",
    "print(f\"The DataFrame has {n_rows} rows and {n_cols} columns\") "
   ]
  },
  {
   "cell_type": "code",
   "execution_count": null,
   "id": "3dced73c",
   "metadata": {},
   "outputs": [
    {
     "name": "stdout",
     "output_type": "stream",
     "text": [
      "The DataFrame has 4545007 rows and 4 columns\n"
     ]
    }
   ],
   "source": [
    "# Display the shape of the order products DataFrame\n",
    "n_rows, n_cols = orders_products.shape\n",
    "print(f\"The DataFrame has {n_rows} rows and {n_cols} columns\")"
   ]
  },
  {
   "cell_type": "markdown",
   "id": "f2f21e3c",
   "metadata": {},
   "source": [
    "### Informative Summary of all the DataFrames"
   ]
  },
  {
   "cell_type": "code",
   "execution_count": null,
   "id": "b198b090",
   "metadata": {},
   "outputs": [
    {
     "name": "stdout",
     "output_type": "stream",
     "text": [
      "<class 'pandas.core.frame.DataFrame'>\n",
      "RangeIndex: 478967 entries, 0 to 478966\n",
      "Data columns (total 6 columns):\n",
      " #   Column                  Non-Null Count   Dtype  \n",
      "---  ------                  --------------   -----  \n",
      " 0   order_id                478967 non-null  int64  \n",
      " 1   user_id                 478967 non-null  int64  \n",
      " 2   order_number            478967 non-null  int64  \n",
      " 3   order_dow               478967 non-null  int64  \n",
      " 4   order_hour_of_day       478967 non-null  int64  \n",
      " 5   days_since_prior_order  450148 non-null  float64\n",
      "dtypes: float64(1), int64(5)\n",
      "memory usage: 21.9 MB\n"
     ]
    }
   ],
   "source": [
    "# Display informative summary of the 'orders' DataFrame\n",
    "orders.info()"
   ]
  },
  {
   "cell_type": "code",
   "execution_count": null,
   "id": "eff5d9ad",
   "metadata": {},
   "outputs": [
    {
     "name": "stdout",
     "output_type": "stream",
     "text": [
      "<class 'pandas.core.frame.DataFrame'>\n",
      "RangeIndex: 49694 entries, 0 to 49693\n",
      "Data columns (total 4 columns):\n",
      " #   Column         Non-Null Count  Dtype \n",
      "---  ------         --------------  ----- \n",
      " 0   product_id     49694 non-null  int64 \n",
      " 1   product_name   48436 non-null  object\n",
      " 2   aisle_id       49694 non-null  int64 \n",
      " 3   department_id  49694 non-null  int64 \n",
      "dtypes: int64(3), object(1)\n",
      "memory usage: 1.5+ MB\n"
     ]
    }
   ],
   "source": [
    "# Dislay informative summary of the 'products' DataFrame\n",
    "products.info()"
   ]
  },
  {
   "cell_type": "code",
   "execution_count": null,
   "id": "5db8e9e9",
   "metadata": {},
   "outputs": [
    {
     "name": "stdout",
     "output_type": "stream",
     "text": [
      "<class 'pandas.core.frame.DataFrame'>\n",
      "RangeIndex: 134 entries, 0 to 133\n",
      "Data columns (total 2 columns):\n",
      " #   Column    Non-Null Count  Dtype \n",
      "---  ------    --------------  ----- \n",
      " 0   aisle_id  134 non-null    int64 \n",
      " 1   aisle     134 non-null    object\n",
      "dtypes: int64(1), object(1)\n",
      "memory usage: 2.2+ KB\n"
     ]
    }
   ],
   "source": [
    "# Display the informative summary of the 'aisles' DataFrame\n",
    "aisles.info()"
   ]
  },
  {
   "cell_type": "code",
   "execution_count": null,
   "id": "0a76d6e0",
   "metadata": {},
   "outputs": [
    {
     "name": "stdout",
     "output_type": "stream",
     "text": [
      "<class 'pandas.core.frame.DataFrame'>\n",
      "RangeIndex: 21 entries, 0 to 20\n",
      "Data columns (total 2 columns):\n",
      " #   Column         Non-Null Count  Dtype \n",
      "---  ------         --------------  ----- \n",
      " 0   department_id  21 non-null     int64 \n",
      " 1   department     21 non-null     object\n",
      "dtypes: int64(1), object(1)\n",
      "memory usage: 468.0+ bytes\n"
     ]
    }
   ],
   "source": [
    "# Display the informative summary of the 'departments' DataFrame\n",
    "departments.info()"
   ]
  },
  {
   "cell_type": "code",
   "execution_count": null,
   "id": "a2c4b557",
   "metadata": {},
   "outputs": [
    {
     "name": "stdout",
     "output_type": "stream",
     "text": [
      "<class 'pandas.core.frame.DataFrame'>\n",
      "RangeIndex: 4545007 entries, 0 to 4545006\n",
      "Data columns (total 4 columns):\n",
      " #   Column             Non-Null Count    Dtype  \n",
      "---  ------             --------------    -----  \n",
      " 0   order_id           4545007 non-null  int64  \n",
      " 1   product_id         4545007 non-null  int64  \n",
      " 2   add_to_cart_order  4544171 non-null  float64\n",
      " 3   reordered          4545007 non-null  int64  \n",
      "dtypes: float64(1), int64(3)\n",
      "memory usage: 138.7 MB\n"
     ]
    }
   ],
   "source": [
    "# Display the informative summary of the 'orders_products' DataFrame\n",
    "# Had to include show_counts = True to print the non-null counts as 'orders_products' has too many rows of data. \n",
    "orders_products.info(show_counts = True)"
   ]
  },
  {
   "cell_type": "markdown",
   "id": "aac8793a",
   "metadata": {},
   "source": [
    "### Descriptive Statistics of all the DataFrames"
   ]
  },
  {
   "cell_type": "code",
   "execution_count": null,
   "id": "a3a9a32c",
   "metadata": {},
   "outputs": [
    {
     "data": {
      "text/html": [
       "<div>\n",
       "<style scoped>\n",
       "    .dataframe tbody tr th:only-of-type {\n",
       "        vertical-align: middle;\n",
       "    }\n",
       "\n",
       "    .dataframe tbody tr th {\n",
       "        vertical-align: top;\n",
       "    }\n",
       "\n",
       "    .dataframe thead th {\n",
       "        text-align: right;\n",
       "    }\n",
       "</style>\n",
       "<table border=\"1\" class=\"dataframe\">\n",
       "  <thead>\n",
       "    <tr style=\"text-align: right;\">\n",
       "      <th></th>\n",
       "      <th>order_id</th>\n",
       "      <th>user_id</th>\n",
       "      <th>order_number</th>\n",
       "      <th>order_dow</th>\n",
       "      <th>order_hour_of_day</th>\n",
       "      <th>days_since_prior_order</th>\n",
       "    </tr>\n",
       "  </thead>\n",
       "  <tbody>\n",
       "    <tr>\n",
       "      <th>count</th>\n",
       "      <td>4.789670e+05</td>\n",
       "      <td>478967.000000</td>\n",
       "      <td>478967.000000</td>\n",
       "      <td>478967.000000</td>\n",
       "      <td>478967.000000</td>\n",
       "      <td>450148.000000</td>\n",
       "    </tr>\n",
       "    <tr>\n",
       "      <th>mean</th>\n",
       "      <td>1.709947e+06</td>\n",
       "      <td>102966.537475</td>\n",
       "      <td>17.157808</td>\n",
       "      <td>2.775058</td>\n",
       "      <td>13.446676</td>\n",
       "      <td>11.101751</td>\n",
       "    </tr>\n",
       "    <tr>\n",
       "      <th>std</th>\n",
       "      <td>9.869480e+05</td>\n",
       "      <td>59525.328991</td>\n",
       "      <td>17.704688</td>\n",
       "      <td>2.045869</td>\n",
       "      <td>4.224986</td>\n",
       "      <td>9.189975</td>\n",
       "    </tr>\n",
       "    <tr>\n",
       "      <th>min</th>\n",
       "      <td>4.000000e+00</td>\n",
       "      <td>2.000000</td>\n",
       "      <td>1.000000</td>\n",
       "      <td>0.000000</td>\n",
       "      <td>0.000000</td>\n",
       "      <td>0.000000</td>\n",
       "    </tr>\n",
       "    <tr>\n",
       "      <th>25%</th>\n",
       "      <td>8.564685e+05</td>\n",
       "      <td>51414.000000</td>\n",
       "      <td>5.000000</td>\n",
       "      <td>1.000000</td>\n",
       "      <td>10.000000</td>\n",
       "      <td>4.000000</td>\n",
       "    </tr>\n",
       "    <tr>\n",
       "      <th>50%</th>\n",
       "      <td>1.709522e+06</td>\n",
       "      <td>102633.000000</td>\n",
       "      <td>11.000000</td>\n",
       "      <td>3.000000</td>\n",
       "      <td>13.000000</td>\n",
       "      <td>7.000000</td>\n",
       "    </tr>\n",
       "    <tr>\n",
       "      <th>75%</th>\n",
       "      <td>2.562990e+06</td>\n",
       "      <td>154419.000000</td>\n",
       "      <td>23.000000</td>\n",
       "      <td>5.000000</td>\n",
       "      <td>16.000000</td>\n",
       "      <td>15.000000</td>\n",
       "    </tr>\n",
       "    <tr>\n",
       "      <th>max</th>\n",
       "      <td>3.421079e+06</td>\n",
       "      <td>206209.000000</td>\n",
       "      <td>100.000000</td>\n",
       "      <td>6.000000</td>\n",
       "      <td>23.000000</td>\n",
       "      <td>30.000000</td>\n",
       "    </tr>\n",
       "  </tbody>\n",
       "</table>\n",
       "</div>"
      ],
      "text/plain": [
       "           order_id        user_id   order_number      order_dow  \\\n",
       "count  4.789670e+05  478967.000000  478967.000000  478967.000000   \n",
       "mean   1.709947e+06  102966.537475      17.157808       2.775058   \n",
       "std    9.869480e+05   59525.328991      17.704688       2.045869   \n",
       "min    4.000000e+00       2.000000       1.000000       0.000000   \n",
       "25%    8.564685e+05   51414.000000       5.000000       1.000000   \n",
       "50%    1.709522e+06  102633.000000      11.000000       3.000000   \n",
       "75%    2.562990e+06  154419.000000      23.000000       5.000000   \n",
       "max    3.421079e+06  206209.000000     100.000000       6.000000   \n",
       "\n",
       "       order_hour_of_day  days_since_prior_order  \n",
       "count      478967.000000           450148.000000  \n",
       "mean           13.446676               11.101751  \n",
       "std             4.224986                9.189975  \n",
       "min             0.000000                0.000000  \n",
       "25%            10.000000                4.000000  \n",
       "50%            13.000000                7.000000  \n",
       "75%            16.000000               15.000000  \n",
       "max            23.000000               30.000000  "
      ]
     },
     "execution_count": 204,
     "metadata": {},
     "output_type": "execute_result"
    }
   ],
   "source": [
    "# Display descriptive statistics of the 'orders' DataFrame\n",
    "orders.describe()"
   ]
  },
  {
   "cell_type": "code",
   "execution_count": null,
   "id": "d4073750",
   "metadata": {},
   "outputs": [
    {
     "data": {
      "text/html": [
       "<div>\n",
       "<style scoped>\n",
       "    .dataframe tbody tr th:only-of-type {\n",
       "        vertical-align: middle;\n",
       "    }\n",
       "\n",
       "    .dataframe tbody tr th {\n",
       "        vertical-align: top;\n",
       "    }\n",
       "\n",
       "    .dataframe thead th {\n",
       "        text-align: right;\n",
       "    }\n",
       "</style>\n",
       "<table border=\"1\" class=\"dataframe\">\n",
       "  <thead>\n",
       "    <tr style=\"text-align: right;\">\n",
       "      <th></th>\n",
       "      <th>product_id</th>\n",
       "      <th>aisle_id</th>\n",
       "      <th>department_id</th>\n",
       "    </tr>\n",
       "  </thead>\n",
       "  <tbody>\n",
       "    <tr>\n",
       "      <th>count</th>\n",
       "      <td>49694.000000</td>\n",
       "      <td>49694.000000</td>\n",
       "      <td>49694.000000</td>\n",
       "    </tr>\n",
       "    <tr>\n",
       "      <th>mean</th>\n",
       "      <td>24847.500000</td>\n",
       "      <td>67.773192</td>\n",
       "      <td>11.728478</td>\n",
       "    </tr>\n",
       "    <tr>\n",
       "      <th>std</th>\n",
       "      <td>14345.566475</td>\n",
       "      <td>38.317265</td>\n",
       "      <td>5.850314</td>\n",
       "    </tr>\n",
       "    <tr>\n",
       "      <th>min</th>\n",
       "      <td>1.000000</td>\n",
       "      <td>1.000000</td>\n",
       "      <td>1.000000</td>\n",
       "    </tr>\n",
       "    <tr>\n",
       "      <th>25%</th>\n",
       "      <td>12424.250000</td>\n",
       "      <td>35.000000</td>\n",
       "      <td>7.000000</td>\n",
       "    </tr>\n",
       "    <tr>\n",
       "      <th>50%</th>\n",
       "      <td>24847.500000</td>\n",
       "      <td>69.000000</td>\n",
       "      <td>13.000000</td>\n",
       "    </tr>\n",
       "    <tr>\n",
       "      <th>75%</th>\n",
       "      <td>37270.750000</td>\n",
       "      <td>100.000000</td>\n",
       "      <td>17.000000</td>\n",
       "    </tr>\n",
       "    <tr>\n",
       "      <th>max</th>\n",
       "      <td>49694.000000</td>\n",
       "      <td>134.000000</td>\n",
       "      <td>21.000000</td>\n",
       "    </tr>\n",
       "  </tbody>\n",
       "</table>\n",
       "</div>"
      ],
      "text/plain": [
       "         product_id      aisle_id  department_id\n",
       "count  49694.000000  49694.000000   49694.000000\n",
       "mean   24847.500000     67.773192      11.728478\n",
       "std    14345.566475     38.317265       5.850314\n",
       "min        1.000000      1.000000       1.000000\n",
       "25%    12424.250000     35.000000       7.000000\n",
       "50%    24847.500000     69.000000      13.000000\n",
       "75%    37270.750000    100.000000      17.000000\n",
       "max    49694.000000    134.000000      21.000000"
      ]
     },
     "execution_count": 205,
     "metadata": {},
     "output_type": "execute_result"
    }
   ],
   "source": [
    "# Display descriptive statistics of the 'products' DataFrame\n",
    "products.describe()"
   ]
  },
  {
   "cell_type": "code",
   "execution_count": null,
   "id": "8d632c53",
   "metadata": {},
   "outputs": [
    {
     "data": {
      "text/html": [
       "<div>\n",
       "<style scoped>\n",
       "    .dataframe tbody tr th:only-of-type {\n",
       "        vertical-align: middle;\n",
       "    }\n",
       "\n",
       "    .dataframe tbody tr th {\n",
       "        vertical-align: top;\n",
       "    }\n",
       "\n",
       "    .dataframe thead th {\n",
       "        text-align: right;\n",
       "    }\n",
       "</style>\n",
       "<table border=\"1\" class=\"dataframe\">\n",
       "  <thead>\n",
       "    <tr style=\"text-align: right;\">\n",
       "      <th></th>\n",
       "      <th>aisle_id</th>\n",
       "    </tr>\n",
       "  </thead>\n",
       "  <tbody>\n",
       "    <tr>\n",
       "      <th>count</th>\n",
       "      <td>134.000000</td>\n",
       "    </tr>\n",
       "    <tr>\n",
       "      <th>mean</th>\n",
       "      <td>67.500000</td>\n",
       "    </tr>\n",
       "    <tr>\n",
       "      <th>std</th>\n",
       "      <td>38.826537</td>\n",
       "    </tr>\n",
       "    <tr>\n",
       "      <th>min</th>\n",
       "      <td>1.000000</td>\n",
       "    </tr>\n",
       "    <tr>\n",
       "      <th>25%</th>\n",
       "      <td>34.250000</td>\n",
       "    </tr>\n",
       "    <tr>\n",
       "      <th>50%</th>\n",
       "      <td>67.500000</td>\n",
       "    </tr>\n",
       "    <tr>\n",
       "      <th>75%</th>\n",
       "      <td>100.750000</td>\n",
       "    </tr>\n",
       "    <tr>\n",
       "      <th>max</th>\n",
       "      <td>134.000000</td>\n",
       "    </tr>\n",
       "  </tbody>\n",
       "</table>\n",
       "</div>"
      ],
      "text/plain": [
       "         aisle_id\n",
       "count  134.000000\n",
       "mean    67.500000\n",
       "std     38.826537\n",
       "min      1.000000\n",
       "25%     34.250000\n",
       "50%     67.500000\n",
       "75%    100.750000\n",
       "max    134.000000"
      ]
     },
     "execution_count": 206,
     "metadata": {},
     "output_type": "execute_result"
    }
   ],
   "source": [
    "# Display the descriptive statistics of the 'aisles' DataFrame\n",
    "aisles.describe()"
   ]
  },
  {
   "cell_type": "code",
   "execution_count": null,
   "id": "98f9ddb4",
   "metadata": {},
   "outputs": [
    {
     "data": {
      "text/html": [
       "<div>\n",
       "<style scoped>\n",
       "    .dataframe tbody tr th:only-of-type {\n",
       "        vertical-align: middle;\n",
       "    }\n",
       "\n",
       "    .dataframe tbody tr th {\n",
       "        vertical-align: top;\n",
       "    }\n",
       "\n",
       "    .dataframe thead th {\n",
       "        text-align: right;\n",
       "    }\n",
       "</style>\n",
       "<table border=\"1\" class=\"dataframe\">\n",
       "  <thead>\n",
       "    <tr style=\"text-align: right;\">\n",
       "      <th></th>\n",
       "      <th>department_id</th>\n",
       "    </tr>\n",
       "  </thead>\n",
       "  <tbody>\n",
       "    <tr>\n",
       "      <th>count</th>\n",
       "      <td>21.000000</td>\n",
       "    </tr>\n",
       "    <tr>\n",
       "      <th>mean</th>\n",
       "      <td>11.000000</td>\n",
       "    </tr>\n",
       "    <tr>\n",
       "      <th>std</th>\n",
       "      <td>6.204837</td>\n",
       "    </tr>\n",
       "    <tr>\n",
       "      <th>min</th>\n",
       "      <td>1.000000</td>\n",
       "    </tr>\n",
       "    <tr>\n",
       "      <th>25%</th>\n",
       "      <td>6.000000</td>\n",
       "    </tr>\n",
       "    <tr>\n",
       "      <th>50%</th>\n",
       "      <td>11.000000</td>\n",
       "    </tr>\n",
       "    <tr>\n",
       "      <th>75%</th>\n",
       "      <td>16.000000</td>\n",
       "    </tr>\n",
       "    <tr>\n",
       "      <th>max</th>\n",
       "      <td>21.000000</td>\n",
       "    </tr>\n",
       "  </tbody>\n",
       "</table>\n",
       "</div>"
      ],
      "text/plain": [
       "       department_id\n",
       "count      21.000000\n",
       "mean       11.000000\n",
       "std         6.204837\n",
       "min         1.000000\n",
       "25%         6.000000\n",
       "50%        11.000000\n",
       "75%        16.000000\n",
       "max        21.000000"
      ]
     },
     "execution_count": 207,
     "metadata": {},
     "output_type": "execute_result"
    }
   ],
   "source": [
    "# Display the descriptive statistics of the 'departments' DataFrame\n",
    "departments.describe()"
   ]
  },
  {
   "cell_type": "code",
   "execution_count": null,
   "id": "e1ff4cb4",
   "metadata": {},
   "outputs": [
    {
     "data": {
      "text/html": [
       "<div>\n",
       "<style scoped>\n",
       "    .dataframe tbody tr th:only-of-type {\n",
       "        vertical-align: middle;\n",
       "    }\n",
       "\n",
       "    .dataframe tbody tr th {\n",
       "        vertical-align: top;\n",
       "    }\n",
       "\n",
       "    .dataframe thead th {\n",
       "        text-align: right;\n",
       "    }\n",
       "</style>\n",
       "<table border=\"1\" class=\"dataframe\">\n",
       "  <thead>\n",
       "    <tr style=\"text-align: right;\">\n",
       "      <th></th>\n",
       "      <th>order_id</th>\n",
       "      <th>product_id</th>\n",
       "      <th>add_to_cart_order</th>\n",
       "      <th>reordered</th>\n",
       "    </tr>\n",
       "  </thead>\n",
       "  <tbody>\n",
       "    <tr>\n",
       "      <th>count</th>\n",
       "      <td>4.545007e+06</td>\n",
       "      <td>4.545007e+06</td>\n",
       "      <td>4.544171e+06</td>\n",
       "      <td>4.545007e+06</td>\n",
       "    </tr>\n",
       "    <tr>\n",
       "      <th>mean</th>\n",
       "      <td>1.711166e+06</td>\n",
       "      <td>2.558084e+04</td>\n",
       "      <td>8.351669e+00</td>\n",
       "      <td>5.905025e-01</td>\n",
       "    </tr>\n",
       "    <tr>\n",
       "      <th>std</th>\n",
       "      <td>9.850955e+05</td>\n",
       "      <td>1.409552e+04</td>\n",
       "      <td>7.080368e+00</td>\n",
       "      <td>4.917411e-01</td>\n",
       "    </tr>\n",
       "    <tr>\n",
       "      <th>min</th>\n",
       "      <td>4.000000e+00</td>\n",
       "      <td>1.000000e+00</td>\n",
       "      <td>1.000000e+00</td>\n",
       "      <td>0.000000e+00</td>\n",
       "    </tr>\n",
       "    <tr>\n",
       "      <th>25%</th>\n",
       "      <td>8.608170e+05</td>\n",
       "      <td>1.353500e+04</td>\n",
       "      <td>3.000000e+00</td>\n",
       "      <td>0.000000e+00</td>\n",
       "    </tr>\n",
       "    <tr>\n",
       "      <th>50%</th>\n",
       "      <td>1.711530e+06</td>\n",
       "      <td>2.527200e+04</td>\n",
       "      <td>6.000000e+00</td>\n",
       "      <td>1.000000e+00</td>\n",
       "    </tr>\n",
       "    <tr>\n",
       "      <th>75%</th>\n",
       "      <td>2.561311e+06</td>\n",
       "      <td>3.793500e+04</td>\n",
       "      <td>1.100000e+01</td>\n",
       "      <td>1.000000e+00</td>\n",
       "    </tr>\n",
       "    <tr>\n",
       "      <th>max</th>\n",
       "      <td>3.421079e+06</td>\n",
       "      <td>4.969400e+04</td>\n",
       "      <td>6.400000e+01</td>\n",
       "      <td>1.000000e+00</td>\n",
       "    </tr>\n",
       "  </tbody>\n",
       "</table>\n",
       "</div>"
      ],
      "text/plain": [
       "           order_id    product_id  add_to_cart_order     reordered\n",
       "count  4.545007e+06  4.545007e+06       4.544171e+06  4.545007e+06\n",
       "mean   1.711166e+06  2.558084e+04       8.351669e+00  5.905025e-01\n",
       "std    9.850955e+05  1.409552e+04       7.080368e+00  4.917411e-01\n",
       "min    4.000000e+00  1.000000e+00       1.000000e+00  0.000000e+00\n",
       "25%    8.608170e+05  1.353500e+04       3.000000e+00  0.000000e+00\n",
       "50%    1.711530e+06  2.527200e+04       6.000000e+00  1.000000e+00\n",
       "75%    2.561311e+06  3.793500e+04       1.100000e+01  1.000000e+00\n",
       "max    3.421079e+06  4.969400e+04       6.400000e+01  1.000000e+00"
      ]
     },
     "execution_count": 208,
     "metadata": {},
     "output_type": "execute_result"
    }
   ],
   "source": [
    "# Dislay descriptive statistics of the 'orders_products' DataFrame\n",
    "orders_products.describe()"
   ]
  },
  {
   "cell_type": "markdown",
   "id": "07357848-dc64-4156-9cc3-01ff4365226d",
   "metadata": {},
   "source": [
    "### Duplicates "
   ]
  },
  {
   "cell_type": "markdown",
   "id": "f179f0a9",
   "metadata": {},
   "source": [
    "#### `orders` DataFrame"
   ]
  },
  {
   "cell_type": "code",
   "execution_count": null,
   "id": "b99297a5-405a-463d-8535-9adc3da4ad74",
   "metadata": {},
   "outputs": [
    {
     "name": "stdout",
     "output_type": "stream",
     "text": [
      "Number of duplicated orders: 15\n"
     ]
    }
   ],
   "source": [
    "# Check for duplicated orders\n",
    "duplicated_orders = orders[orders.duplicated()]\n",
    "print(f\"Number of duplicated orders: {duplicated_orders.shape[0]}\")"
   ]
  },
  {
   "cell_type": "code",
   "execution_count": null,
   "id": "0d44de5d",
   "metadata": {},
   "outputs": [
    {
     "name": "stdout",
     "output_type": "stream",
     "text": [
      "Number of order duplicates placed on Wednesday at 2:00 AM: 121\n"
     ]
    }
   ],
   "source": [
    "# Check for all orders placed Wednesday at 2:00 AM\n",
    "Wed_2am = orders[(orders['order_dow'] == 3) & (orders['order_hour_of_day'] == 2)]\n",
    "print(f\"Number of order duplicates placed on Wednesday at 2:00 AM: {Wed_2am.shape[0]}\")"
   ]
  },
  {
   "cell_type": "code",
   "execution_count": null,
   "id": "480563c7",
   "metadata": {},
   "outputs": [],
   "source": [
    "# Remove duplicate orders\n",
    "orders = orders.drop_duplicates()"
   ]
  },
  {
   "cell_type": "code",
   "execution_count": null,
   "id": "0b2396a2",
   "metadata": {},
   "outputs": [
    {
     "name": "stdout",
     "output_type": "stream",
     "text": [
      "Number of duplicate rows: 0\n"
     ]
    }
   ],
   "source": [
    "# Double check for duplicate rows\n",
    "no_duplicate_rows = orders[orders.duplicated()]\n",
    "print(f\"Number of duplicate rows: {no_duplicate_rows.shape[0]}\")"
   ]
  },
  {
   "cell_type": "code",
   "execution_count": null,
   "id": "f6113ef1",
   "metadata": {},
   "outputs": [
    {
     "name": "stdout",
     "output_type": "stream",
     "text": [
      "Number of duplicate order IDs: 0\n"
     ]
    }
   ],
   "source": [
    "# Double check for duplicate order IDs only\n",
    "no_do_ids = orders[orders.duplicated(subset='order_id')]\n",
    "print(f\"Number of duplicate order IDs: {no_do_ids.shape[0]}\")"
   ]
  },
  {
   "cell_type": "markdown",
   "id": "45e6bc46",
   "metadata": {},
   "source": [
    "#### `products` DataFrame"
   ]
  },
  {
   "cell_type": "code",
   "execution_count": null,
   "id": "5f526b5b-8175-46fa-a0fd-441767d50e64",
   "metadata": {},
   "outputs": [
    {
     "name": "stdout",
     "output_type": "stream",
     "text": [
      "Number of duplicated products: 0\n"
     ]
    }
   ],
   "source": [
    "# Check for fully duplicate rows\n",
    "duplicated_products = products[products.duplicated()]\n",
    "print(f\"Number of duplicated products: {duplicated_products.shape[0]}\")"
   ]
  },
  {
   "cell_type": "code",
   "execution_count": null,
   "id": "88daa4f4",
   "metadata": {},
   "outputs": [
    {
     "name": "stdout",
     "output_type": "stream",
     "text": [
      "Number of duplicate product IDs: 0\n"
     ]
    }
   ],
   "source": [
    "# Check for just duplicate product IDs\n",
    "dp_ids = products[products.duplicated(subset='product_id')]\n",
    "print(f\"Number of duplicate product IDs: {dp_ids.shape[0]}\")"
   ]
  },
  {
   "cell_type": "code",
   "execution_count": null,
   "id": "c773f0bf",
   "metadata": {},
   "outputs": [
    {
     "name": "stdout",
     "output_type": "stream",
     "text": [
      "Number of duplicate product names: 1361\n"
     ]
    }
   ],
   "source": [
    "# Check for just duplicate product names (convert names to lowercase to compare better)\n",
    "products['lowercase_product_name'] = products['product_name'].str.lower()\n",
    "\n",
    "# Check for duplicate product names\n",
    "duplicate_product_names = products[products.duplicated(subset='lowercase_product_name')]\n",
    "print(f\"Number of duplicate product names: {duplicate_product_names.shape[0]}\")"
   ]
  },
  {
   "cell_type": "code",
   "execution_count": null,
   "id": "01efd02e",
   "metadata": {},
   "outputs": [
    {
     "name": "stdout",
     "output_type": "stream",
     "text": [
      "Number of duplicate product names that aren't missing: 104\n"
     ]
    },
    {
     "data": {
      "text/html": [
       "<div>\n",
       "<style scoped>\n",
       "    .dataframe tbody tr th:only-of-type {\n",
       "        vertical-align: middle;\n",
       "    }\n",
       "\n",
       "    .dataframe tbody tr th {\n",
       "        vertical-align: top;\n",
       "    }\n",
       "\n",
       "    .dataframe thead th {\n",
       "        text-align: right;\n",
       "    }\n",
       "</style>\n",
       "<table border=\"1\" class=\"dataframe\">\n",
       "  <thead>\n",
       "    <tr style=\"text-align: right;\">\n",
       "      <th></th>\n",
       "      <th>product_id</th>\n",
       "      <th>product_name</th>\n",
       "      <th>aisle_id</th>\n",
       "      <th>department_id</th>\n",
       "      <th>lowercase_product_name</th>\n",
       "    </tr>\n",
       "  </thead>\n",
       "  <tbody>\n",
       "    <tr>\n",
       "      <th>2058</th>\n",
       "      <td>2059</td>\n",
       "      <td>Biotin 1000 Mcg</td>\n",
       "      <td>47</td>\n",
       "      <td>11</td>\n",
       "      <td>biotin 1000 mcg</td>\n",
       "    </tr>\n",
       "    <tr>\n",
       "      <th>5455</th>\n",
       "      <td>5456</td>\n",
       "      <td>Green Tea With Ginseng and Honey</td>\n",
       "      <td>96</td>\n",
       "      <td>20</td>\n",
       "      <td>green tea with ginseng and honey</td>\n",
       "    </tr>\n",
       "    <tr>\n",
       "      <th>5558</th>\n",
       "      <td>5559</td>\n",
       "      <td>Cream Of Mushroom Soup</td>\n",
       "      <td>69</td>\n",
       "      <td>15</td>\n",
       "      <td>cream of mushroom soup</td>\n",
       "    </tr>\n",
       "    <tr>\n",
       "      <th>7558</th>\n",
       "      <td>7559</td>\n",
       "      <td>Cinnamon Rolls with Icing</td>\n",
       "      <td>105</td>\n",
       "      <td>13</td>\n",
       "      <td>cinnamon rolls with icing</td>\n",
       "    </tr>\n",
       "    <tr>\n",
       "      <th>9037</th>\n",
       "      <td>9038</td>\n",
       "      <td>American Cheese slices</td>\n",
       "      <td>21</td>\n",
       "      <td>16</td>\n",
       "      <td>american cheese slices</td>\n",
       "    </tr>\n",
       "  </tbody>\n",
       "</table>\n",
       "</div>"
      ],
      "text/plain": [
       "      product_id                      product_name  aisle_id  department_id  \\\n",
       "2058        2059                   Biotin 1000 Mcg        47             11   \n",
       "5455        5456  Green Tea With Ginseng and Honey        96             20   \n",
       "5558        5559            Cream Of Mushroom Soup        69             15   \n",
       "7558        7559         Cinnamon Rolls with Icing       105             13   \n",
       "9037        9038            American Cheese slices        21             16   \n",
       "\n",
       "                lowercase_product_name  \n",
       "2058                   biotin 1000 mcg  \n",
       "5455  green tea with ginseng and honey  \n",
       "5558            cream of mushroom soup  \n",
       "7558         cinnamon rolls with icing  \n",
       "9037            american cheese slices  "
      ]
     },
     "metadata": {},
     "output_type": "display_data"
    }
   ],
   "source": [
    "# Check for duplicate product names that aren't missing\n",
    "product_names_not_missing = products.dropna(subset=['lowercase_product_name'])\n",
    "\n",
    "duplicate_product_names_not_missing = product_names_not_missing[product_names_not_missing['lowercase_product_name'].duplicated()]\n",
    "\n",
    "print(f\"Number of duplicate product names that aren't missing: {duplicate_product_names_not_missing.shape[0]}\")\n",
    "display(duplicate_product_names_not_missing.head())"
   ]
  },
  {
   "cell_type": "markdown",
   "id": "e455651c",
   "metadata": {},
   "source": [
    "One thing that can be said about the product name duplicates that aren't missing is that those duplicates are exact duplicates and so they can affect the findings or interpretations of the data."
   ]
  },
  {
   "cell_type": "markdown",
   "id": "60f30db1",
   "metadata": {},
   "source": [
    "#### `departments` DataFrame"
   ]
  },
  {
   "cell_type": "code",
   "execution_count": null,
   "id": "fb410ad4-0fbf-4b80-bb09-23fdea79afe3",
   "metadata": {
    "scrolled": false
   },
   "outputs": [
    {
     "name": "stdout",
     "output_type": "stream",
     "text": [
      "Number of duplicate departments: 0\n"
     ]
    }
   ],
   "source": [
    "duplicate_departments = departments[departments.duplicated()]\n",
    "print(f\"Number of duplicate departments: {duplicate_departments.shape[0]}\")"
   ]
  },
  {
   "cell_type": "code",
   "execution_count": null,
   "id": "50837cee",
   "metadata": {},
   "outputs": [
    {
     "name": "stdout",
     "output_type": "stream",
     "text": [
      "Number of duplicate departments: 0\n"
     ]
    }
   ],
   "source": [
    "department_id_duplicate = departments[departments.duplicated(subset='department_id')]\n",
    "print(f\"Number of duplicate departments: {department_id_duplicate.shape[0]}\")"
   ]
  },
  {
   "cell_type": "markdown",
   "id": "889349c1",
   "metadata": {},
   "source": [
    "#### `aisles` DataFrame"
   ]
  },
  {
   "cell_type": "code",
   "execution_count": null,
   "id": "9da89fb9-4679-40f5-ad0d-c34df753a3f8",
   "metadata": {
    "scrolled": true
   },
   "outputs": [
    {
     "name": "stdout",
     "output_type": "stream",
     "text": [
      "Number of duplicate aisles: 0\n"
     ]
    }
   ],
   "source": [
    "duplicate_aisles = aisles[aisles.duplicated()]\n",
    "print(f\"Number of duplicate aisles: {duplicate_aisles.shape[0]}\")"
   ]
  },
  {
   "cell_type": "code",
   "execution_count": null,
   "id": "e6698a74",
   "metadata": {},
   "outputs": [
    {
     "name": "stdout",
     "output_type": "stream",
     "text": [
      "Number of duplicate aisles: 0\n"
     ]
    }
   ],
   "source": [
    "duplicate_aisles_id = aisles[aisles.duplicated(subset='aisle_id')]\n",
    "print(f\"Number of duplicate aisles: {duplicate_aisles_id.shape[0]}\")"
   ]
  },
  {
   "cell_type": "markdown",
   "id": "274cd06a",
   "metadata": {},
   "source": [
    "#### `orders_products` DataFrame"
   ]
  },
  {
   "cell_type": "code",
   "execution_count": null,
   "id": "52326689-84a8-4b8f-a881-7c68780f62c9",
   "metadata": {},
   "outputs": [
    {
     "name": "stdout",
     "output_type": "stream",
     "text": [
      "Number of duplicate order products: 0\n"
     ]
    }
   ],
   "source": [
    "# Check for fullly duplicate rows\n",
    "duplicate_order_products = orders_products[orders_products.duplicated()]\n",
    "print(f\"Number of duplicate order products: {duplicate_order_products.shape[0]}\")"
   ]
  },
  {
   "cell_type": "code",
   "execution_count": null,
   "id": "7b861391",
   "metadata": {},
   "outputs": [
    {
     "name": "stdout",
     "output_type": "stream",
     "text": [
      "Number of duplicate order products: 0\n"
     ]
    }
   ],
   "source": [
    "# Double check for any other tricky duplicates\n",
    "# Check for fully duplicate rows\n",
    "duplicate_order_products = orders_products[orders_products.duplicated(subset=['order_id','product_id'])]\n",
    "print(f\"Number of duplicate order products: {duplicate_order_products.shape[0]}\")"
   ]
  },
  {
   "cell_type": "markdown",
   "id": "1e46de76",
   "metadata": {},
   "source": [
    "### Missing values\n"
   ]
  },
  {
   "cell_type": "markdown",
   "id": "109036e0",
   "metadata": {},
   "source": [
    "#### `products` DataFrame"
   ]
  },
  {
   "cell_type": "code",
   "execution_count": null,
   "id": "fe4a8b0f",
   "metadata": {},
   "outputs": [
    {
     "name": "stdout",
     "output_type": "stream",
     "text": [
      "product_id                   0\n",
      "product_name              1258\n",
      "aisle_id                     0\n",
      "department_id                0\n",
      "lowercase_product_name    1258\n",
      "dtype: int64\n"
     ]
    }
   ],
   "source": [
    "# Check for missing values \n",
    "print(products.isna().sum())"
   ]
  },
  {
   "cell_type": "code",
   "execution_count": null,
   "id": "e96167bc",
   "metadata": {},
   "outputs": [
    {
     "data": {
      "text/plain": [
       "'Yes, there are missing product names associated with aisle ID 100.'"
      ]
     },
     "metadata": {},
     "output_type": "display_data"
    },
    {
     "data": {
      "text/html": [
       "<div>\n",
       "<style scoped>\n",
       "    .dataframe tbody tr th:only-of-type {\n",
       "        vertical-align: middle;\n",
       "    }\n",
       "\n",
       "    .dataframe tbody tr th {\n",
       "        vertical-align: top;\n",
       "    }\n",
       "\n",
       "    .dataframe thead th {\n",
       "        text-align: right;\n",
       "    }\n",
       "</style>\n",
       "<table border=\"1\" class=\"dataframe\">\n",
       "  <thead>\n",
       "    <tr style=\"text-align: right;\">\n",
       "      <th></th>\n",
       "      <th>product_id</th>\n",
       "      <th>product_name</th>\n",
       "      <th>aisle_id</th>\n",
       "      <th>department_id</th>\n",
       "      <th>lowercase_product_name</th>\n",
       "    </tr>\n",
       "  </thead>\n",
       "  <tbody>\n",
       "    <tr>\n",
       "      <th>37</th>\n",
       "      <td>38</td>\n",
       "      <td>NaN</td>\n",
       "      <td>100</td>\n",
       "      <td>21</td>\n",
       "      <td>NaN</td>\n",
       "    </tr>\n",
       "    <tr>\n",
       "      <th>71</th>\n",
       "      <td>72</td>\n",
       "      <td>NaN</td>\n",
       "      <td>100</td>\n",
       "      <td>21</td>\n",
       "      <td>NaN</td>\n",
       "    </tr>\n",
       "    <tr>\n",
       "      <th>109</th>\n",
       "      <td>110</td>\n",
       "      <td>NaN</td>\n",
       "      <td>100</td>\n",
       "      <td>21</td>\n",
       "      <td>NaN</td>\n",
       "    </tr>\n",
       "    <tr>\n",
       "      <th>296</th>\n",
       "      <td>297</td>\n",
       "      <td>NaN</td>\n",
       "      <td>100</td>\n",
       "      <td>21</td>\n",
       "      <td>NaN</td>\n",
       "    </tr>\n",
       "    <tr>\n",
       "      <th>416</th>\n",
       "      <td>417</td>\n",
       "      <td>NaN</td>\n",
       "      <td>100</td>\n",
       "      <td>21</td>\n",
       "      <td>NaN</td>\n",
       "    </tr>\n",
       "  </tbody>\n",
       "</table>\n",
       "</div>"
      ],
      "text/plain": [
       "     product_id product_name  aisle_id  department_id lowercase_product_name\n",
       "37           38          NaN       100             21                    NaN\n",
       "71           72          NaN       100             21                    NaN\n",
       "109         110          NaN       100             21                    NaN\n",
       "296         297          NaN       100             21                    NaN\n",
       "416         417          NaN       100             21                    NaN"
      ]
     },
     "metadata": {},
     "output_type": "display_data"
    }
   ],
   "source": [
    "# Are all of the missing product names associated with aisle ID 100?\n",
    "missing_product_names = products[products['product_name'].isna()]\n",
    "missing_with_aisle_id_100 = missing_product_names['aisle_id'] == 100\n",
    "\n",
    "if missing_with_aisle_id_100.any():\n",
    "    display(\"Yes, there are missing product names associated with aisle ID 100.\")\n",
    "    display(missing_product_names[missing_with_aisle_id_100].head())\n",
    "else:\n",
    "    display(\"No, there are missing product names associated with aisle ID 100.\")"
   ]
  },
  {
   "cell_type": "code",
   "execution_count": null,
   "id": "69e66591",
   "metadata": {},
   "outputs": [
    {
     "name": "stdout",
     "output_type": "stream",
     "text": [
      "No, there are missing product names associated with only aisle ID 100.\n"
     ]
    }
   ],
   "source": [
    "# Are all of the missing product names not associated with aisle ID 100?\n",
    "missing_product_names = products[products['product_name'].isna()]\n",
    "not_missing_with_aisle_id_100 = missing_product_names['aisle_id'] != 100\n",
    "\n",
    "if not_missing_with_aisle_id_100.any():\n",
    "    print(\"Yes, there are missing product names not associated with aisle ID 100.\")\n",
    "    print()\n",
    "    print(missing_product_names[not_missing_with_aisle_id_100])\n",
    "else:\n",
    "    print(\"No, there are missing product names associated with only aisle ID 100.\")"
   ]
  },
  {
   "cell_type": "code",
   "execution_count": null,
   "id": "8fd0a541",
   "metadata": {},
   "outputs": [
    {
     "name": "stdout",
     "output_type": "stream",
     "text": [
      "Yes, there are missing product names associated with department ID 21.\n"
     ]
    },
    {
     "data": {
      "text/html": [
       "<div>\n",
       "<style scoped>\n",
       "    .dataframe tbody tr th:only-of-type {\n",
       "        vertical-align: middle;\n",
       "    }\n",
       "\n",
       "    .dataframe tbody tr th {\n",
       "        vertical-align: top;\n",
       "    }\n",
       "\n",
       "    .dataframe thead th {\n",
       "        text-align: right;\n",
       "    }\n",
       "</style>\n",
       "<table border=\"1\" class=\"dataframe\">\n",
       "  <thead>\n",
       "    <tr style=\"text-align: right;\">\n",
       "      <th></th>\n",
       "      <th>product_id</th>\n",
       "      <th>product_name</th>\n",
       "      <th>aisle_id</th>\n",
       "      <th>department_id</th>\n",
       "      <th>lowercase_product_name</th>\n",
       "    </tr>\n",
       "  </thead>\n",
       "  <tbody>\n",
       "    <tr>\n",
       "      <th>37</th>\n",
       "      <td>38</td>\n",
       "      <td>NaN</td>\n",
       "      <td>100</td>\n",
       "      <td>21</td>\n",
       "      <td>NaN</td>\n",
       "    </tr>\n",
       "    <tr>\n",
       "      <th>71</th>\n",
       "      <td>72</td>\n",
       "      <td>NaN</td>\n",
       "      <td>100</td>\n",
       "      <td>21</td>\n",
       "      <td>NaN</td>\n",
       "    </tr>\n",
       "    <tr>\n",
       "      <th>109</th>\n",
       "      <td>110</td>\n",
       "      <td>NaN</td>\n",
       "      <td>100</td>\n",
       "      <td>21</td>\n",
       "      <td>NaN</td>\n",
       "    </tr>\n",
       "    <tr>\n",
       "      <th>296</th>\n",
       "      <td>297</td>\n",
       "      <td>NaN</td>\n",
       "      <td>100</td>\n",
       "      <td>21</td>\n",
       "      <td>NaN</td>\n",
       "    </tr>\n",
       "    <tr>\n",
       "      <th>416</th>\n",
       "      <td>417</td>\n",
       "      <td>NaN</td>\n",
       "      <td>100</td>\n",
       "      <td>21</td>\n",
       "      <td>NaN</td>\n",
       "    </tr>\n",
       "  </tbody>\n",
       "</table>\n",
       "</div>"
      ],
      "text/plain": [
       "     product_id product_name  aisle_id  department_id lowercase_product_name\n",
       "37           38          NaN       100             21                    NaN\n",
       "71           72          NaN       100             21                    NaN\n",
       "109         110          NaN       100             21                    NaN\n",
       "296         297          NaN       100             21                    NaN\n",
       "416         417          NaN       100             21                    NaN"
      ]
     },
     "metadata": {},
     "output_type": "display_data"
    }
   ],
   "source": [
    "# Are all of the missing product names associated with department ID 21?\n",
    "missing_product_names = products[products['product_name'].isna()]\n",
    "missing_with_department_id_21 = missing_product_names['department_id'] == 21\n",
    "\n",
    "if missing_with_department_id_21.any():\n",
    "    print(\"Yes, there are missing product names associated with department ID 21.\")\n",
    "    display(missing_product_names[missing_with_department_id_21].head())\n",
    "else:\n",
    "    print(\"No, there are missing product names associated with department ID 21.\")"
   ]
  },
  {
   "cell_type": "code",
   "execution_count": null,
   "id": "2b8ebecc",
   "metadata": {},
   "outputs": [
    {
     "name": "stdout",
     "output_type": "stream",
     "text": [
      "No, there are missing product names associated with only department ID 21.\n"
     ]
    }
   ],
   "source": [
    "missing_product_names = products[products['product_name'].isna()]\n",
    "not_missing_with_department_id_21 = missing_product_names['department_id'] != 21\n",
    "\n",
    "if not_missing_with_department_id_21.any():\n",
    "    print(\"Yes, there are missing product names not associated with department ID 21.\")\n",
    "    print()\n",
    "    print(missing_product_names[not_missing_with_department_id_21])\n",
    "else:\n",
    "    print(\"No, there are missing product names associated with only department ID 21.\")\n"
   ]
  },
  {
   "cell_type": "code",
   "execution_count": null,
   "id": "6b295120",
   "metadata": {},
   "outputs": [
    {
     "data": {
      "text/plain": [
       "product_id                0\n",
       "product_name              0\n",
       "aisle_id                  0\n",
       "department_id             0\n",
       "lowercase_product_name    0\n",
       "dtype: int64"
      ]
     },
     "execution_count": 234,
     "metadata": {},
     "output_type": "execute_result"
    }
   ],
   "source": [
    "# Fill missing product names with 'Unknown'\n",
    "products['product_name'] = products['product_name'].fillna('Unknown')\n",
    "products['lowercase_product_name'] = products['lowercase_product_name'].fillna('Unknown')\n",
    "\n",
    "products.isna().sum()"
   ]
  },
  {
   "cell_type": "markdown",
   "id": "20113cc6",
   "metadata": {},
   "source": [
    "#### `departments` DataFrame"
   ]
  },
  {
   "cell_type": "code",
   "execution_count": null,
   "id": "325c3464",
   "metadata": {},
   "outputs": [
    {
     "name": "stdout",
     "output_type": "stream",
     "text": [
      "    department_id department\n",
      "20             21    missing\n"
     ]
    }
   ],
   "source": [
    "\n",
    "departments_id_21 = departments[(departments['department_id'] == 21)]\n",
    "print(departments_id_21)\n"
   ]
  },
  {
   "cell_type": "markdown",
   "id": "3267db4b",
   "metadata": {},
   "source": [
    "#### `aisle` DataFrame"
   ]
  },
  {
   "cell_type": "code",
   "execution_count": null,
   "id": "e76e42ec",
   "metadata": {},
   "outputs": [],
   "source": [
    "\n",
    "aisle_id_100 = aisles[(aisles['aisle_id'] == 100)]\n",
    "print(aisle_id_100)"
   ]
  },
  {
   "cell_type": "markdown",
   "id": "7eb45c86",
   "metadata": {},
   "source": [
    "### `orders` data frame"
   ]
  },
  {
   "cell_type": "code",
   "execution_count": null,
   "id": "93e41d96",
   "metadata": {},
   "outputs": [
    {
     "name": "stdout",
     "output_type": "stream",
     "text": [
      "order_id                      0\n",
      "user_id                       0\n",
      "order_number                  0\n",
      "order_dow                     0\n",
      "order_hour_of_day             0\n",
      "days_since_prior_order    28817\n",
      "dtype: int64\n"
     ]
    }
   ],
   "source": [
    "# Check for missing values\n",
    "print(orders.isna().sum())"
   ]
  },
  {
   "cell_type": "code",
   "execution_count": null,
   "id": "ef5bdc45",
   "metadata": {},
   "outputs": [
    {
     "data": {
      "text/plain": [
       "days_since_prior_order\n",
       "30.0    51337\n",
       "7.0     44577\n",
       "6.0     33930\n",
       "4.0     31006\n",
       "3.0     30224\n",
       "Name: count, dtype: int64"
      ]
     },
     "metadata": {},
     "output_type": "display_data"
    }
   ],
   "source": [
    "# Check for missing values in the 'days_since_prior_order' column\n",
    "display(orders['days_since_prior_order'].value_counts(dropna=False).head())"
   ]
  },
  {
   "cell_type": "code",
   "execution_count": null,
   "id": "166e5a86",
   "metadata": {},
   "outputs": [
    {
     "name": "stdout",
     "output_type": "stream",
     "text": [
      "order_id                  0\n",
      "user_id                   0\n",
      "order_number              0\n",
      "order_dow                 0\n",
      "order_hour_of_day         0\n",
      "days_since_prior_order    0\n",
      "dtype: int64\n",
      "No, there are no missing values where it's not a customer's first order.\n"
     ]
    }
   ],
   "source": [
    "# Are there any missing values where it's not a customer's first order?\n",
    "not_first_order = orders[orders['order_number'] > 1]\n",
    "\n",
    "missing_first_order = not_first_order.isna().sum()\n",
    "print(missing_first_order)\n",
    "\n",
    "if missing_first_order.any():\n",
    "    print(\"Yes, there are missing values where it's not a customer's first order.\")\n",
    "    print(missing_first_order)\n",
    "else:\n",
    "    print(\"No, there are no missing values where it's not a customer's first order.\")"
   ]
  },
  {
   "cell_type": "code",
   "execution_count": null,
   "id": "4a7e339d",
   "metadata": {
    "scrolled": true
   },
   "outputs": [
    {
     "name": "stdout",
     "output_type": "stream",
     "text": [
      "order_id                  0\n",
      "user_id                   0\n",
      "order_number              0\n",
      "order_dow                 0\n",
      "order_hour_of_day         0\n",
      "days_since_prior_order    0\n",
      "dtype: int64\n"
     ]
    }
   ],
   "source": [
    "# Remove missing values in 'days_since_prior_order' column. \n",
    "orders = orders.dropna(subset=['days_since_prior_order'])\n",
    "print(orders.isna().sum())"
   ]
  },
  {
   "cell_type": "markdown",
   "id": "69dc9ca4",
   "metadata": {},
   "source": [
    "### `order_products` data frame"
   ]
  },
  {
   "cell_type": "code",
   "execution_count": null,
   "id": "b8240253",
   "metadata": {},
   "outputs": [
    {
     "data": {
      "text/plain": [
       "order_id               0\n",
       "product_id             0\n",
       "add_to_cart_order    836\n",
       "reordered              0\n",
       "dtype: int64"
      ]
     },
     "execution_count": 239,
     "metadata": {},
     "output_type": "execute_result"
    }
   ],
   "source": [
    "# Check for missing values \n",
    "orders_products.isna().sum()"
   ]
  },
  {
   "cell_type": "code",
   "execution_count": null,
   "id": "9a78e5ee",
   "metadata": {},
   "outputs": [
    {
     "name": "stdout",
     "output_type": "stream",
     "text": [
      "1.0\n",
      "64.0\n"
     ]
    }
   ],
   "source": [
    "# What are the min and max values in 'add_to_cart_order' column?\n",
    "cart_values_min = orders_products['add_to_cart_order'].min()\n",
    "cart_values_max = orders_products['add_to_cart_order'].max()\n",
    "\n",
    "print(cart_values_min)\n",
    "print(cart_values_max)"
   ]
  },
  {
   "cell_type": "code",
   "execution_count": null,
   "id": "ab9d0c2b",
   "metadata": {},
   "outputs": [
    {
     "data": {
      "text/html": [
       "<div>\n",
       "<style scoped>\n",
       "    .dataframe tbody tr th:only-of-type {\n",
       "        vertical-align: middle;\n",
       "    }\n",
       "\n",
       "    .dataframe tbody tr th {\n",
       "        vertical-align: top;\n",
       "    }\n",
       "\n",
       "    .dataframe thead th {\n",
       "        text-align: right;\n",
       "    }\n",
       "</style>\n",
       "<table border=\"1\" class=\"dataframe\">\n",
       "  <thead>\n",
       "    <tr style=\"text-align: right;\">\n",
       "      <th></th>\n",
       "      <th>order_id</th>\n",
       "      <th>product_id</th>\n",
       "      <th>add_to_cart_order</th>\n",
       "      <th>reordered</th>\n",
       "    </tr>\n",
       "  </thead>\n",
       "  <tbody>\n",
       "    <tr>\n",
       "      <th>737</th>\n",
       "      <td>2449164</td>\n",
       "      <td>5068</td>\n",
       "      <td>NaN</td>\n",
       "      <td>0</td>\n",
       "    </tr>\n",
       "    <tr>\n",
       "      <th>9926</th>\n",
       "      <td>1968313</td>\n",
       "      <td>43867</td>\n",
       "      <td>NaN</td>\n",
       "      <td>0</td>\n",
       "    </tr>\n",
       "    <tr>\n",
       "      <th>14394</th>\n",
       "      <td>2926893</td>\n",
       "      <td>11688</td>\n",
       "      <td>NaN</td>\n",
       "      <td>0</td>\n",
       "    </tr>\n",
       "    <tr>\n",
       "      <th>16418</th>\n",
       "      <td>1717990</td>\n",
       "      <td>4142</td>\n",
       "      <td>NaN</td>\n",
       "      <td>0</td>\n",
       "    </tr>\n",
       "    <tr>\n",
       "      <th>30114</th>\n",
       "      <td>1959075</td>\n",
       "      <td>42828</td>\n",
       "      <td>NaN</td>\n",
       "      <td>1</td>\n",
       "    </tr>\n",
       "  </tbody>\n",
       "</table>\n",
       "</div>"
      ],
      "text/plain": [
       "       order_id  product_id  add_to_cart_order  reordered\n",
       "737     2449164        5068                NaN          0\n",
       "9926    1968313       43867                NaN          0\n",
       "14394   2926893       11688                NaN          0\n",
       "16418   1717990        4142                NaN          0\n",
       "30114   1959075       42828                NaN          1"
      ]
     },
     "metadata": {},
     "output_type": "display_data"
    }
   ],
   "source": [
    "# Save all order IDs with at least one missing value in 'add_to_cart_order'\n",
    "missing_add_to_cart_order = orders_products[orders_products['add_to_cart_order'].isna()]\n",
    "display(missing_add_to_cart_order.head())\n",
    "\n",
    "# Check for missing values in 'add_to_cart_order' column\n",
    "missing_order_ids = missing_add_to_cart_order['order_id'].unique()\n",
    "\n",
    "pd.DataFrame(missing_order_ids, columns=['order_id']).to_csv('missing_order_ids.csv', index=False)\n"
   ]
  },
  {
   "cell_type": "code",
   "execution_count": null,
   "id": "54c31695",
   "metadata": {},
   "outputs": [
    {
     "name": "stdout",
     "output_type": "stream",
     "text": [
      "Yes, all orders with missing values have more than 64 products.\n"
     ]
    },
    {
     "data": {
      "text/html": [
       "<div>\n",
       "<style scoped>\n",
       "    .dataframe tbody tr th:only-of-type {\n",
       "        vertical-align: middle;\n",
       "    }\n",
       "\n",
       "    .dataframe tbody tr th {\n",
       "        vertical-align: top;\n",
       "    }\n",
       "\n",
       "    .dataframe thead th {\n",
       "        text-align: right;\n",
       "    }\n",
       "</style>\n",
       "<table border=\"1\" class=\"dataframe\">\n",
       "  <thead>\n",
       "    <tr style=\"text-align: right;\">\n",
       "      <th></th>\n",
       "      <th>order_id</th>\n",
       "      <th>product_id</th>\n",
       "      <th>add_to_cart_order</th>\n",
       "      <th>reordered</th>\n",
       "    </tr>\n",
       "  </thead>\n",
       "  <tbody>\n",
       "    <tr>\n",
       "      <th>737</th>\n",
       "      <td>2449164</td>\n",
       "      <td>5068</td>\n",
       "      <td>NaN</td>\n",
       "      <td>0</td>\n",
       "    </tr>\n",
       "    <tr>\n",
       "      <th>9926</th>\n",
       "      <td>1968313</td>\n",
       "      <td>43867</td>\n",
       "      <td>NaN</td>\n",
       "      <td>0</td>\n",
       "    </tr>\n",
       "    <tr>\n",
       "      <th>14394</th>\n",
       "      <td>2926893</td>\n",
       "      <td>11688</td>\n",
       "      <td>NaN</td>\n",
       "      <td>0</td>\n",
       "    </tr>\n",
       "    <tr>\n",
       "      <th>16418</th>\n",
       "      <td>1717990</td>\n",
       "      <td>4142</td>\n",
       "      <td>NaN</td>\n",
       "      <td>0</td>\n",
       "    </tr>\n",
       "    <tr>\n",
       "      <th>30114</th>\n",
       "      <td>1959075</td>\n",
       "      <td>42828</td>\n",
       "      <td>NaN</td>\n",
       "      <td>1</td>\n",
       "    </tr>\n",
       "  </tbody>\n",
       "</table>\n",
       "</div>"
      ],
      "text/plain": [
       "       order_id  product_id  add_to_cart_order  reordered\n",
       "737     2449164        5068                NaN          0\n",
       "9926    1968313       43867                NaN          0\n",
       "14394   2926893       11688                NaN          0\n",
       "16418   1717990        4142                NaN          0\n",
       "30114   1959075       42828                NaN          1"
      ]
     },
     "metadata": {},
     "output_type": "display_data"
    }
   ],
   "source": [
    "# Do all orders with missing values have more than 64 products?\n",
    "missing_add_to_cart_order = orders_products[orders_products['add_to_cart_order'].isna()]\n",
    "missing_with_more_than_64_products = missing_add_to_cart_order['order_id'] > 64\n",
    "\n",
    "if missing_with_more_than_64_products.all():\n",
    "    print(\"Yes, all orders with missing values have more than 64 products.\")\n",
    "    display(missing_add_to_cart_order[missing_with_more_than_64_products].head())\n",
    "else:\n",
    "    print(\"No, all orders with missing values do not have more than 64 products.\")"
   ]
  },
  {
   "cell_type": "code",
   "execution_count": null,
   "id": "7a987d08",
   "metadata": {},
   "outputs": [
    {
     "name": "stdout",
     "output_type": "stream",
     "text": [
      "order_id             0\n",
      "product_id           0\n",
      "add_to_cart_order    0\n",
      "reordered            0\n",
      "dtype: int64\n"
     ]
    }
   ],
   "source": [
    "# Replace missing values with 999 and convert column to integer type\n",
    "orders_products['add_to_cart_order'] = orders_products['add_to_cart_order'].fillna('999')\n",
    "print(orders_products.isna().sum())"
   ]
  },
  {
   "cell_type": "markdown",
   "id": "03cd0577",
   "metadata": {},
   "source": [
    "### Changing datatypes"
   ]
  },
  {
   "cell_type": "code",
   "execution_count": null,
   "id": "d6bba703",
   "metadata": {},
   "outputs": [
    {
     "data": {
      "text/plain": [
       "dtype('int32')"
      ]
     },
     "execution_count": 244,
     "metadata": {},
     "output_type": "execute_result"
    }
   ],
   "source": [
    "# Convert 'add_to_cart_order' column to integer type\n",
    "orders_products['add_to_cart_order'] = orders_products['add_to_cart_order'].astype('int') \n",
    "\n",
    "# Check if the conversion was successful\n",
    "orders_products['add_to_cart_order'].dtypes"
   ]
  },
  {
   "cell_type": "markdown",
   "id": "92719ea4",
   "metadata": {},
   "source": [
    "### Conclusion"
   ]
  },
  {
   "cell_type": "markdown",
   "id": "27f925be",
   "metadata": {},
   "source": [
    "In this project, we worked with data from Instacart. The dataset provided for this project has been modified from the original. Data preprocessing is done to prepare a report that gave an insight into the shopping habits of Instacart customers. After loading the order dataframe, while data preprocessing, duplicated values were found in orders which were found among the order placed on Wednesday at 2:00AM. The duplicated values were removed after identifying them. No duplicated values were found in products, departments, aisles , and order products dataframe. But 104 duplicate product names that were not missing are found in products dataframe. After looking for duplicated values, 1258 missing values were found in products dataframe which were associated with aisle ID 100 and department ID 21. Those missing product names were filled in with 'Unknown'. ALong with this 28817 missing values were found in 'day since prior order' column in orders dataframe which were removed to clean the data. Lastly, 836 missing vlaues were found in 'add to cart order' column in order products dataframe which had more than 64 products. Those missing values were replaced with 999 and converted to integer type. "
   ]
  },
  {
   "cell_type": "markdown",
   "id": "short-capability",
   "metadata": {},
   "source": [
    "## Verify that the `'order_hour_of_day'` and `'order_dow'` values in the `orders` tables are sensible (i.e. `'order_hour_of_day'` ranges from 0 to 23 and `'order_dow'` ranges from 0 to 6)"
   ]
  },
  {
   "cell_type": "code",
   "execution_count": null,
   "id": "growing-fruit",
   "metadata": {},
   "outputs": [
    {
     "name": "stdout",
     "output_type": "stream",
     "text": [
      "'order_hour_of_day' values in the orders table are within the range: 0 to 23\n"
     ]
    }
   ],
   "source": [
    "# Check the range for 'order_hour_of_day'\n",
    "hour_of_day_min = orders['order_hour_of_day'].min()\n",
    "hour_of_day_max = orders['order_hour_of_day'].max()\n",
    "\n",
    "# Verify if the ranges are sensible\n",
    "if hour_of_day_min == 0 and hour_of_day_max == 23:\n",
    "    print(f\"'order_hour_of_day' values in the orders table are within the range: {hour_of_day_min} to {hour_of_day_max}\")\n",
    "else:\n",
    "    print(f\"'order_hour_of_day' values in the orders table are not within the range: {hour_of_day_min} to {hour_of_day_max}\")"
   ]
  },
  {
   "cell_type": "code",
   "execution_count": null,
   "id": "accessory-malaysia",
   "metadata": {},
   "outputs": [
    {
     "name": "stdout",
     "output_type": "stream",
     "text": [
      "'order_dow' values in the orders table are within the range: 0 to 6\n"
     ]
    }
   ],
   "source": [
    "# Check the range for 'order_dow' (day of week)\n",
    "dow_min = orders['order_dow'].min()\n",
    "dow_max = orders['order_dow'].max()\n",
    "\n",
    "# Verify if the ranges are sensible\n",
    "if dow_min == 0 and dow_max == 6:\n",
    "    print(f\"'order_dow' values in the orders table are within the range: {dow_min} to {dow_max}\")\n",
    "else:\n",
    "    print(f\"'order_dow' values in the orders table are not within the range: {dow_min} to {dow_max}\")       "
   ]
  },
  {
   "cell_type": "markdown",
   "id": "a6743a70",
   "metadata": {},
   "source": [
    "## What time of day do people shop for groceries?"
   ]
  },
  {
   "cell_type": "code",
   "execution_count": null,
   "id": "a36cca27",
   "metadata": {},
   "outputs": [
    {
     "name": "stdout",
     "output_type": "stream",
     "text": [
      "order_hour_of_day\n",
      "0    2963\n",
      "1    1673\n",
      "2     928\n",
      "3     719\n",
      "4     711\n",
      "Name: count, dtype: int64\n"
     ]
    }
   ],
   "source": [
    "time_people_shop_groceries = orders['order_hour_of_day'].value_counts().sort_index()\n",
    "print(time_people_shop_groceries.head())"
   ]
  },
  {
   "cell_type": "code",
   "execution_count": null,
   "id": "exciting-fantasy",
   "metadata": {},
   "outputs": [
    {
     "data": {
      "image/png": "[encoded data removed]",
      "text/plain": [
       "<Figure size 800x600 with 1 Axes>"
      ]
     },
     "metadata": {},
     "output_type": "display_data"
    }
   ],
   "source": [
    "## Create a plot that shows how many people place orders for each hour of the day.\n",
    "plt.figure(figsize=(8, 6))\n",
    "time_people_shop_groceries.plot(kind='bar', \n",
    "                                color='hotpink', \n",
    "                                title='Number of people place orders for each hour of the day',\n",
    "                                xlabel='Hour of the day',\n",
    "                                ylabel='Number of Orders',\n",
    "                                edgecolor='black',\n",
    "                                rot=0)  # Keep the x-axis labels horizontal for readability\n",
    "\n",
    "plt.show()"
   ]
  },
  {
   "cell_type": "markdown",
   "id": "269ceac9",
   "metadata": {},
   "source": [
    "\n",
    "The graph illustrates the number of people placing orders at each hour of the day. The data in the above graph seem to be normally distributed and the data looks skewed and have larger variance. The data reveals that the orders placed are dependent on the time of the day. The orders placed gradually declines towards the end of the day. Most of the orders were placed between 7AM until 8PM as shown in the graph. Based on the graph, we found that hour of the day order is placed does effect the number of people place the order. So, during the daytime the number of orders placed is more compare to the ones placed during the nighttime. Also, after midnight the number of orders were the least. "
   ]
  },
  {
   "cell_type": "markdown",
   "id": "documented-command",
   "metadata": {},
   "source": [
    "## What day of the week do people shop for groceries?"
   ]
  },
  {
   "cell_type": "code",
   "execution_count": null,
   "id": "chief-digit",
   "metadata": {},
   "outputs": [
    {
     "name": "stdout",
     "output_type": "stream",
     "text": [
      "Sunday       78749\n",
      "Monday       77269\n",
      "Tuesday      61925\n",
      "Wednesday    57271\n",
      "Thursday     56395\n",
      "Friday       59907\n",
      "Saturday     58619\n",
      "Name: count, dtype: int64\n"
     ]
    }
   ],
   "source": [
    "day_people_shop_groceries = orders['order_dow'].value_counts().sort_index()\n",
    "day_people_shop_groceries.index =['Sunday', 'Monday', 'Tuesday', 'Wednesday', 'Thursday', 'Friday', 'Saturday']\n",
    "print(day_people_shop_groceries)"
   ]
  },
  {
   "cell_type": "code",
   "execution_count": null,
   "id": "c7b5df8f",
   "metadata": {},
   "outputs": [
    {
     "data": {
      "image/png": "[encoded data removed]",
      "text/plain": [
       "<Figure size 800x600 with 1 Axes>"
      ]
     },
     "metadata": {},
     "output_type": "display_data"
    }
   ],
   "source": [
    "## Create a plot that shows what day of the week people shop for groceries.\n",
    "plt.figure(figsize=(8, 6))\n",
    "day_people_shop_groceries.plot(kind='bar', \n",
    "                                color='hotpink', \n",
    "                                title='Day of the week people shop for groceries',\n",
    "                                xlabel='Day of the week',\n",
    "                                ylabel='Number of Orders',\n",
    "                                edgecolor='black',\n",
    "                                rot=0)  # Keep the x-axis labels horizontal for readability\n",
    "\n",
    "plt.show()"
   ]
  },
  {
   "cell_type": "markdown",
   "id": "b56b072a",
   "metadata": {},
   "source": [
    "The graph illustrates the day of the week people shop for groceries. The data reveals that people shop for groceries more on Suday and Monday than other weekdays.The orders placed gradually declines during weekdays and also gradually increases as it reaches close to the weekend.It can be assumed from the graph that as mostly people work during weekdays, they shop for groceries on weekends. Based on the graph, we found that when people shop for groceries is dependent on the day of the week."
   ]
  },
  {
   "cell_type": "markdown",
   "id": "cutting-concert",
   "metadata": {},
   "source": [
    "## How long do people wait until placing another order?"
   ]
  },
  {
   "cell_type": "code",
   "execution_count": null,
   "id": "c231f523",
   "metadata": {},
   "outputs": [],
   "source": [
    "sort_orders = orders.sort_values(by=['user_id', 'order_hour_of_day'])\n",
    "sort_orders_time_diff = orders.groupby('user_id')['order_hour_of_day'].diff()\n",
    "time_diff = sort_orders_time_diff.dropna()"
   ]
  },
  {
   "cell_type": "code",
   "execution_count": null,
   "id": "230928b1",
   "metadata": {},
   "outputs": [
    {
     "data": {
      "image/png": "[encoded data removed]",
      "text/plain": [
       "<Figure size 800x600 with 1 Axes>"
      ]
     },
     "metadata": {},
     "output_type": "display_data"
    }
   ],
   "source": [
    "## Create a plot that shows how long people wait until placing their next order, and comment on the minimum and maximum values.\n",
    "plt.figure(figsize = (8, 6))\n",
    "plt.hist(orders['days_since_prior_order'], bins=30, color='hotpink', edgecolor='black')\n",
    "plt.title('No. of days people wait until placing their next order')\n",
    "plt.xlabel('Days since prior order')\n",
    "plt.ylabel('No. of people')\n",
    "plt.show()"
   ]
  },
  {
   "cell_type": "code",
   "execution_count": null,
   "id": "eb1c73bc",
   "metadata": {},
   "outputs": [
    {
     "name": "stdout",
     "output_type": "stream",
     "text": [
      "The minimum number of days between orders is: 0.0\n",
      "The maximum number of days between orders is: 30.0\n"
     ]
    }
   ],
   "source": [
    "# Find the minimum and maximum values\n",
    "min_days = orders['days_since_prior_order'].min()\n",
    "max_days = orders['days_since_prior_order'].max()\n",
    "\n",
    "# Comment on the minimum and maximum value\n",
    "print(f\"The minimum number of days between orders is: {min_days}\")\n",
    "print(f\"The maximum number of days between orders is: {max_days}\")"
   ]
  },
  {
   "cell_type": "markdown",
   "id": "c20e0d9c",
   "metadata": {},
   "source": [
    "### Conclusion:\n",
    "The graph illustrates the number of days people wait until placing another order. The data shows that most people wait until a month before placing another order. There is another huge spike on 7th day, which illustrates that those who mostly work on weekdays and buy groceries during weekends, wait until another weekend to buy their groceries, due to which they end up waiting for 7 days. Also, it can be seen that there are more people replacing orders in between 0 - 7 days and it drops after one week. \n",
    "The minimum values for the no. of days people wait until placing their next order is 0, while the maximum value is 30. This signifies that most of the people buy a month grocieries together. Along with this, the next leap after which people are buying groceries is of 7 days, which signifies that people you buy groceries once a week."
   ]
  },
  {
   "cell_type": "markdown",
   "id": "packed-classic",
   "metadata": {},
   "source": [
    "## Is there a difference in `'order_hour_of_day'` distributions on Wednesdays and Saturdays? Plot the histograms for both days and describe the differences that you see."
   ]
  },
  {
   "cell_type": "code",
   "execution_count": null,
   "id": "d89b8403",
   "metadata": {},
   "outputs": [
    {
     "data": {
      "text/html": [
       "<div>\n",
       "<style scoped>\n",
       "    .dataframe tbody tr th:only-of-type {\n",
       "        vertical-align: middle;\n",
       "    }\n",
       "\n",
       "    .dataframe tbody tr th {\n",
       "        vertical-align: top;\n",
       "    }\n",
       "\n",
       "    .dataframe thead th {\n",
       "        text-align: right;\n",
       "    }\n",
       "</style>\n",
       "<table border=\"1\" class=\"dataframe\">\n",
       "  <thead>\n",
       "    <tr style=\"text-align: right;\">\n",
       "      <th></th>\n",
       "      <th>order_id</th>\n",
       "      <th>user_id</th>\n",
       "      <th>order_number</th>\n",
       "      <th>order_dow</th>\n",
       "      <th>order_hour_of_day</th>\n",
       "      <th>days_since_prior_order</th>\n",
       "    </tr>\n",
       "  </thead>\n",
       "  <tbody>\n",
       "    <tr>\n",
       "      <th>6</th>\n",
       "      <td>2511640</td>\n",
       "      <td>148233</td>\n",
       "      <td>40</td>\n",
       "      <td>3</td>\n",
       "      <td>8</td>\n",
       "      <td>2.0</td>\n",
       "    </tr>\n",
       "    <tr>\n",
       "      <th>16</th>\n",
       "      <td>3109465</td>\n",
       "      <td>55090</td>\n",
       "      <td>19</td>\n",
       "      <td>3</td>\n",
       "      <td>15</td>\n",
       "      <td>9.0</td>\n",
       "    </tr>\n",
       "    <tr>\n",
       "      <th>30</th>\n",
       "      <td>1890318</td>\n",
       "      <td>193501</td>\n",
       "      <td>3</td>\n",
       "      <td>3</td>\n",
       "      <td>15</td>\n",
       "      <td>30.0</td>\n",
       "    </tr>\n",
       "    <tr>\n",
       "      <th>35</th>\n",
       "      <td>125325</td>\n",
       "      <td>106853</td>\n",
       "      <td>6</td>\n",
       "      <td>3</td>\n",
       "      <td>19</td>\n",
       "      <td>30.0</td>\n",
       "    </tr>\n",
       "    <tr>\n",
       "      <th>43</th>\n",
       "      <td>698527</td>\n",
       "      <td>95296</td>\n",
       "      <td>58</td>\n",
       "      <td>3</td>\n",
       "      <td>14</td>\n",
       "      <td>22.0</td>\n",
       "    </tr>\n",
       "  </tbody>\n",
       "</table>\n",
       "</div>"
      ],
      "text/plain": [
       "    order_id  user_id  order_number  order_dow  order_hour_of_day  \\\n",
       "6    2511640   148233            40          3                  8   \n",
       "16   3109465    55090            19          3                 15   \n",
       "30   1890318   193501             3          3                 15   \n",
       "35    125325   106853             6          3                 19   \n",
       "43    698527    95296            58          3                 14   \n",
       "\n",
       "    days_since_prior_order  \n",
       "6                      2.0  \n",
       "16                     9.0  \n",
       "30                    30.0  \n",
       "35                    30.0  \n",
       "43                    22.0  "
      ]
     },
     "metadata": {},
     "output_type": "display_data"
    }
   ],
   "source": [
    "wed_orders = orders[orders['order_dow'] == 3]\n",
    "display(wed_orders.head())"
   ]
  },
  {
   "cell_type": "code",
   "execution_count": null,
   "id": "94e54e8a",
   "metadata": {},
   "outputs": [
    {
     "data": {
      "text/html": [
       "<div>\n",
       "<style scoped>\n",
       "    .dataframe tbody tr th:only-of-type {\n",
       "        vertical-align: middle;\n",
       "    }\n",
       "\n",
       "    .dataframe tbody tr th {\n",
       "        vertical-align: top;\n",
       "    }\n",
       "\n",
       "    .dataframe thead th {\n",
       "        text-align: right;\n",
       "    }\n",
       "</style>\n",
       "<table border=\"1\" class=\"dataframe\">\n",
       "  <thead>\n",
       "    <tr style=\"text-align: right;\">\n",
       "      <th></th>\n",
       "      <th>order_id</th>\n",
       "      <th>user_id</th>\n",
       "      <th>order_number</th>\n",
       "      <th>order_dow</th>\n",
       "      <th>order_hour_of_day</th>\n",
       "      <th>days_since_prior_order</th>\n",
       "    </tr>\n",
       "  </thead>\n",
       "  <tbody>\n",
       "    <tr>\n",
       "      <th>0</th>\n",
       "      <td>1515936</td>\n",
       "      <td>183418</td>\n",
       "      <td>11</td>\n",
       "      <td>6</td>\n",
       "      <td>13</td>\n",
       "      <td>30.0</td>\n",
       "    </tr>\n",
       "    <tr>\n",
       "      <th>11</th>\n",
       "      <td>102585</td>\n",
       "      <td>191558</td>\n",
       "      <td>18</td>\n",
       "      <td>6</td>\n",
       "      <td>16</td>\n",
       "      <td>8.0</td>\n",
       "    </tr>\n",
       "    <tr>\n",
       "      <th>14</th>\n",
       "      <td>2843219</td>\n",
       "      <td>74699</td>\n",
       "      <td>4</td>\n",
       "      <td>6</td>\n",
       "      <td>11</td>\n",
       "      <td>30.0</td>\n",
       "    </tr>\n",
       "    <tr>\n",
       "      <th>20</th>\n",
       "      <td>50934</td>\n",
       "      <td>178510</td>\n",
       "      <td>9</td>\n",
       "      <td>6</td>\n",
       "      <td>9</td>\n",
       "      <td>5.0</td>\n",
       "    </tr>\n",
       "    <tr>\n",
       "      <th>26</th>\n",
       "      <td>1844247</td>\n",
       "      <td>122558</td>\n",
       "      <td>4</td>\n",
       "      <td>6</td>\n",
       "      <td>18</td>\n",
       "      <td>30.0</td>\n",
       "    </tr>\n",
       "  </tbody>\n",
       "</table>\n",
       "</div>"
      ],
      "text/plain": [
       "    order_id  user_id  order_number  order_dow  order_hour_of_day  \\\n",
       "0    1515936   183418            11          6                 13   \n",
       "11    102585   191558            18          6                 16   \n",
       "14   2843219    74699             4          6                 11   \n",
       "20     50934   178510             9          6                  9   \n",
       "26   1844247   122558             4          6                 18   \n",
       "\n",
       "    days_since_prior_order  \n",
       "0                     30.0  \n",
       "11                     8.0  \n",
       "14                    30.0  \n",
       "20                     5.0  \n",
       "26                    30.0  "
      ]
     },
     "metadata": {},
     "output_type": "display_data"
    }
   ],
   "source": [
    "sat_orders = orders[orders['order_dow'] == 6]\n",
    "display(sat_orders.head())"
   ]
  },
  {
   "cell_type": "code",
   "execution_count": null,
   "id": "797c90a8",
   "metadata": {
    "scrolled": true
   },
   "outputs": [
    {
     "data": {
      "image/png": "[encoded data removed]",
      "text/plain": [
       "<Figure size 800x600 with 1 Axes>"
      ]
     },
     "metadata": {},
     "output_type": "display_data"
    }
   ],
   "source": [
    "# Histogram wednesday\n",
    "plt.figure(figsize=(8, 6))\n",
    "plt.hist(wed_orders['order_hour_of_day'], bins=24, color='hotpink', edgecolor='black')\n",
    "plt.title('Orders every hour on Wednesdays')\n",
    "plt.xlabel('Hour of the Day')\n",
    "plt.ylabel('Orders placed')\n",
    "plt.show()"
   ]
  },
  {
   "cell_type": "code",
   "execution_count": null,
   "id": "35bcea30",
   "metadata": {},
   "outputs": [
    {
     "data": {
      "image/png": "[encoded data removed]",
      "text/plain": [
       "<Figure size 800x600 with 1 Axes>"
      ]
     },
     "metadata": {},
     "output_type": "display_data"
    }
   ],
   "source": [
    "# Histogram saturday\n",
    "plt.figure(figsize=(8, 6))\n",
    "plt.hist(sat_orders['order_hour_of_day'], bins=24, color='hotpink', edgecolor='black')\n",
    "plt.title('Orders every hour on Saturdays')\n",
    "plt.xlabel('Hour of the Day')\n",
    "plt.ylabel('Order placed')\n",
    "plt.show()"
   ]
  },
  {
   "cell_type": "markdown",
   "id": "4461ce50",
   "metadata": {},
   "source": [
    "The distribution of the orders placed every hour on Wednesdays and Saturdays are similar. Both the graphs are right screwed, which shows that there are less order placed after midnight. After almost 6 in the morning, the number of orders placed increased and were increasing until next couple hours. The only difference I can see when comparing the orders placed on Wed and Sat are during peak hours which are from 10 in the morning till 5 in the evening. On Wed, there are less orders placed during those peak hours compared to orders placed on Sat. This graphs shows that as a Wed is a weekday and Sat a weekend, more people place orders during peak hours compare to Wed when people have work next day.\n"
   ]
  },
  {
   "cell_type": "markdown",
   "id": "e3891143",
   "metadata": {},
   "source": [
    "## What's the distribution for the number of orders per customer?"
   ]
  },
  {
   "cell_type": "code",
   "execution_count": null,
   "id": "d8c26c23",
   "metadata": {},
   "outputs": [
    {
     "data": {
      "text/plain": [
       "count    149597.000000\n",
       "mean          3.008984\n",
       "std           2.755095\n",
       "min           1.000000\n",
       "25%           1.000000\n",
       "50%           2.000000\n",
       "75%           4.000000\n",
       "max          28.000000\n",
       "Name: order_id, dtype: float64"
      ]
     },
     "execution_count": 151,
     "metadata": {},
     "output_type": "execute_result"
    }
   ],
   "source": [
    "orders_per_customer = orders.groupby('user_id')['order_id'].count()\n",
    "orders_per_customer.describe()"
   ]
  },
  {
   "cell_type": "code",
   "execution_count": null,
   "id": "00e69a66",
   "metadata": {
    "scrolled": true
   },
   "outputs": [
    {
     "data": {
      "image/png": "[encoded data removed]",
      "text/plain": [
       "<Figure size 800x600 with 1 Axes>"
      ]
     },
     "metadata": {},
     "output_type": "display_data"
    }
   ],
   "source": [
    "plt.figure(figsize=(8, 6))\n",
    "plt.hist(orders_per_customer, bins=15, color='hotpink', edgecolor='black')\n",
    "plt.title('Number of orders placed by each customers')\n",
    "plt.xlabel('Orders placed by customers')\n",
    "plt.ylabel('No. of customers who placed orders')\n",
    "plt.show()"
   ]
  },
  {
   "cell_type": "markdown",
   "id": "0d22ecd3",
   "metadata": {},
   "source": [
    "The graph above illustrates that the range of the orders placed by the customers on instacart is from 0 - 21. Most of the customers placed atleast one order on instacart. It can be seen that as the number of orders placed by the customer increases, the number of people who placed orders decreases. "
   ]
  },
  {
   "cell_type": "markdown",
   "id": "54a0319c",
   "metadata": {},
   "source": [
    "## What are the top 20 popular products?"
   ]
  },
  {
   "cell_type": "code",
   "execution_count": null,
   "id": "exterior-arizona",
   "metadata": {
    "scrolled": true
   },
   "outputs": [
    {
     "data": {
      "text/html": [
       "<div>\n",
       "<style scoped>\n",
       "    .dataframe tbody tr th:only-of-type {\n",
       "        vertical-align: middle;\n",
       "    }\n",
       "\n",
       "    .dataframe tbody tr th {\n",
       "        vertical-align: top;\n",
       "    }\n",
       "\n",
       "    .dataframe thead th {\n",
       "        text-align: right;\n",
       "    }\n",
       "</style>\n",
       "<table border=\"1\" class=\"dataframe\">\n",
       "  <thead>\n",
       "    <tr style=\"text-align: right;\">\n",
       "      <th></th>\n",
       "      <th>product_id</th>\n",
       "      <th>lowercase_product_name</th>\n",
       "      <th>order_id</th>\n",
       "      <th>add_to_cart_order</th>\n",
       "      <th>reordered</th>\n",
       "    </tr>\n",
       "  </thead>\n",
       "  <tbody>\n",
       "    <tr>\n",
       "      <th>0</th>\n",
       "      <td>1</td>\n",
       "      <td>chocolate sandwich cookies</td>\n",
       "      <td>1104373</td>\n",
       "      <td>11</td>\n",
       "      <td>1</td>\n",
       "    </tr>\n",
       "    <tr>\n",
       "      <th>1</th>\n",
       "      <td>1</td>\n",
       "      <td>chocolate sandwich cookies</td>\n",
       "      <td>1774977</td>\n",
       "      <td>4</td>\n",
       "      <td>1</td>\n",
       "    </tr>\n",
       "    <tr>\n",
       "      <th>2</th>\n",
       "      <td>1</td>\n",
       "      <td>chocolate sandwich cookies</td>\n",
       "      <td>652770</td>\n",
       "      <td>10</td>\n",
       "      <td>0</td>\n",
       "    </tr>\n",
       "    <tr>\n",
       "      <th>3</th>\n",
       "      <td>1</td>\n",
       "      <td>chocolate sandwich cookies</td>\n",
       "      <td>1000035</td>\n",
       "      <td>6</td>\n",
       "      <td>1</td>\n",
       "    </tr>\n",
       "    <tr>\n",
       "      <th>4</th>\n",
       "      <td>1</td>\n",
       "      <td>chocolate sandwich cookies</td>\n",
       "      <td>1679949</td>\n",
       "      <td>9</td>\n",
       "      <td>0</td>\n",
       "    </tr>\n",
       "  </tbody>\n",
       "</table>\n",
       "</div>"
      ],
      "text/plain": [
       "   product_id      lowercase_product_name  order_id  add_to_cart_order  \\\n",
       "0           1  chocolate sandwich cookies   1104373                 11   \n",
       "1           1  chocolate sandwich cookies   1774977                  4   \n",
       "2           1  chocolate sandwich cookies    652770                 10   \n",
       "3           1  chocolate sandwich cookies   1000035                  6   \n",
       "4           1  chocolate sandwich cookies   1679949                  9   \n",
       "\n",
       "   reordered  \n",
       "0          1  \n",
       "1          1  \n",
       "2          0  \n",
       "3          1  \n",
       "4          0  "
      ]
     },
     "metadata": {},
     "output_type": "display_data"
    }
   ],
   "source": [
    "data_merge = products.merge(order_products,\n",
    "                           on='product_id')\n",
    "data_merge = data_merge.drop('aisle_id', axis='columns')\n",
    "data_merge = data_merge.drop('department_id', axis='columns')\n",
    "data_merge = data_merge.drop('product_name', axis='columns')\n",
    "display(data_merge.head())"
   ]
  },
  {
   "cell_type": "code",
   "execution_count": null,
   "id": "universal-facial",
   "metadata": {},
   "outputs": [
    {
     "data": {
      "text/html": [
       "<div>\n",
       "<style scoped>\n",
       "    .dataframe tbody tr th:only-of-type {\n",
       "        vertical-align: middle;\n",
       "    }\n",
       "\n",
       "    .dataframe tbody tr th {\n",
       "        vertical-align: top;\n",
       "    }\n",
       "\n",
       "    .dataframe thead th {\n",
       "        text-align: right;\n",
       "    }\n",
       "</style>\n",
       "<table border=\"1\" class=\"dataframe\">\n",
       "  <thead>\n",
       "    <tr style=\"text-align: right;\">\n",
       "      <th></th>\n",
       "      <th>product_id</th>\n",
       "      <th>product_name</th>\n",
       "      <th>lowercase_product_name</th>\n",
       "    </tr>\n",
       "  </thead>\n",
       "  <tbody>\n",
       "    <tr>\n",
       "      <th>5875</th>\n",
       "      <td>5876</td>\n",
       "      <td>Organic Lemon</td>\n",
       "      <td>organic lemon</td>\n",
       "    </tr>\n",
       "    <tr>\n",
       "      <th>8276</th>\n",
       "      <td>8277</td>\n",
       "      <td>Apple Honeycrisp Organic</td>\n",
       "      <td>apple honeycrisp organic</td>\n",
       "    </tr>\n",
       "    <tr>\n",
       "      <th>13175</th>\n",
       "      <td>13176</td>\n",
       "      <td>Bag of Organic Bananas</td>\n",
       "      <td>bag of organic bananas</td>\n",
       "    </tr>\n",
       "    <tr>\n",
       "      <th>16796</th>\n",
       "      <td>16797</td>\n",
       "      <td>Strawberries</td>\n",
       "      <td>strawberries</td>\n",
       "    </tr>\n",
       "    <tr>\n",
       "      <th>21136</th>\n",
       "      <td>21137</td>\n",
       "      <td>Organic Strawberries</td>\n",
       "      <td>organic strawberries</td>\n",
       "    </tr>\n",
       "  </tbody>\n",
       "</table>\n",
       "</div>"
      ],
      "text/plain": [
       "       product_id              product_name    lowercase_product_name\n",
       "5875         5876             Organic Lemon             organic lemon\n",
       "8276         8277  Apple Honeycrisp Organic  apple honeycrisp organic\n",
       "13175       13176    Bag of Organic Bananas    bag of organic bananas\n",
       "16796       16797              Strawberries              strawberries\n",
       "21136       21137      Organic Strawberries      organic strawberries"
      ]
     },
     "metadata": {},
     "output_type": "display_data"
    }
   ],
   "source": [
    "order_count = data_merge['product_id'].value_counts()\n",
    "top_20_product_ids = order_count.head(20).index\n",
    "top_20_products = products[products['product_id'].isin(top_20_product_ids)]\n",
    "top_20_products = top_20_products.drop('aisle_id', axis='columns')\n",
    "top_20_products = top_20_products.drop('department_id', axis='columns')\n",
    "\n",
    "display(top_20_products.head())"
   ]
  },
  {
   "cell_type": "markdown",
   "id": "9f0a1a43",
   "metadata": {},
   "source": [
    "Based on the product names of the top 20 popular products, it can be seen that most of the top 20 product names were of organic food items, while there are some fruits and vegetables such as lemon, limes, banana, strawberries, and cucumber kirby. So, it is illustrated that people prefer organic and natural food rather than artifical food items. "
   ]
  },
  {
   "cell_type": "markdown",
   "id": "romantic-deposit",
   "metadata": {},
   "source": [
    "## How many items do people typically buy in one order? What does the distribution look like?"
   ]
  },
  {
   "cell_type": "code",
   "execution_count": null,
   "id": "virtual-punch",
   "metadata": {
    "scrolled": true
   },
   "outputs": [
    {
     "data": {
      "text/plain": [
       "'The distribution of the items bought by people in one order:'"
      ]
     },
     "metadata": {},
     "output_type": "display_data"
    },
    {
     "data": {
      "text/plain": [
       "count    450046.000000\n",
       "mean         10.098983\n",
       "std           7.540206\n",
       "min           1.000000\n",
       "25%           5.000000\n",
       "50%           8.000000\n",
       "75%          14.000000\n",
       "max         127.000000\n",
       "dtype: float64"
      ]
     },
     "execution_count": 248,
     "metadata": {},
     "output_type": "execute_result"
    }
   ],
   "source": [
    "items_per_order = orders_products.groupby('order_id').size()\n",
    "display(\"The distribution of the items bought by people in one order:\")\n",
    "items_per_order.describe()"
   ]
  },
  {
   "cell_type": "code",
   "execution_count": null,
   "id": "87370c85",
   "metadata": {
    "scrolled": false
   },
   "outputs": [
    {
     "data": {
      "image/png": "[encoded data removed]",
      "text/plain": [
       "<Figure size 800x600 with 1 Axes>"
      ]
     },
     "metadata": {},
     "output_type": "display_data"
    }
   ],
   "source": [
    "plt.figure(figsize=(8, 6))\n",
    "plt.hist(items_per_order, bins=10, color='hotpink', edgecolor='black')\n",
    "plt.title('Number of items do customers buy in one order')\n",
    "plt.xlabel('Number of items in one order')\n",
    "plt.ylabel('No. of customers who placed orders')\n",
    "plt.show()"
   ]
  },
  {
   "cell_type": "markdown",
   "id": "17978c69",
   "metadata": {},
   "source": [
    "The graph above illustrates that the range of the items bought by the customers in one order on instacart is from 1 - 60. The average number of items customers bought in an order are 20 items, but half the customers have 8 items in an order. From the distibution of the items bought by people in one order, it can be known that most of the customers had bought atleast one item in an order on instacart, while few had bouught almost 127 items in an order. Half of the customers had bought 8 items in an order.It looks like a typical order placed by a customers on instacart would consist of 10 items. "
   ]
  },
  {
   "cell_type": "markdown",
   "id": "5e6b5537",
   "metadata": {},
   "source": [
    "## What are the top 20 items that are reordered most frequently?"
   ]
  },
  {
   "cell_type": "code",
   "execution_count": null,
   "id": "9374e55a",
   "metadata": {},
   "outputs": [
    {
     "data": {
      "text/html": [
       "<div>\n",
       "<style scoped>\n",
       "    .dataframe tbody tr th:only-of-type {\n",
       "        vertical-align: middle;\n",
       "    }\n",
       "\n",
       "    .dataframe tbody tr th {\n",
       "        vertical-align: top;\n",
       "    }\n",
       "\n",
       "    .dataframe thead th {\n",
       "        text-align: right;\n",
       "    }\n",
       "</style>\n",
       "<table border=\"1\" class=\"dataframe\">\n",
       "  <thead>\n",
       "    <tr style=\"text-align: right;\">\n",
       "      <th></th>\n",
       "      <th>product_id</th>\n",
       "      <th>order_id</th>\n",
       "    </tr>\n",
       "  </thead>\n",
       "  <tbody>\n",
       "    <tr>\n",
       "      <th>0</th>\n",
       "      <td>1</td>\n",
       "      <td>158</td>\n",
       "    </tr>\n",
       "    <tr>\n",
       "      <th>1</th>\n",
       "      <td>3</td>\n",
       "      <td>31</td>\n",
       "    </tr>\n",
       "    <tr>\n",
       "      <th>2</th>\n",
       "      <td>4</td>\n",
       "      <td>25</td>\n",
       "    </tr>\n",
       "    <tr>\n",
       "      <th>3</th>\n",
       "      <td>7</td>\n",
       "      <td>1</td>\n",
       "    </tr>\n",
       "    <tr>\n",
       "      <th>4</th>\n",
       "      <td>8</td>\n",
       "      <td>6</td>\n",
       "    </tr>\n",
       "  </tbody>\n",
       "</table>\n",
       "</div>"
      ],
      "text/plain": [
       "   product_id  order_id\n",
       "0           1       158\n",
       "1           3        31\n",
       "2           4        25\n",
       "3           7         1\n",
       "4           8         6"
      ]
     },
     "metadata": {},
     "output_type": "display_data"
    }
   ],
   "source": [
    "reorder_items = orders_products[orders_products['reordered'] == 1]\n",
    "\n",
    "reorder_counts = reorder_items.groupby('product_id')['order_id'].count().reset_index()\n",
    "display(reorder_counts.head())"
   ]
  },
  {
   "cell_type": "code",
   "execution_count": null,
   "id": "professional-surfing",
   "metadata": {
    "scrolled": true
   },
   "outputs": [
    {
     "data": {
      "text/html": [
       "<div>\n",
       "<style scoped>\n",
       "    .dataframe tbody tr th:only-of-type {\n",
       "        vertical-align: middle;\n",
       "    }\n",
       "\n",
       "    .dataframe tbody tr th {\n",
       "        vertical-align: top;\n",
       "    }\n",
       "\n",
       "    .dataframe thead th {\n",
       "        text-align: right;\n",
       "    }\n",
       "</style>\n",
       "<table border=\"1\" class=\"dataframe\">\n",
       "  <thead>\n",
       "    <tr style=\"text-align: right;\">\n",
       "      <th></th>\n",
       "      <th>product_id</th>\n",
       "      <th>reorder_count</th>\n",
       "    </tr>\n",
       "  </thead>\n",
       "  <tbody>\n",
       "    <tr>\n",
       "      <th>18104</th>\n",
       "      <td>24852</td>\n",
       "      <td>55763</td>\n",
       "    </tr>\n",
       "    <tr>\n",
       "      <th>9528</th>\n",
       "      <td>13176</td>\n",
       "      <td>44450</td>\n",
       "    </tr>\n",
       "    <tr>\n",
       "      <th>15368</th>\n",
       "      <td>21137</td>\n",
       "      <td>28639</td>\n",
       "    </tr>\n",
       "    <tr>\n",
       "      <th>15936</th>\n",
       "      <td>21903</td>\n",
       "      <td>26233</td>\n",
       "    </tr>\n",
       "    <tr>\n",
       "      <th>34407</th>\n",
       "      <td>47209</td>\n",
       "      <td>23629</td>\n",
       "    </tr>\n",
       "  </tbody>\n",
       "</table>\n",
       "</div>"
      ],
      "text/plain": [
       "       product_id  reorder_count\n",
       "18104       24852          55763\n",
       "9528        13176          44450\n",
       "15368       21137          28639\n",
       "15936       21903          26233\n",
       "34407       47209          23629"
      ]
     },
     "metadata": {},
     "output_type": "display_data"
    }
   ],
   "source": [
    "reorder_counts.columns = ['product_id', 'reorder_count']\n",
    "\n",
    "top_20_reordered = reorder_counts.sort_values(by='reorder_count', ascending=False).head(20)\n",
    "display(top_20_reordered.head())"
   ]
  },
  {
   "cell_type": "code",
   "execution_count": null,
   "id": "103e7fe1",
   "metadata": {
    "scrolled": true
   },
   "outputs": [
    {
     "data": {
      "text/html": [
       "<div>\n",
       "<style scoped>\n",
       "    .dataframe tbody tr th:only-of-type {\n",
       "        vertical-align: middle;\n",
       "    }\n",
       "\n",
       "    .dataframe tbody tr th {\n",
       "        vertical-align: top;\n",
       "    }\n",
       "\n",
       "    .dataframe thead th {\n",
       "        text-align: right;\n",
       "    }\n",
       "</style>\n",
       "<table border=\"1\" class=\"dataframe\">\n",
       "  <thead>\n",
       "    <tr style=\"text-align: right;\">\n",
       "      <th></th>\n",
       "      <th>product_id</th>\n",
       "      <th>product_name</th>\n",
       "      <th>reorder_count</th>\n",
       "    </tr>\n",
       "  </thead>\n",
       "  <tbody>\n",
       "    <tr>\n",
       "      <th>7</th>\n",
       "      <td>24852</td>\n",
       "      <td>Banana</td>\n",
       "      <td>55763</td>\n",
       "    </tr>\n",
       "    <tr>\n",
       "      <th>2</th>\n",
       "      <td>13176</td>\n",
       "      <td>Bag of Organic Bananas</td>\n",
       "      <td>44450</td>\n",
       "    </tr>\n",
       "    <tr>\n",
       "      <th>4</th>\n",
       "      <td>21137</td>\n",
       "      <td>Organic Strawberries</td>\n",
       "      <td>28639</td>\n",
       "    </tr>\n",
       "    <tr>\n",
       "      <th>5</th>\n",
       "      <td>21903</td>\n",
       "      <td>Organic Baby Spinach</td>\n",
       "      <td>26233</td>\n",
       "    </tr>\n",
       "    <tr>\n",
       "      <th>15</th>\n",
       "      <td>47209</td>\n",
       "      <td>Organic Hass Avocado</td>\n",
       "      <td>23629</td>\n",
       "    </tr>\n",
       "    <tr>\n",
       "      <th>17</th>\n",
       "      <td>47766</td>\n",
       "      <td>Organic Avocado</td>\n",
       "      <td>18743</td>\n",
       "    </tr>\n",
       "    <tr>\n",
       "      <th>10</th>\n",
       "      <td>27845</td>\n",
       "      <td>Organic Whole Milk</td>\n",
       "      <td>16251</td>\n",
       "    </tr>\n",
       "    <tr>\n",
       "      <th>16</th>\n",
       "      <td>47626</td>\n",
       "      <td>Large Lemon</td>\n",
       "      <td>15044</td>\n",
       "    </tr>\n",
       "    <tr>\n",
       "      <th>11</th>\n",
       "      <td>27966</td>\n",
       "      <td>Organic Raspberries</td>\n",
       "      <td>14748</td>\n",
       "    </tr>\n",
       "    <tr>\n",
       "      <th>3</th>\n",
       "      <td>16797</td>\n",
       "      <td>Strawberries</td>\n",
       "      <td>13945</td>\n",
       "    </tr>\n",
       "    <tr>\n",
       "      <th>9</th>\n",
       "      <td>26209</td>\n",
       "      <td>Limes</td>\n",
       "      <td>13327</td>\n",
       "    </tr>\n",
       "    <tr>\n",
       "      <th>6</th>\n",
       "      <td>22935</td>\n",
       "      <td>Organic Yellow Onion</td>\n",
       "      <td>11145</td>\n",
       "    </tr>\n",
       "    <tr>\n",
       "      <th>8</th>\n",
       "      <td>24964</td>\n",
       "      <td>Organic Garlic</td>\n",
       "      <td>10411</td>\n",
       "    </tr>\n",
       "    <tr>\n",
       "      <th>14</th>\n",
       "      <td>45007</td>\n",
       "      <td>Organic Zucchini</td>\n",
       "      <td>10076</td>\n",
       "    </tr>\n",
       "    <tr>\n",
       "      <th>19</th>\n",
       "      <td>49683</td>\n",
       "      <td>Cucumber Kirby</td>\n",
       "      <td>9538</td>\n",
       "    </tr>\n",
       "    <tr>\n",
       "      <th>12</th>\n",
       "      <td>28204</td>\n",
       "      <td>Organic Fuji Apple</td>\n",
       "      <td>8989</td>\n",
       "    </tr>\n",
       "    <tr>\n",
       "      <th>1</th>\n",
       "      <td>8277</td>\n",
       "      <td>Apple Honeycrisp Organic</td>\n",
       "      <td>8836</td>\n",
       "    </tr>\n",
       "    <tr>\n",
       "      <th>13</th>\n",
       "      <td>39275</td>\n",
       "      <td>Organic Blueberries</td>\n",
       "      <td>8799</td>\n",
       "    </tr>\n",
       "    <tr>\n",
       "      <th>0</th>\n",
       "      <td>5876</td>\n",
       "      <td>Organic Lemon</td>\n",
       "      <td>8412</td>\n",
       "    </tr>\n",
       "    <tr>\n",
       "      <th>18</th>\n",
       "      <td>49235</td>\n",
       "      <td>Organic Half &amp; Half</td>\n",
       "      <td>8389</td>\n",
       "    </tr>\n",
       "  </tbody>\n",
       "</table>\n",
       "</div>"
      ],
      "text/plain": [
       "    product_id              product_name  reorder_count\n",
       "7        24852                    Banana          55763\n",
       "2        13176    Bag of Organic Bananas          44450\n",
       "4        21137      Organic Strawberries          28639\n",
       "5        21903      Organic Baby Spinach          26233\n",
       "15       47209      Organic Hass Avocado          23629\n",
       "17       47766           Organic Avocado          18743\n",
       "10       27845        Organic Whole Milk          16251\n",
       "16       47626               Large Lemon          15044\n",
       "11       27966       Organic Raspberries          14748\n",
       "3        16797              Strawberries          13945\n",
       "9        26209                     Limes          13327\n",
       "6        22935      Organic Yellow Onion          11145\n",
       "8        24964            Organic Garlic          10411\n",
       "14       45007          Organic Zucchini          10076\n",
       "19       49683            Cucumber Kirby           9538\n",
       "12       28204        Organic Fuji Apple           8989\n",
       "1         8277  Apple Honeycrisp Organic           8836\n",
       "13       39275       Organic Blueberries           8799\n",
       "0         5876             Organic Lemon           8412\n",
       "18       49235       Organic Half & Half           8389"
      ]
     },
     "metadata": {},
     "output_type": "display_data"
    }
   ],
   "source": [
    "top_20_reordered = products.merge(top_20_reordered,\n",
    "                           on='product_id')\n",
    "\n",
    "display(top_20_reordered[['product_id', 'product_name', 'reorder_count']].sort_values(by='reorder_count', ascending=False))"
   ]
  },
  {
   "cell_type": "markdown",
   "id": "33906e0f",
   "metadata": {},
   "source": [
    "The data illustrates that the top 20 items that are reordered frequently are among the top 20 popular items. Among those most of the items are organic and consists of naturals items such as banana, limes, lemon, and cucumber. Not only that they are not among the top 20 popular items, but they are in the same order as in the 20 popular items. So, it can be concluded that the top 20 items that are reordered frequently are the top 20 popular items. "
   ]
  },
  {
   "cell_type": "markdown",
   "id": "92d35137",
   "metadata": {},
   "source": [
    "## What are the top 20 items that people put in their carts first? "
   ]
  },
  {
   "cell_type": "code",
   "execution_count": null,
   "id": "0ae57274",
   "metadata": {
    "scrolled": true
   },
   "outputs": [],
   "source": [
    "# Filter for the first item in each order\n",
    "first_items = orders_products[orders_products['add_to_cart_order'] == 1]"
   ]
  },
  {
   "cell_type": "code",
   "execution_count": null,
   "id": "forty-netherlands",
   "metadata": {
    "scrolled": true
   },
   "outputs": [],
   "source": [
    "# Count the number of times each product is the first item in the cart\n",
    "first_item_counts = first_items['product_id'].value_counts()\n",
    "\n",
    "# Get the top 20 products by frequency of being the first item\n",
    "top_20_first_items_ids = first_item_counts.head(20).index"
   ]
  },
  {
   "cell_type": "code",
   "execution_count": null,
   "id": "08e41ec2",
   "metadata": {},
   "outputs": [
    {
     "data": {
      "text/html": [
       "<div>\n",
       "<style scoped>\n",
       "    .dataframe tbody tr th:only-of-type {\n",
       "        vertical-align: middle;\n",
       "    }\n",
       "\n",
       "    .dataframe tbody tr th {\n",
       "        vertical-align: top;\n",
       "    }\n",
       "\n",
       "    .dataframe thead th {\n",
       "        text-align: right;\n",
       "    }\n",
       "</style>\n",
       "<table border=\"1\" class=\"dataframe\">\n",
       "  <thead>\n",
       "    <tr style=\"text-align: right;\">\n",
       "      <th></th>\n",
       "      <th>product_id</th>\n",
       "      <th>product_name</th>\n",
       "    </tr>\n",
       "  </thead>\n",
       "  <tbody>\n",
       "    <tr>\n",
       "      <th>195</th>\n",
       "      <td>196</td>\n",
       "      <td>Soda</td>\n",
       "    </tr>\n",
       "    <tr>\n",
       "      <th>5784</th>\n",
       "      <td>5785</td>\n",
       "      <td>Organic Reduced Fat 2% Milk</td>\n",
       "    </tr>\n",
       "    <tr>\n",
       "      <th>12340</th>\n",
       "      <td>12341</td>\n",
       "      <td>Hass Avocados</td>\n",
       "    </tr>\n",
       "    <tr>\n",
       "      <th>13175</th>\n",
       "      <td>13176</td>\n",
       "      <td>Bag of Organic Bananas</td>\n",
       "    </tr>\n",
       "    <tr>\n",
       "      <th>16796</th>\n",
       "      <td>16797</td>\n",
       "      <td>Strawberries</td>\n",
       "    </tr>\n",
       "    <tr>\n",
       "      <th>19659</th>\n",
       "      <td>19660</td>\n",
       "      <td>Spring Water</td>\n",
       "    </tr>\n",
       "    <tr>\n",
       "      <th>21136</th>\n",
       "      <td>21137</td>\n",
       "      <td>Organic Strawberries</td>\n",
       "    </tr>\n",
       "    <tr>\n",
       "      <th>21902</th>\n",
       "      <td>21903</td>\n",
       "      <td>Organic Baby Spinach</td>\n",
       "    </tr>\n",
       "    <tr>\n",
       "      <th>24851</th>\n",
       "      <td>24852</td>\n",
       "      <td>Banana</td>\n",
       "    </tr>\n",
       "    <tr>\n",
       "      <th>26208</th>\n",
       "      <td>26209</td>\n",
       "      <td>Limes</td>\n",
       "    </tr>\n",
       "    <tr>\n",
       "      <th>27085</th>\n",
       "      <td>27086</td>\n",
       "      <td>Half &amp; Half</td>\n",
       "    </tr>\n",
       "    <tr>\n",
       "      <th>27844</th>\n",
       "      <td>27845</td>\n",
       "      <td>Organic Whole Milk</td>\n",
       "    </tr>\n",
       "    <tr>\n",
       "      <th>27965</th>\n",
       "      <td>27966</td>\n",
       "      <td>Organic Raspberries</td>\n",
       "    </tr>\n",
       "    <tr>\n",
       "      <th>38688</th>\n",
       "      <td>38689</td>\n",
       "      <td>Organic Reduced Fat Milk</td>\n",
       "    </tr>\n",
       "    <tr>\n",
       "      <th>43351</th>\n",
       "      <td>43352</td>\n",
       "      <td>Raspberries</td>\n",
       "    </tr>\n",
       "    <tr>\n",
       "      <th>44631</th>\n",
       "      <td>44632</td>\n",
       "      <td>Sparkling Water Grapefruit</td>\n",
       "    </tr>\n",
       "    <tr>\n",
       "      <th>47208</th>\n",
       "      <td>47209</td>\n",
       "      <td>Organic Hass Avocado</td>\n",
       "    </tr>\n",
       "    <tr>\n",
       "      <th>47625</th>\n",
       "      <td>47626</td>\n",
       "      <td>Large Lemon</td>\n",
       "    </tr>\n",
       "    <tr>\n",
       "      <th>47765</th>\n",
       "      <td>47766</td>\n",
       "      <td>Organic Avocado</td>\n",
       "    </tr>\n",
       "    <tr>\n",
       "      <th>49234</th>\n",
       "      <td>49235</td>\n",
       "      <td>Organic Half &amp; Half</td>\n",
       "    </tr>\n",
       "  </tbody>\n",
       "</table>\n",
       "</div>"
      ],
      "text/plain": [
       "       product_id                 product_name\n",
       "195           196                         Soda\n",
       "5784         5785  Organic Reduced Fat 2% Milk\n",
       "12340       12341                Hass Avocados\n",
       "13175       13176       Bag of Organic Bananas\n",
       "16796       16797                 Strawberries\n",
       "19659       19660                 Spring Water\n",
       "21136       21137         Organic Strawberries\n",
       "21902       21903         Organic Baby Spinach\n",
       "24851       24852                       Banana\n",
       "26208       26209                        Limes\n",
       "27085       27086                  Half & Half\n",
       "27844       27845           Organic Whole Milk\n",
       "27965       27966          Organic Raspberries\n",
       "38688       38689     Organic Reduced Fat Milk\n",
       "43351       43352                  Raspberries\n",
       "44631       44632   Sparkling Water Grapefruit\n",
       "47208       47209         Organic Hass Avocado\n",
       "47625       47626                  Large Lemon\n",
       "47765       47766              Organic Avocado\n",
       "49234       49235          Organic Half & Half"
      ]
     },
     "metadata": {},
     "output_type": "display_data"
    }
   ],
   "source": [
    "# Merge with products to get product names\n",
    "top_20_first_items = products[products['product_id'].isin(top_20_first_items_ids)]\n",
    "\n",
    "display(top_20_first_items[['product_id', 'product_name']])"
   ]
  },
  {
   "cell_type": "markdown",
   "id": "5ce6bc65",
   "metadata": {},
   "source": [
    "The data illustrates that the top 20 items that people put in their carts first includes items thare are among the top popular items and among the ones reordered most frequently. Along with those natural and organic items, it also includes soda becoming the top items among the list of items which are placed in the cart first.  "
   ]
  },
  {
   "cell_type": "markdown",
   "id": "f84c3395",
   "metadata": {},
   "source": [
    "## Overall conclusion:\n",
    "   In this project, we worked with data from Instacart. The dataset provided for this project has been modified from the original. After the data is cleaned, the data is used to prepare a report that gave an insight into the shopping habits of Instacart customers. From the data, it is known that Instacart customers have diverse shopping habits. As there are customers ordering at any hour of the day, most of the customers prefer to buy during daytime starting from 7 in the morning till 8 at night. This showed that the number of orders placed gradually declines towards the end of the day. Also there are customers ordering at any day of the week, but most of the customers buy groceries on Sunday and Monday. Thus, the data reveals that the number of orders placed are dependent on the time and day orders are placed. Most of the Instacart customers wait a week and a month until placing another order. This shows that most of the customers buy groceries during weekend and once in a month. Also, most of the items bought by the customers are organic food items including natural food such as fruits and vegetables. Those are the same items which are among the most popular items, top items reordered most frequently, and lastly among the items people put in their carts first. One such item in the top 20 items that people put in their cart first which is artificial is Sodas. This data shows that most of the instacart customers are more in buying organic grocieries items rather than artifical ones. "
   ]
  }
 ],
 "metadata": {
  "ExecuteTimeLog": [
   {
    "duration": 316,
    "start_time": "2024-08-18T17:51:33.181Z"
   },
   {
    "duration": 459,
    "start_time": "2024-08-18T17:51:42.437Z"
   },
   {
    "duration": 471,
    "start_time": "2024-08-18T17:51:44.006Z"
   },
   {
    "duration": 83,
    "start_time": "2024-08-18T17:53:45.781Z"
   },
   {
    "duration": 87,
    "start_time": "2024-08-18T17:54:54.475Z"
   },
   {
    "duration": 742,
    "start_time": "2024-08-18T17:56:09.657Z"
   },
   {
    "duration": 14,
    "start_time": "2024-08-18T17:56:53.225Z"
   },
   {
    "duration": 3327,
    "start_time": "2024-08-18T17:57:58.269Z"
   },
   {
    "duration": 3,
    "start_time": "2024-08-18T18:39:03.673Z"
   },
   {
    "duration": 413,
    "start_time": "2024-08-18T18:39:04.620Z"
   },
   {
    "duration": 49,
    "start_time": "2024-08-18T18:39:08.578Z"
   },
   {
    "duration": 9,
    "start_time": "2024-08-18T18:39:10.076Z"
   },
   {
    "duration": 3322,
    "start_time": "2024-08-18T18:39:15.588Z"
   },
   {
    "duration": 199,
    "start_time": "2024-08-18T18:40:44.974Z"
   },
   {
    "duration": 55,
    "start_time": "2024-08-18T18:42:14.320Z"
   },
   {
    "duration": 10,
    "start_time": "2024-08-18T18:42:28.371Z"
   },
   {
    "duration": 1304,
    "start_time": "2024-08-18T18:43:01.894Z"
   },
   {
    "duration": 47,
    "start_time": "2024-08-18T18:44:18.692Z"
   },
   {
    "duration": 53,
    "start_time": "2024-08-18T18:44:33.608Z"
   },
   {
    "duration": 364,
    "start_time": "2024-08-18T18:46:24.529Z"
   },
   {
    "duration": 24,
    "start_time": "2024-08-18T18:46:40.205Z"
   },
   {
    "duration": 206,
    "start_time": "2024-08-18T18:47:09.723Z"
   },
   {
    "duration": 7,
    "start_time": "2024-08-18T18:47:59.705Z"
   },
   {
    "duration": 183,
    "start_time": "2024-08-18T18:48:07.458Z"
   },
   {
    "duration": 23,
    "start_time": "2024-08-18T18:50:12.401Z"
   },
   {
    "duration": 181,
    "start_time": "2024-08-18T18:50:54.692Z"
   },
   {
    "duration": 190,
    "start_time": "2024-08-18T18:52:37.024Z"
   },
   {
    "duration": 52,
    "start_time": "2024-08-18T18:52:59.508Z"
   },
   {
    "duration": 10,
    "start_time": "2024-08-18T18:53:12.021Z"
   },
   {
    "duration": 1216,
    "start_time": "2024-08-18T18:53:32.498Z"
   },
   {
    "duration": 196,
    "start_time": "2024-08-18T18:55:26.693Z"
   },
   {
    "duration": 190,
    "start_time": "2024-08-18T18:55:35.177Z"
   },
   {
    "duration": 63,
    "start_time": "2024-08-18T18:55:48.286Z"
   },
   {
    "duration": 18,
    "start_time": "2024-08-18T18:56:00.878Z"
   },
   {
    "duration": 1226,
    "start_time": "2024-08-18T18:56:13.901Z"
   },
   {
    "duration": 313,
    "start_time": "2024-08-18T22:19:58.352Z"
   },
   {
    "duration": 447,
    "start_time": "2024-08-18T22:20:03.681Z"
   },
   {
    "duration": 277,
    "start_time": "2024-08-18T22:20:04.995Z"
   },
   {
    "duration": 103,
    "start_time": "2024-08-18T22:20:08.722Z"
   },
   {
    "duration": 22,
    "start_time": "2024-08-18T22:20:11.676Z"
   },
   {
    "duration": 1323,
    "start_time": "2024-08-18T22:20:14.456Z"
   },
   {
    "duration": 1310,
    "start_time": "2024-08-18T22:20:52.709Z"
   },
   {
    "duration": 214,
    "start_time": "2024-08-18T22:31:20.917Z"
   },
   {
    "duration": 439,
    "start_time": "2024-08-18T22:31:46.100Z"
   },
   {
    "duration": 124,
    "start_time": "2024-08-18T22:32:08.101Z"
   },
   {
    "duration": 67,
    "start_time": "2024-08-18T22:32:36.687Z"
   },
   {
    "duration": 4,
    "start_time": "2024-08-18T22:32:37.923Z"
   },
   {
    "duration": 57,
    "start_time": "2024-08-18T22:32:39.123Z"
   },
   {
    "duration": 61,
    "start_time": "2024-08-18T22:32:50.379Z"
   },
   {
    "duration": 206,
    "start_time": "2024-08-18T22:33:10.490Z"
   },
   {
    "duration": 198,
    "start_time": "2024-08-18T22:49:55.585Z"
   },
   {
    "duration": 69,
    "start_time": "2024-08-18T22:50:04.727Z"
   },
   {
    "duration": 19,
    "start_time": "2024-08-18T22:50:11.786Z"
   },
   {
    "duration": 1268,
    "start_time": "2024-08-18T22:50:18.414Z"
   },
   {
    "duration": 195,
    "start_time": "2024-08-18T22:54:19.451Z"
   },
   {
    "duration": 198,
    "start_time": "2024-08-18T22:55:41.661Z"
   },
   {
    "duration": 192,
    "start_time": "2024-08-18T22:56:40.246Z"
   },
   {
    "duration": 69,
    "start_time": "2024-08-18T22:57:55.352Z"
   },
   {
    "duration": 68,
    "start_time": "2024-08-18T22:58:29.144Z"
   },
   {
    "duration": 19,
    "start_time": "2024-08-18T22:59:39.384Z"
   },
   {
    "duration": 1276,
    "start_time": "2024-08-18T22:59:56.548Z"
   },
   {
    "duration": 329,
    "start_time": "2024-08-18T23:05:39.477Z"
   },
   {
    "duration": 94,
    "start_time": "2024-08-18T23:06:08.867Z"
   },
   {
    "duration": 26,
    "start_time": "2024-08-18T23:06:21.695Z"
   },
   {
    "duration": 2120,
    "start_time": "2024-08-18T23:06:42.951Z"
   },
   {
    "duration": 34,
    "start_time": "2024-08-18T23:10:31.293Z"
   },
   {
    "duration": 37,
    "start_time": "2024-08-18T23:10:47.729Z"
   },
   {
    "duration": 32,
    "start_time": "2024-08-18T23:10:54.263Z"
   },
   {
    "duration": 26,
    "start_time": "2024-08-18T23:10:59.433Z"
   },
   {
    "duration": 2128,
    "start_time": "2024-08-18T23:11:07.606Z"
   },
   {
    "duration": 2040,
    "start_time": "2024-08-18T23:12:33.845Z"
   },
   {
    "duration": 24,
    "start_time": "2024-08-18T23:21:55.714Z"
   },
   {
    "duration": 199,
    "start_time": "2024-08-18T23:22:25.516Z"
   },
   {
    "duration": 323,
    "start_time": "2024-08-18T23:22:28.867Z"
   },
   {
    "duration": 69,
    "start_time": "2024-08-18T23:23:11.223Z"
   },
   {
    "duration": 79,
    "start_time": "2024-08-18T23:23:13.739Z"
   },
   {
    "duration": 77,
    "start_time": "2024-08-18T23:40:44.951Z"
   },
   {
    "duration": 150,
    "start_time": "2024-08-18T23:40:54.783Z"
   },
   {
    "duration": 132,
    "start_time": "2024-08-18T23:41:57.945Z"
   },
   {
    "duration": 28,
    "start_time": "2024-08-18T23:51:13.235Z"
   },
   {
    "duration": 13,
    "start_time": "2024-08-18T23:51:50.660Z"
   },
   {
    "duration": 7,
    "start_time": "2024-08-18T23:51:52.692Z"
   },
   {
    "duration": 12,
    "start_time": "2024-08-18T23:52:24.287Z"
   },
   {
    "duration": 8,
    "start_time": "2024-08-18T23:58:00.134Z"
   },
   {
    "duration": 13,
    "start_time": "2024-08-18T23:58:06.886Z"
   },
   {
    "duration": 12,
    "start_time": "2024-08-18T23:58:16.836Z"
   },
   {
    "duration": 23,
    "start_time": "2024-08-19T00:02:28.371Z"
   },
   {
    "duration": 164,
    "start_time": "2024-08-19T00:02:33.002Z"
   },
   {
    "duration": 11,
    "start_time": "2024-08-19T00:02:34.452Z"
   },
   {
    "duration": 181,
    "start_time": "2024-08-19T00:03:34.307Z"
   },
   {
    "duration": 171,
    "start_time": "2024-08-19T00:03:44.012Z"
   },
   {
    "duration": 175,
    "start_time": "2024-08-19T00:03:49.971Z"
   },
   {
    "duration": 183,
    "start_time": "2024-08-19T00:03:51.119Z"
   },
   {
    "duration": 153,
    "start_time": "2024-08-19T00:04:25.463Z"
   },
   {
    "duration": 187,
    "start_time": "2024-08-19T00:04:30.719Z"
   },
   {
    "duration": 171,
    "start_time": "2024-08-19T00:04:31.840Z"
   },
   {
    "duration": 145,
    "start_time": "2024-08-19T00:04:52.218Z"
   },
   {
    "duration": 179,
    "start_time": "2024-08-19T00:05:21.772Z"
   },
   {
    "duration": 172,
    "start_time": "2024-08-19T00:05:23.249Z"
   },
   {
    "duration": 9,
    "start_time": "2024-08-19T00:05:47.838Z"
   },
   {
    "duration": 160,
    "start_time": "2024-08-19T00:05:49.086Z"
   },
   {
    "duration": 140,
    "start_time": "2024-08-19T00:05:50.513Z"
   },
   {
    "duration": 146,
    "start_time": "2024-08-19T00:05:55.569Z"
   },
   {
    "duration": 11,
    "start_time": "2024-08-19T00:05:57.933Z"
   },
   {
    "duration": 9,
    "start_time": "2024-08-19T00:06:00.060Z"
   },
   {
    "duration": 166,
    "start_time": "2024-08-19T00:06:01.799Z"
   },
   {
    "duration": 12,
    "start_time": "2024-08-19T00:07:18.806Z"
   },
   {
    "duration": 9,
    "start_time": "2024-08-19T00:09:12.123Z"
   },
   {
    "duration": 151,
    "start_time": "2024-08-19T00:09:14.527Z"
   },
   {
    "duration": 9,
    "start_time": "2024-08-19T00:10:01.302Z"
   },
   {
    "duration": 9,
    "start_time": "2024-08-19T00:10:02.402Z"
   },
   {
    "duration": 131,
    "start_time": "2024-08-19T00:10:09.331Z"
   },
   {
    "duration": 12,
    "start_time": "2024-08-19T00:10:16.457Z"
   },
   {
    "duration": 10,
    "start_time": "2024-08-19T00:10:18.914Z"
   },
   {
    "duration": 10,
    "start_time": "2024-08-19T00:10:20.984Z"
   },
   {
    "duration": 331,
    "start_time": "2024-08-19T00:11:14.229Z"
   },
   {
    "duration": 180,
    "start_time": "2024-08-19T00:11:50.854Z"
   },
   {
    "duration": 14,
    "start_time": "2024-08-19T00:11:55.758Z"
   },
   {
    "duration": 10,
    "start_time": "2024-08-19T00:12:07.272Z"
   },
   {
    "duration": 10,
    "start_time": "2024-08-19T00:12:12.960Z"
   },
   {
    "duration": 174,
    "start_time": "2024-08-19T00:12:44.134Z"
   },
   {
    "duration": 163,
    "start_time": "2024-08-19T00:13:04.049Z"
   },
   {
    "duration": 140,
    "start_time": "2024-08-19T00:16:07.803Z"
   },
   {
    "duration": 12,
    "start_time": "2024-08-19T00:16:09.850Z"
   },
   {
    "duration": 159,
    "start_time": "2024-08-19T00:16:12.790Z"
   },
   {
    "duration": 153,
    "start_time": "2024-08-19T00:16:14.770Z"
   },
   {
    "duration": 23,
    "start_time": "2024-08-19T00:19:19.268Z"
   },
   {
    "duration": 25,
    "start_time": "2024-08-19T00:19:37.346Z"
   },
   {
    "duration": 24,
    "start_time": "2024-08-19T00:19:57.232Z"
   },
   {
    "duration": 23,
    "start_time": "2024-08-19T00:19:58.504Z"
   },
   {
    "duration": 323,
    "start_time": "2024-08-19T00:20:27.531Z"
   },
   {
    "duration": 60,
    "start_time": "2024-08-19T00:20:37.938Z"
   },
   {
    "duration": 59,
    "start_time": "2024-08-19T00:20:53.505Z"
   },
   {
    "duration": 38,
    "start_time": "2024-08-19T00:21:02.092Z"
   },
   {
    "duration": 9,
    "start_time": "2024-08-19T00:21:09.955Z"
   },
   {
    "duration": 168,
    "start_time": "2024-08-19T00:21:12.525Z"
   },
   {
    "duration": 140,
    "start_time": "2024-08-19T00:21:13.480Z"
   },
   {
    "duration": 49,
    "start_time": "2024-08-19T00:21:15.308Z"
   },
   {
    "duration": 175,
    "start_time": "2024-08-19T00:22:31.588Z"
   },
   {
    "duration": 172,
    "start_time": "2024-08-19T00:22:32.867Z"
   },
   {
    "duration": 42,
    "start_time": "2024-08-19T00:22:34.916Z"
   },
   {
    "duration": 55,
    "start_time": "2024-08-19T00:22:46.664Z"
   },
   {
    "duration": 45,
    "start_time": "2024-08-19T00:22:57.267Z"
   },
   {
    "duration": 83,
    "start_time": "2024-08-19T00:23:49.525Z"
   },
   {
    "duration": 85,
    "start_time": "2024-08-19T00:23:50.843Z"
   },
   {
    "duration": 159,
    "start_time": "2024-08-19T00:23:53.733Z"
   },
   {
    "duration": 161,
    "start_time": "2024-08-19T00:23:54.902Z"
   },
   {
    "duration": 82,
    "start_time": "2024-08-19T00:23:56.435Z"
   },
   {
    "duration": 179,
    "start_time": "2024-08-19T00:24:32.672Z"
   },
   {
    "duration": 142,
    "start_time": "2024-08-19T00:24:34.129Z"
   },
   {
    "duration": 47,
    "start_time": "2024-08-19T00:24:36.190Z"
   },
   {
    "duration": 58,
    "start_time": "2024-08-19T00:24:38.162Z"
   },
   {
    "duration": 187,
    "start_time": "2024-08-19T00:25:15.888Z"
   },
   {
    "duration": 167,
    "start_time": "2024-08-19T00:25:16.254Z"
   },
   {
    "duration": 140,
    "start_time": "2024-08-19T00:25:20.311Z"
   },
   {
    "duration": 177,
    "start_time": "2024-08-19T00:58:46.805Z"
   },
   {
    "duration": 180,
    "start_time": "2024-08-19T00:58:48.470Z"
   },
   {
    "duration": 471,
    "start_time": "2024-08-19T03:55:07.430Z"
   },
   {
    "duration": 426,
    "start_time": "2024-08-19T03:55:09.350Z"
   },
   {
    "duration": 119,
    "start_time": "2024-08-19T03:55:10.392Z"
   },
   {
    "duration": 26,
    "start_time": "2024-08-19T03:55:11.116Z"
   },
   {
    "duration": 27,
    "start_time": "2024-08-19T03:55:11.821Z"
   },
   {
    "duration": 2112,
    "start_time": "2024-08-19T03:55:12.398Z"
   },
   {
    "duration": 173,
    "start_time": "2024-08-19T03:55:19.440Z"
   },
   {
    "duration": 13,
    "start_time": "2024-08-19T03:55:21.081Z"
   },
   {
    "duration": 172,
    "start_time": "2024-08-19T03:55:23.246Z"
   },
   {
    "duration": 153,
    "start_time": "2024-08-19T03:55:24.627Z"
   },
   {
    "duration": 47,
    "start_time": "2024-08-19T04:01:05.521Z"
   },
   {
    "duration": 44,
    "start_time": "2024-08-19T04:03:02.133Z"
   },
   {
    "duration": 45,
    "start_time": "2024-08-19T04:04:52.730Z"
   },
   {
    "duration": 40,
    "start_time": "2024-08-19T04:06:21.265Z"
   },
   {
    "duration": 41,
    "start_time": "2024-08-19T04:06:23.175Z"
   },
   {
    "duration": 40,
    "start_time": "2024-08-19T04:06:37.580Z"
   },
   {
    "duration": 384,
    "start_time": "2024-08-19T04:07:26.757Z"
   },
   {
    "duration": 358,
    "start_time": "2024-08-19T04:07:36.559Z"
   },
   {
    "duration": 12,
    "start_time": "2024-08-19T04:08:29.694Z"
   },
   {
    "duration": 159,
    "start_time": "2024-08-19T04:08:34.203Z"
   },
   {
    "duration": 11,
    "start_time": "2024-08-19T04:08:36.795Z"
   },
   {
    "duration": 174,
    "start_time": "2024-08-19T04:08:39.665Z"
   },
   {
    "duration": 150,
    "start_time": "2024-08-19T04:08:41.830Z"
   },
   {
    "duration": 102,
    "start_time": "2024-08-19T04:08:43.727Z"
   },
   {
    "duration": 108,
    "start_time": "2024-08-19T04:09:42.707Z"
   },
   {
    "duration": 24,
    "start_time": "2024-08-19T04:09:51.355Z"
   },
   {
    "duration": 60,
    "start_time": "2024-08-19T04:10:01.657Z"
   },
   {
    "duration": 71,
    "start_time": "2024-08-19T04:10:30.675Z"
   },
   {
    "duration": 44,
    "start_time": "2024-08-19T04:10:39.347Z"
   },
   {
    "duration": 44,
    "start_time": "2024-08-19T04:12:25.778Z"
   },
   {
    "duration": 46,
    "start_time": "2024-08-19T04:12:26.821Z"
   },
   {
    "duration": 23,
    "start_time": "2024-08-19T04:14:12.541Z"
   },
   {
    "duration": 195,
    "start_time": "2024-08-19T04:19:49.480Z"
   },
   {
    "duration": 153,
    "start_time": "2024-08-19T04:19:57.553Z"
   },
   {
    "duration": 23,
    "start_time": "2024-08-19T04:23:33.072Z"
   },
   {
    "duration": 10,
    "start_time": "2024-08-19T04:23:36.693Z"
   },
   {
    "duration": 186,
    "start_time": "2024-08-19T04:23:39.715Z"
   },
   {
    "duration": 155,
    "start_time": "2024-08-19T04:23:43.495Z"
   },
   {
    "duration": 11,
    "start_time": "2024-08-19T04:23:45.177Z"
   },
   {
    "duration": 163,
    "start_time": "2024-08-19T04:23:47.440Z"
   },
   {
    "duration": 182,
    "start_time": "2024-08-19T04:23:48.633Z"
   },
   {
    "duration": 26,
    "start_time": "2024-08-19T04:23:49.911Z"
   },
   {
    "duration": 28,
    "start_time": "2024-08-19T04:23:59.647Z"
   },
   {
    "duration": 9,
    "start_time": "2024-08-19T04:24:08.271Z"
   },
   {
    "duration": 161,
    "start_time": "2024-08-19T04:24:13.515Z"
   },
   {
    "duration": 12,
    "start_time": "2024-08-19T04:24:16.004Z"
   },
   {
    "duration": 192,
    "start_time": "2024-08-19T04:24:20.045Z"
   },
   {
    "duration": 152,
    "start_time": "2024-08-19T04:24:21.716Z"
   },
   {
    "duration": 22,
    "start_time": "2024-08-19T04:24:23.808Z"
   },
   {
    "duration": 262,
    "start_time": "2024-08-19T04:24:43.262Z"
   },
   {
    "duration": 21,
    "start_time": "2024-08-19T04:25:28.543Z"
   },
   {
    "duration": 50,
    "start_time": "2024-08-19T04:26:53.880Z"
   },
   {
    "duration": 25,
    "start_time": "2024-08-19T04:27:00.083Z"
   },
   {
    "duration": 49,
    "start_time": "2024-08-19T04:27:02.252Z"
   },
   {
    "duration": 351,
    "start_time": "2024-08-19T04:35:06.575Z"
   },
   {
    "duration": 85,
    "start_time": "2024-08-19T04:35:07.427Z"
   },
   {
    "duration": 29,
    "start_time": "2024-08-19T04:35:07.954Z"
   },
   {
    "duration": 33,
    "start_time": "2024-08-19T04:35:08.116Z"
   },
   {
    "duration": 2484,
    "start_time": "2024-08-19T04:35:08.294Z"
   },
   {
    "duration": 193,
    "start_time": "2024-08-19T04:35:10.783Z"
   },
   {
    "duration": 14,
    "start_time": "2024-08-19T04:35:10.980Z"
   },
   {
    "duration": 225,
    "start_time": "2024-08-19T04:35:10.999Z"
   },
   {
    "duration": 192,
    "start_time": "2024-08-19T04:35:11.234Z"
   },
   {
    "duration": 57,
    "start_time": "2024-08-19T04:35:11.436Z"
   },
   {
    "duration": 0,
    "start_time": "2024-08-19T04:35:11.497Z"
   },
   {
    "duration": 0,
    "start_time": "2024-08-19T04:35:11.500Z"
   },
   {
    "duration": 4,
    "start_time": "2024-08-19T04:35:11.663Z"
   },
   {
    "duration": 4,
    "start_time": "2024-08-19T04:35:11.885Z"
   },
   {
    "duration": 165,
    "start_time": "2024-08-19T04:35:55.344Z"
   },
   {
    "duration": 153,
    "start_time": "2024-08-19T04:36:23.783Z"
   },
   {
    "duration": 173,
    "start_time": "2024-08-19T04:36:29.736Z"
   },
   {
    "duration": 15,
    "start_time": "2024-08-19T04:36:39.047Z"
   },
   {
    "duration": 146,
    "start_time": "2024-08-19T04:37:44.671Z"
   },
   {
    "duration": 160,
    "start_time": "2024-08-19T04:38:28.363Z"
   },
   {
    "duration": 144,
    "start_time": "2024-08-19T04:38:39.105Z"
   },
   {
    "duration": 140,
    "start_time": "2024-08-19T04:38:48.151Z"
   },
   {
    "duration": 12,
    "start_time": "2024-08-19T04:38:49.501Z"
   },
   {
    "duration": 9,
    "start_time": "2024-08-19T04:38:52.461Z"
   },
   {
    "duration": 5,
    "start_time": "2024-08-19T04:38:53.713Z"
   },
   {
    "duration": 52,
    "start_time": "2024-08-19T04:40:11.458Z"
   },
   {
    "duration": 24,
    "start_time": "2024-08-19T04:40:48.650Z"
   },
   {
    "duration": 25,
    "start_time": "2024-08-19T04:40:50.120Z"
   },
   {
    "duration": 51,
    "start_time": "2024-08-19T04:42:42.569Z"
   },
   {
    "duration": 149,
    "start_time": "2024-08-19T04:43:23.082Z"
   },
   {
    "duration": 130,
    "start_time": "2024-08-19T04:44:05.222Z"
   },
   {
    "duration": 457,
    "start_time": "2024-08-19T06:54:45.228Z"
   },
   {
    "duration": 394,
    "start_time": "2024-08-19T06:54:45.923Z"
   },
   {
    "duration": 114,
    "start_time": "2024-08-19T06:54:46.720Z"
   },
   {
    "duration": 35,
    "start_time": "2024-08-19T06:54:47.331Z"
   },
   {
    "duration": 27,
    "start_time": "2024-08-19T06:54:47.997Z"
   },
   {
    "duration": 2166,
    "start_time": "2024-08-19T06:54:48.684Z"
   },
   {
    "duration": 140,
    "start_time": "2024-08-19T06:55:00.657Z"
   },
   {
    "duration": 127,
    "start_time": "2024-08-19T07:07:53.548Z"
   },
   {
    "duration": 1060,
    "start_time": "2024-08-19T07:09:26.625Z"
   },
   {
    "duration": 182,
    "start_time": "2024-08-19T07:09:28.191Z"
   },
   {
    "duration": 186,
    "start_time": "2024-08-19T07:09:34.626Z"
   },
   {
    "duration": 26,
    "start_time": "2024-08-19T07:09:35.321Z"
   },
   {
    "duration": 422,
    "start_time": "2024-08-19T07:09:35.517Z"
   },
   {
    "duration": 4,
    "start_time": "2024-08-19T07:09:48.236Z"
   },
   {
    "duration": 323,
    "start_time": "2024-08-19T07:09:48.452Z"
   },
   {
    "duration": 84,
    "start_time": "2024-08-19T07:09:48.842Z"
   },
   {
    "duration": 26,
    "start_time": "2024-08-19T07:09:49.161Z"
   },
   {
    "duration": 27,
    "start_time": "2024-08-19T07:09:49.479Z"
   },
   {
    "duration": 2070,
    "start_time": "2024-08-19T07:09:49.777Z"
   },
   {
    "duration": 134,
    "start_time": "2024-08-19T07:09:52.122Z"
   },
   {
    "duration": 17,
    "start_time": "2024-08-19T07:09:52.805Z"
   },
   {
    "duration": 10,
    "start_time": "2024-08-19T07:09:54.423Z"
   },
   {
    "duration": 4,
    "start_time": "2024-08-19T07:09:55.481Z"
   },
   {
    "duration": 181,
    "start_time": "2024-08-19T07:09:58.484Z"
   },
   {
    "duration": 178,
    "start_time": "2024-08-19T07:10:07.917Z"
   },
   {
    "duration": 38,
    "start_time": "2024-08-19T07:11:14.812Z"
   },
   {
    "duration": 42,
    "start_time": "2024-08-19T07:11:41.548Z"
   },
   {
    "duration": 40,
    "start_time": "2024-08-19T07:11:59.565Z"
   },
   {
    "duration": 54,
    "start_time": "2024-08-19T07:12:16.362Z"
   },
   {
    "duration": 453,
    "start_time": "2024-08-19T14:41:19.909Z"
   },
   {
    "duration": 383,
    "start_time": "2024-08-19T14:41:20.801Z"
   },
   {
    "duration": 118,
    "start_time": "2024-08-19T14:41:21.187Z"
   },
   {
    "duration": 27,
    "start_time": "2024-08-19T14:41:21.487Z"
   },
   {
    "duration": 34,
    "start_time": "2024-08-19T14:41:21.998Z"
   },
   {
    "duration": 2124,
    "start_time": "2024-08-19T14:41:22.594Z"
   },
   {
    "duration": 142,
    "start_time": "2024-08-19T14:41:24.958Z"
   },
   {
    "duration": 13,
    "start_time": "2024-08-19T14:41:26.162Z"
   },
   {
    "duration": 10,
    "start_time": "2024-08-19T14:41:27.891Z"
   },
   {
    "duration": 4,
    "start_time": "2024-08-19T14:41:29.520Z"
   },
   {
    "duration": 41,
    "start_time": "2024-08-19T14:41:57.517Z"
   },
   {
    "duration": 156,
    "start_time": "2024-08-19T14:47:40.107Z"
   },
   {
    "duration": 152,
    "start_time": "2024-08-19T14:48:10.680Z"
   },
   {
    "duration": 12,
    "start_time": "2024-08-19T14:48:16.529Z"
   },
   {
    "duration": 163,
    "start_time": "2024-08-19T14:49:11.543Z"
   },
   {
    "duration": 11,
    "start_time": "2024-08-19T14:49:36.580Z"
   },
   {
    "duration": 159,
    "start_time": "2024-08-19T14:51:09.999Z"
   },
   {
    "duration": 152,
    "start_time": "2024-08-19T14:51:12.478Z"
   },
   {
    "duration": 156,
    "start_time": "2024-08-19T14:51:35.837Z"
   },
   {
    "duration": 48,
    "start_time": "2024-08-19T14:51:44.481Z"
   },
   {
    "duration": 7,
    "start_time": "2024-08-19T14:54:05.100Z"
   },
   {
    "duration": 39,
    "start_time": "2024-08-19T14:54:17.361Z"
   },
   {
    "duration": 40,
    "start_time": "2024-08-19T14:54:19.658Z"
   },
   {
    "duration": 77,
    "start_time": "2024-08-19T14:55:05.737Z"
   },
   {
    "duration": 75,
    "start_time": "2024-08-19T14:55:24.047Z"
   },
   {
    "duration": 22,
    "start_time": "2024-08-19T15:01:04.713Z"
   },
   {
    "duration": 21,
    "start_time": "2024-08-19T15:04:06.374Z"
   },
   {
    "duration": 339,
    "start_time": "2024-08-19T15:07:33.526Z"
   },
   {
    "duration": 4,
    "start_time": "2024-08-19T15:07:38.624Z"
   },
   {
    "duration": 809,
    "start_time": "2024-08-19T15:14:14.638Z"
   },
   {
    "duration": 21,
    "start_time": "2024-08-19T15:14:44.456Z"
   },
   {
    "duration": 24,
    "start_time": "2024-08-19T15:14:52.917Z"
   },
   {
    "duration": 11,
    "start_time": "2024-08-19T15:21:46.050Z"
   },
   {
    "duration": 29,
    "start_time": "2024-08-19T15:25:00.182Z"
   },
   {
    "duration": 29,
    "start_time": "2024-08-19T15:26:00.238Z"
   },
   {
    "duration": 10,
    "start_time": "2024-08-19T15:26:18.305Z"
   },
   {
    "duration": 19,
    "start_time": "2024-08-19T15:29:31.482Z"
   },
   {
    "duration": 19,
    "start_time": "2024-08-19T15:30:17.883Z"
   },
   {
    "duration": 151,
    "start_time": "2024-08-19T15:31:49.785Z"
   },
   {
    "duration": 81,
    "start_time": "2024-08-19T15:32:23.123Z"
   },
   {
    "duration": 6,
    "start_time": "2024-08-19T15:34:25.910Z"
   },
   {
    "duration": 153,
    "start_time": "2024-08-19T15:35:00.835Z"
   },
   {
    "duration": 25,
    "start_time": "2024-08-19T16:00:02.476Z"
   },
   {
    "duration": 18,
    "start_time": "2024-08-19T16:00:25.086Z"
   },
   {
    "duration": 27,
    "start_time": "2024-08-19T16:02:36.754Z"
   },
   {
    "duration": 29,
    "start_time": "2024-08-19T16:04:16.729Z"
   },
   {
    "duration": 30,
    "start_time": "2024-08-19T16:07:55.882Z"
   },
   {
    "duration": 311,
    "start_time": "2024-08-19T16:09:03.384Z"
   },
   {
    "duration": 409,
    "start_time": "2024-08-19T16:09:15.289Z"
   },
   {
    "duration": 411,
    "start_time": "2024-08-19T16:09:15.700Z"
   },
   {
    "duration": 120,
    "start_time": "2024-08-19T16:09:16.113Z"
   },
   {
    "duration": 28,
    "start_time": "2024-08-19T16:09:16.237Z"
   },
   {
    "duration": 26,
    "start_time": "2024-08-19T16:09:16.268Z"
   },
   {
    "duration": 2133,
    "start_time": "2024-08-19T16:09:16.297Z"
   },
   {
    "duration": 159,
    "start_time": "2024-08-19T16:09:18.434Z"
   },
   {
    "duration": 13,
    "start_time": "2024-08-19T16:09:18.597Z"
   },
   {
    "duration": 165,
    "start_time": "2024-08-19T16:09:18.630Z"
   },
   {
    "duration": 166,
    "start_time": "2024-08-19T16:09:18.798Z"
   },
   {
    "duration": 95,
    "start_time": "2024-08-19T16:09:18.968Z"
   },
   {
    "duration": 22,
    "start_time": "2024-08-19T16:09:23.315Z"
   },
   {
    "duration": 8,
    "start_time": "2024-08-19T16:09:24.091Z"
   },
   {
    "duration": 322,
    "start_time": "2024-08-19T16:12:32.012Z"
   },
   {
    "duration": 22,
    "start_time": "2024-08-19T16:12:43.128Z"
   },
   {
    "duration": 25,
    "start_time": "2024-08-19T16:13:15.890Z"
   },
   {
    "duration": 468,
    "start_time": "2024-08-19T16:13:22.815Z"
   },
   {
    "duration": 405,
    "start_time": "2024-08-19T16:13:23.285Z"
   },
   {
    "duration": 110,
    "start_time": "2024-08-19T16:13:23.693Z"
   },
   {
    "duration": 30,
    "start_time": "2024-08-19T16:13:23.807Z"
   },
   {
    "duration": 25,
    "start_time": "2024-08-19T16:13:23.840Z"
   },
   {
    "duration": 2125,
    "start_time": "2024-08-19T16:13:23.868Z"
   },
   {
    "duration": 157,
    "start_time": "2024-08-19T16:13:25.997Z"
   },
   {
    "duration": 12,
    "start_time": "2024-08-19T16:13:26.158Z"
   },
   {
    "duration": 158,
    "start_time": "2024-08-19T16:13:50.572Z"
   },
   {
    "duration": 159,
    "start_time": "2024-08-19T16:13:52.758Z"
   },
   {
    "duration": 80,
    "start_time": "2024-08-19T16:13:53.328Z"
   },
   {
    "duration": 24,
    "start_time": "2024-08-19T16:14:13.668Z"
   },
   {
    "duration": 8,
    "start_time": "2024-08-19T16:14:16.236Z"
   },
   {
    "duration": 74,
    "start_time": "2024-08-19T16:14:18.611Z"
   },
   {
    "duration": 0,
    "start_time": "2024-08-19T16:14:45.773Z"
   },
   {
    "duration": 29,
    "start_time": "2024-08-19T16:14:55.879Z"
   },
   {
    "duration": 24,
    "start_time": "2024-08-19T16:15:01.444Z"
   },
   {
    "duration": 473,
    "start_time": "2024-08-19T16:15:08.324Z"
   },
   {
    "duration": 389,
    "start_time": "2024-08-19T16:15:08.800Z"
   },
   {
    "duration": 115,
    "start_time": "2024-08-19T16:15:09.192Z"
   },
   {
    "duration": 26,
    "start_time": "2024-08-19T16:15:09.310Z"
   },
   {
    "duration": 25,
    "start_time": "2024-08-19T16:15:09.338Z"
   },
   {
    "duration": 2139,
    "start_time": "2024-08-19T16:15:09.366Z"
   },
   {
    "duration": 162,
    "start_time": "2024-08-19T16:15:11.509Z"
   },
   {
    "duration": 13,
    "start_time": "2024-08-19T16:15:11.675Z"
   },
   {
    "duration": 207,
    "start_time": "2024-08-19T16:15:11.691Z"
   },
   {
    "duration": 190,
    "start_time": "2024-08-19T16:15:11.902Z"
   },
   {
    "duration": 94,
    "start_time": "2024-08-19T16:15:12.095Z"
   },
   {
    "duration": 21,
    "start_time": "2024-08-19T16:15:12.192Z"
   },
   {
    "duration": 25,
    "start_time": "2024-08-19T16:15:12.217Z"
   },
   {
    "duration": 447,
    "start_time": "2024-08-19T16:15:40.501Z"
   },
   {
    "duration": 396,
    "start_time": "2024-08-19T16:15:40.952Z"
   },
   {
    "duration": 140,
    "start_time": "2024-08-19T16:15:41.351Z"
   },
   {
    "duration": 25,
    "start_time": "2024-08-19T16:15:41.495Z"
   },
   {
    "duration": 25,
    "start_time": "2024-08-19T16:15:41.531Z"
   },
   {
    "duration": 2163,
    "start_time": "2024-08-19T16:15:41.559Z"
   },
   {
    "duration": 163,
    "start_time": "2024-08-19T16:15:43.731Z"
   },
   {
    "duration": 13,
    "start_time": "2024-08-19T16:15:43.897Z"
   },
   {
    "duration": 178,
    "start_time": "2024-08-19T16:15:43.914Z"
   },
   {
    "duration": 163,
    "start_time": "2024-08-19T16:15:44.094Z"
   },
   {
    "duration": 98,
    "start_time": "2024-08-19T16:15:44.260Z"
   },
   {
    "duration": 21,
    "start_time": "2024-08-19T16:15:46.314Z"
   },
   {
    "duration": 9,
    "start_time": "2024-08-19T16:15:47.540Z"
   },
   {
    "duration": 322,
    "start_time": "2024-08-19T16:16:28.389Z"
   },
   {
    "duration": 25,
    "start_time": "2024-08-19T16:16:59.322Z"
   },
   {
    "duration": 23,
    "start_time": "2024-08-19T16:17:47.940Z"
   },
   {
    "duration": 405,
    "start_time": "2024-08-19T16:17:54.986Z"
   },
   {
    "duration": 397,
    "start_time": "2024-08-19T16:17:55.394Z"
   },
   {
    "duration": 111,
    "start_time": "2024-08-19T16:17:55.794Z"
   },
   {
    "duration": 27,
    "start_time": "2024-08-19T16:17:55.908Z"
   },
   {
    "duration": 24,
    "start_time": "2024-08-19T16:17:55.939Z"
   },
   {
    "duration": 2117,
    "start_time": "2024-08-19T16:17:56.098Z"
   },
   {
    "duration": 162,
    "start_time": "2024-08-19T16:17:58.219Z"
   },
   {
    "duration": 14,
    "start_time": "2024-08-19T16:17:58.387Z"
   },
   {
    "duration": 156,
    "start_time": "2024-08-19T16:17:58.809Z"
   },
   {
    "duration": 165,
    "start_time": "2024-08-19T16:17:59.704Z"
   },
   {
    "duration": 82,
    "start_time": "2024-08-19T16:18:00.445Z"
   },
   {
    "duration": 22,
    "start_time": "2024-08-19T16:18:04.235Z"
   },
   {
    "duration": 8,
    "start_time": "2024-08-19T16:18:07.092Z"
   },
   {
    "duration": 74,
    "start_time": "2024-08-19T16:18:09.474Z"
   },
   {
    "duration": 8,
    "start_time": "2024-08-19T16:18:27.888Z"
   },
   {
    "duration": 39,
    "start_time": "2024-08-19T16:18:29.836Z"
   },
   {
    "duration": 38,
    "start_time": "2024-08-19T16:20:09.945Z"
   },
   {
    "duration": 56,
    "start_time": "2024-08-19T16:21:42.937Z"
   },
   {
    "duration": 40,
    "start_time": "2024-08-19T16:22:55.245Z"
   },
   {
    "duration": 64,
    "start_time": "2024-08-19T16:24:45.748Z"
   },
   {
    "duration": 36,
    "start_time": "2024-08-19T16:34:00.239Z"
   },
   {
    "duration": 47,
    "start_time": "2024-08-19T16:34:37.476Z"
   },
   {
    "duration": 44,
    "start_time": "2024-08-19T16:35:14.389Z"
   },
   {
    "duration": 84,
    "start_time": "2024-08-19T16:37:40.608Z"
   },
   {
    "duration": 519,
    "start_time": "2024-08-19T17:33:52.915Z"
   },
   {
    "duration": 400,
    "start_time": "2024-08-19T17:33:53.438Z"
   },
   {
    "duration": 110,
    "start_time": "2024-08-19T17:33:53.841Z"
   },
   {
    "duration": 35,
    "start_time": "2024-08-19T17:33:53.955Z"
   },
   {
    "duration": 49,
    "start_time": "2024-08-19T17:33:53.994Z"
   },
   {
    "duration": 2294,
    "start_time": "2024-08-19T17:33:54.050Z"
   },
   {
    "duration": 170,
    "start_time": "2024-08-19T17:33:56.349Z"
   },
   {
    "duration": 21,
    "start_time": "2024-08-19T17:33:56.522Z"
   },
   {
    "duration": 192,
    "start_time": "2024-08-19T17:33:56.547Z"
   },
   {
    "duration": 179,
    "start_time": "2024-08-19T17:33:56.742Z"
   },
   {
    "duration": 98,
    "start_time": "2024-08-19T17:33:56.924Z"
   },
   {
    "duration": 29,
    "start_time": "2024-08-19T17:33:57.036Z"
   },
   {
    "duration": 10,
    "start_time": "2024-08-19T17:34:33.674Z"
   },
   {
    "duration": 51,
    "start_time": "2024-08-19T17:34:34.525Z"
   },
   {
    "duration": 8,
    "start_time": "2024-08-19T17:34:38.608Z"
   },
   {
    "duration": 1234,
    "start_time": "2024-08-19T17:42:16.613Z"
   },
   {
    "duration": 15,
    "start_time": "2024-08-19T17:43:02.973Z"
   },
   {
    "duration": 13,
    "start_time": "2024-08-19T17:43:04.431Z"
   },
   {
    "duration": 21,
    "start_time": "2024-08-19T17:43:26.651Z"
   },
   {
    "duration": 24,
    "start_time": "2024-08-19T17:44:12.434Z"
   },
   {
    "duration": 20,
    "start_time": "2024-08-19T17:44:32.612Z"
   },
   {
    "duration": 40,
    "start_time": "2024-08-19T17:47:09.278Z"
   },
   {
    "duration": 71,
    "start_time": "2024-08-19T17:51:01.071Z"
   },
   {
    "duration": 29,
    "start_time": "2024-08-19T17:51:27.255Z"
   },
   {
    "duration": 19,
    "start_time": "2024-08-19T17:54:10.885Z"
   },
   {
    "duration": 30,
    "start_time": "2024-08-19T17:56:08.734Z"
   },
   {
    "duration": 26,
    "start_time": "2024-08-19T17:57:23.556Z"
   },
   {
    "duration": 25,
    "start_time": "2024-08-19T17:57:36.751Z"
   },
   {
    "duration": 6,
    "start_time": "2024-08-19T17:57:53.625Z"
   },
   {
    "duration": 6,
    "start_time": "2024-08-19T17:59:32.013Z"
   },
   {
    "duration": 430,
    "start_time": "2024-08-20T16:17:00.163Z"
   },
   {
    "duration": 404,
    "start_time": "2024-08-20T16:17:01.791Z"
   },
   {
    "duration": 3,
    "start_time": "2024-08-20T16:17:04.188Z"
   },
   {
    "duration": 333,
    "start_time": "2024-08-20T16:17:05.146Z"
   },
   {
    "duration": 126,
    "start_time": "2024-08-20T16:17:06.851Z"
   },
   {
    "duration": 26,
    "start_time": "2024-08-20T16:17:13.741Z"
   },
   {
    "duration": 27,
    "start_time": "2024-08-20T16:17:14.696Z"
   },
   {
    "duration": 2168,
    "start_time": "2024-08-20T16:17:15.415Z"
   },
   {
    "duration": 199,
    "start_time": "2024-08-20T16:17:20.586Z"
   },
   {
    "duration": 14,
    "start_time": "2024-08-20T16:17:21.302Z"
   },
   {
    "duration": 163,
    "start_time": "2024-08-20T16:17:21.979Z"
   },
   {
    "duration": 159,
    "start_time": "2024-08-20T16:17:22.650Z"
   },
   {
    "duration": 85,
    "start_time": "2024-08-20T16:17:23.270Z"
   },
   {
    "duration": 21,
    "start_time": "2024-08-20T16:17:26.781Z"
   },
   {
    "duration": 9,
    "start_time": "2024-08-20T16:17:27.700Z"
   },
   {
    "duration": 749,
    "start_time": "2024-08-20T16:17:33.014Z"
   },
   {
    "duration": 53,
    "start_time": "2024-08-20T16:17:37.728Z"
   },
   {
    "duration": 19,
    "start_time": "2024-08-20T16:17:40.888Z"
   },
   {
    "duration": 6,
    "start_time": "2024-08-20T16:17:43.887Z"
   },
   {
    "duration": 6,
    "start_time": "2024-08-20T16:17:47.042Z"
   },
   {
    "duration": 10,
    "start_time": "2024-08-20T16:59:37.736Z"
   },
   {
    "duration": 31,
    "start_time": "2024-08-20T17:08:00.009Z"
   },
   {
    "duration": 16,
    "start_time": "2024-08-20T17:08:11.510Z"
   },
   {
    "duration": 28,
    "start_time": "2024-08-20T17:08:39.805Z"
   },
   {
    "duration": 19,
    "start_time": "2024-08-20T17:08:55.523Z"
   },
   {
    "duration": 13,
    "start_time": "2024-08-20T17:15:04.046Z"
   },
   {
    "duration": 13,
    "start_time": "2024-08-20T17:15:05.600Z"
   },
   {
    "duration": 13,
    "start_time": "2024-08-20T17:15:09.843Z"
   },
   {
    "duration": 469,
    "start_time": "2024-08-20T17:15:26.467Z"
   },
   {
    "duration": 14,
    "start_time": "2024-08-20T17:15:41.042Z"
   },
   {
    "duration": 15,
    "start_time": "2024-08-20T17:17:30.735Z"
   },
   {
    "duration": 37,
    "start_time": "2024-08-20T17:20:07.008Z"
   },
   {
    "duration": 34,
    "start_time": "2024-08-20T17:20:44.630Z"
   },
   {
    "duration": 32,
    "start_time": "2024-08-20T17:26:29.167Z"
   },
   {
    "duration": 17,
    "start_time": "2024-08-20T17:29:12.116Z"
   },
   {
    "duration": 17,
    "start_time": "2024-08-20T17:33:22.158Z"
   },
   {
    "duration": 23,
    "start_time": "2024-08-20T17:33:38.494Z"
   },
   {
    "duration": 20,
    "start_time": "2024-08-20T17:50:31.513Z"
   },
   {
    "duration": 460,
    "start_time": "2024-08-20T20:04:58.127Z"
   },
   {
    "duration": 402,
    "start_time": "2024-08-20T20:04:58.591Z"
   },
   {
    "duration": 114,
    "start_time": "2024-08-20T20:04:58.997Z"
   },
   {
    "duration": 29,
    "start_time": "2024-08-20T20:04:59.116Z"
   },
   {
    "duration": 32,
    "start_time": "2024-08-20T20:04:59.148Z"
   },
   {
    "duration": 2181,
    "start_time": "2024-08-20T20:04:59.184Z"
   },
   {
    "duration": 10,
    "start_time": "2024-08-20T20:05:01.369Z"
   },
   {
    "duration": 0,
    "start_time": "2024-08-20T20:05:01.383Z"
   },
   {
    "duration": 0,
    "start_time": "2024-08-20T20:05:01.385Z"
   },
   {
    "duration": 0,
    "start_time": "2024-08-20T20:05:01.387Z"
   },
   {
    "duration": 0,
    "start_time": "2024-08-20T20:05:01.388Z"
   },
   {
    "duration": 0,
    "start_time": "2024-08-20T20:05:01.390Z"
   },
   {
    "duration": 21,
    "start_time": "2024-08-20T20:05:01.513Z"
   },
   {
    "duration": 8,
    "start_time": "2024-08-20T20:05:01.911Z"
   },
   {
    "duration": 47,
    "start_time": "2024-08-20T20:05:02.970Z"
   },
   {
    "duration": 19,
    "start_time": "2024-08-20T20:05:04.665Z"
   },
   {
    "duration": 7,
    "start_time": "2024-08-20T20:05:08.984Z"
   },
   {
    "duration": 6,
    "start_time": "2024-08-20T20:05:26.512Z"
   },
   {
    "duration": 1262,
    "start_time": "2024-08-20T20:05:28.446Z"
   },
   {
    "duration": 4,
    "start_time": "2024-08-20T20:05:29.712Z"
   },
   {
    "duration": 18,
    "start_time": "2024-08-20T20:05:31.614Z"
   },
   {
    "duration": 16,
    "start_time": "2024-08-20T20:05:32.746Z"
   },
   {
    "duration": 17,
    "start_time": "2024-08-20T20:05:33.185Z"
   },
   {
    "duration": 3,
    "start_time": "2024-08-20T20:05:34.245Z"
   },
   {
    "duration": 8,
    "start_time": "2024-08-20T20:11:50.401Z"
   },
   {
    "duration": 22,
    "start_time": "2024-08-20T20:13:33.182Z"
   },
   {
    "duration": 28,
    "start_time": "2024-08-20T20:14:02.904Z"
   },
   {
    "duration": 33,
    "start_time": "2024-08-20T20:14:56.546Z"
   },
   {
    "duration": 19,
    "start_time": "2024-08-20T20:15:33.093Z"
   },
   {
    "duration": 27,
    "start_time": "2024-08-20T20:16:21.724Z"
   },
   {
    "duration": 9,
    "start_time": "2024-08-20T20:16:50.776Z"
   },
   {
    "duration": 6,
    "start_time": "2024-08-20T20:25:26.064Z"
   },
   {
    "duration": 19,
    "start_time": "2024-08-20T20:25:33.801Z"
   },
   {
    "duration": 16,
    "start_time": "2024-08-20T20:26:16.749Z"
   },
   {
    "duration": 423,
    "start_time": "2024-08-21T05:52:33.700Z"
   },
   {
    "duration": 408,
    "start_time": "2024-08-21T05:52:34.126Z"
   },
   {
    "duration": 112,
    "start_time": "2024-08-21T05:52:34.538Z"
   },
   {
    "duration": 26,
    "start_time": "2024-08-21T05:52:34.653Z"
   },
   {
    "duration": 24,
    "start_time": "2024-08-21T05:52:34.683Z"
   },
   {
    "duration": 2159,
    "start_time": "2024-08-21T05:52:34.710Z"
   },
   {
    "duration": 7,
    "start_time": "2024-08-21T05:52:36.874Z"
   },
   {
    "duration": 0,
    "start_time": "2024-08-21T05:52:36.884Z"
   },
   {
    "duration": 0,
    "start_time": "2024-08-21T05:52:36.886Z"
   },
   {
    "duration": 0,
    "start_time": "2024-08-21T05:52:36.888Z"
   },
   {
    "duration": 0,
    "start_time": "2024-08-21T05:52:36.890Z"
   },
   {
    "duration": 0,
    "start_time": "2024-08-21T05:52:36.893Z"
   },
   {
    "duration": 0,
    "start_time": "2024-08-21T05:52:36.894Z"
   },
   {
    "duration": 0,
    "start_time": "2024-08-21T05:52:36.896Z"
   },
   {
    "duration": 48,
    "start_time": "2024-08-21T05:52:36.994Z"
   },
   {
    "duration": 22,
    "start_time": "2024-08-21T05:52:37.171Z"
   },
   {
    "duration": 6,
    "start_time": "2024-08-21T05:52:37.756Z"
   },
   {
    "duration": 7,
    "start_time": "2024-08-21T05:52:38.625Z"
   },
   {
    "duration": 1294,
    "start_time": "2024-08-21T05:52:39.421Z"
   },
   {
    "duration": 4,
    "start_time": "2024-08-21T05:52:40.718Z"
   },
   {
    "duration": 19,
    "start_time": "2024-08-21T05:52:40.734Z"
   },
   {
    "duration": 18,
    "start_time": "2024-08-21T05:52:40.812Z"
   },
   {
    "duration": 18,
    "start_time": "2024-08-21T05:52:41.054Z"
   },
   {
    "duration": 3,
    "start_time": "2024-08-21T05:52:41.266Z"
   },
   {
    "duration": 33,
    "start_time": "2024-08-21T05:52:41.477Z"
   },
   {
    "duration": 24,
    "start_time": "2024-08-21T05:52:42.153Z"
   },
   {
    "duration": 17,
    "start_time": "2024-08-21T05:52:42.413Z"
   },
   {
    "duration": 4,
    "start_time": "2024-08-21T05:52:43.398Z"
   },
   {
    "duration": 3,
    "start_time": "2024-08-21T05:52:43.632Z"
   },
   {
    "duration": 4,
    "start_time": "2024-08-21T05:52:43.888Z"
   },
   {
    "duration": 4,
    "start_time": "2024-08-21T05:52:44.100Z"
   },
   {
    "duration": 9,
    "start_time": "2024-08-21T05:54:33.320Z"
   },
   {
    "duration": 19,
    "start_time": "2024-08-21T05:54:54.073Z"
   },
   {
    "duration": 16,
    "start_time": "2024-08-21T05:55:08.001Z"
   },
   {
    "duration": 40,
    "start_time": "2024-08-21T05:55:39.740Z"
   },
   {
    "duration": 28,
    "start_time": "2024-08-21T06:08:58.976Z"
   },
   {
    "duration": 49,
    "start_time": "2024-08-21T06:09:42.402Z"
   },
   {
    "duration": 34,
    "start_time": "2024-08-21T06:18:12.255Z"
   },
   {
    "duration": 377,
    "start_time": "2024-08-21T06:28:28.239Z"
   },
   {
    "duration": 35,
    "start_time": "2024-08-21T06:28:42.657Z"
   },
   {
    "duration": 41,
    "start_time": "2024-08-21T06:28:51.323Z"
   },
   {
    "duration": 36,
    "start_time": "2024-08-21T06:28:58.204Z"
   },
   {
    "duration": 34,
    "start_time": "2024-08-21T06:30:14.481Z"
   },
   {
    "duration": 11,
    "start_time": "2024-08-21T06:37:44.037Z"
   },
   {
    "duration": 10,
    "start_time": "2024-08-21T06:38:05.879Z"
   },
   {
    "duration": 922,
    "start_time": "2024-08-21T06:52:11.151Z"
   },
   {
    "duration": 10,
    "start_time": "2024-08-21T06:52:16.278Z"
   },
   {
    "duration": 79,
    "start_time": "2024-08-21T06:52:19.173Z"
   },
   {
    "duration": 11,
    "start_time": "2024-08-21T06:52:55.839Z"
   },
   {
    "duration": 11,
    "start_time": "2024-08-21T06:52:57.724Z"
   },
   {
    "duration": 11,
    "start_time": "2024-08-21T06:53:36.274Z"
   },
   {
    "duration": 12,
    "start_time": "2024-08-21T06:53:37.812Z"
   },
   {
    "duration": 14,
    "start_time": "2024-08-21T06:53:55.381Z"
   },
   {
    "duration": 8,
    "start_time": "2024-08-21T06:55:55.181Z"
   },
   {
    "duration": 6,
    "start_time": "2024-08-21T06:56:19.510Z"
   },
   {
    "duration": 12,
    "start_time": "2024-08-21T06:56:33.310Z"
   },
   {
    "duration": 57,
    "start_time": "2024-08-21T07:11:21.666Z"
   },
   {
    "duration": 50,
    "start_time": "2024-08-21T07:11:28.360Z"
   },
   {
    "duration": 51,
    "start_time": "2024-08-21T07:11:34.680Z"
   },
   {
    "duration": 7,
    "start_time": "2024-08-21T07:12:06.713Z"
   },
   {
    "duration": 48,
    "start_time": "2024-08-21T07:12:15.595Z"
   },
   {
    "duration": 321,
    "start_time": "2024-08-21T07:12:42.491Z"
   },
   {
    "duration": 322,
    "start_time": "2024-08-21T07:12:52.622Z"
   },
   {
    "duration": 324,
    "start_time": "2024-08-21T07:13:13.138Z"
   },
   {
    "duration": 329,
    "start_time": "2024-08-21T07:13:20.413Z"
   },
   {
    "duration": 8,
    "start_time": "2024-08-21T07:16:25.564Z"
   },
   {
    "duration": 5,
    "start_time": "2024-08-21T07:16:28.718Z"
   },
   {
    "duration": 10,
    "start_time": "2024-08-21T07:17:58.542Z"
   },
   {
    "duration": 12,
    "start_time": "2024-08-21T07:19:45.683Z"
   },
   {
    "duration": 73,
    "start_time": "2024-08-21T07:20:45.023Z"
   },
   {
    "duration": 158,
    "start_time": "2024-08-21T07:20:46.672Z"
   },
   {
    "duration": 80,
    "start_time": "2024-08-21T07:22:48.183Z"
   },
   {
    "duration": 90,
    "start_time": "2024-08-21T07:23:59.348Z"
   },
   {
    "duration": 3884,
    "start_time": "2024-08-21T07:25:39.722Z"
   },
   {
    "duration": 89,
    "start_time": "2024-08-21T07:25:44.767Z"
   },
   {
    "duration": 168,
    "start_time": "2024-08-21T07:25:53.026Z"
   },
   {
    "duration": 165,
    "start_time": "2024-08-21T07:25:59.417Z"
   },
   {
    "duration": 76,
    "start_time": "2024-08-21T07:26:25.500Z"
   },
   {
    "duration": 78,
    "start_time": "2024-08-21T07:27:32.729Z"
   },
   {
    "duration": 76,
    "start_time": "2024-08-21T07:28:15.051Z"
   },
   {
    "duration": 11,
    "start_time": "2024-08-21T07:28:22.527Z"
   },
   {
    "duration": 75,
    "start_time": "2024-08-21T07:28:24.010Z"
   },
   {
    "duration": 157,
    "start_time": "2024-08-21T07:28:45.677Z"
   },
   {
    "duration": 5,
    "start_time": "2024-08-21T07:29:43.182Z"
   },
   {
    "duration": 76,
    "start_time": "2024-08-21T07:29:46.306Z"
   },
   {
    "duration": 152,
    "start_time": "2024-08-21T07:29:46.880Z"
   },
   {
    "duration": 3,
    "start_time": "2024-08-21T07:30:01.109Z"
   },
   {
    "duration": 77,
    "start_time": "2024-08-21T07:30:02.428Z"
   },
   {
    "duration": 3,
    "start_time": "2024-08-21T07:30:10.036Z"
   },
   {
    "duration": 334,
    "start_time": "2024-08-21T07:30:10.243Z"
   },
   {
    "duration": 95,
    "start_time": "2024-08-21T07:30:10.581Z"
   },
   {
    "duration": 26,
    "start_time": "2024-08-21T07:30:10.679Z"
   },
   {
    "duration": 25,
    "start_time": "2024-08-21T07:30:10.828Z"
   },
   {
    "duration": 2145,
    "start_time": "2024-08-21T07:30:11.017Z"
   },
   {
    "duration": 5,
    "start_time": "2024-08-21T07:30:13.166Z"
   },
   {
    "duration": 0,
    "start_time": "2024-08-21T07:30:13.175Z"
   },
   {
    "duration": 0,
    "start_time": "2024-08-21T07:30:13.177Z"
   },
   {
    "duration": 0,
    "start_time": "2024-08-21T07:30:13.179Z"
   },
   {
    "duration": 0,
    "start_time": "2024-08-21T07:30:13.182Z"
   },
   {
    "duration": 0,
    "start_time": "2024-08-21T07:30:13.184Z"
   },
   {
    "duration": 0,
    "start_time": "2024-08-21T07:30:13.186Z"
   },
   {
    "duration": 9,
    "start_time": "2024-08-21T07:30:13.316Z"
   },
   {
    "duration": 48,
    "start_time": "2024-08-21T07:30:13.524Z"
   },
   {
    "duration": 23,
    "start_time": "2024-08-21T07:30:13.725Z"
   },
   {
    "duration": 7,
    "start_time": "2024-08-21T07:30:14.385Z"
   },
   {
    "duration": 6,
    "start_time": "2024-08-21T07:30:15.272Z"
   },
   {
    "duration": 1290,
    "start_time": "2024-08-21T07:30:16.135Z"
   },
   {
    "duration": 4,
    "start_time": "2024-08-21T07:30:17.432Z"
   },
   {
    "duration": 21,
    "start_time": "2024-08-21T07:30:17.439Z"
   },
   {
    "duration": 19,
    "start_time": "2024-08-21T07:30:17.463Z"
   },
   {
    "duration": 17,
    "start_time": "2024-08-21T07:30:17.596Z"
   },
   {
    "duration": 3,
    "start_time": "2024-08-21T07:30:17.838Z"
   },
   {
    "duration": 33,
    "start_time": "2024-08-21T07:30:18.030Z"
   },
   {
    "duration": 25,
    "start_time": "2024-08-21T07:30:18.684Z"
   },
   {
    "duration": 17,
    "start_time": "2024-08-21T07:30:18.908Z"
   },
   {
    "duration": 40,
    "start_time": "2024-08-21T07:30:19.618Z"
   },
   {
    "duration": 48,
    "start_time": "2024-08-21T07:30:19.821Z"
   },
   {
    "duration": 11,
    "start_time": "2024-08-21T07:30:20.034Z"
   },
   {
    "duration": 12,
    "start_time": "2024-08-21T07:30:20.280Z"
   },
   {
    "duration": 341,
    "start_time": "2024-08-21T07:30:20.800Z"
   },
   {
    "duration": 8,
    "start_time": "2024-08-21T07:30:21.700Z"
   },
   {
    "duration": 5,
    "start_time": "2024-08-21T07:30:21.918Z"
   },
   {
    "duration": 10,
    "start_time": "2024-08-21T07:30:22.715Z"
   },
   {
    "duration": 13,
    "start_time": "2024-08-21T07:30:26.180Z"
   },
   {
    "duration": 80,
    "start_time": "2024-08-21T07:30:34.227Z"
   },
   {
    "duration": 41614,
    "start_time": "2024-08-21T07:32:32.421Z"
   },
   {
    "duration": 3,
    "start_time": "2024-08-21T07:33:14.039Z"
   },
   {
    "duration": 86,
    "start_time": "2024-08-21T07:33:14.046Z"
   },
   {
    "duration": 216,
    "start_time": "2024-08-21T07:33:14.135Z"
   },
   {
    "duration": 378,
    "start_time": "2024-08-21T07:33:14.355Z"
   },
   {
    "duration": 34,
    "start_time": "2024-08-21T07:35:23.015Z"
   },
   {
    "duration": 29,
    "start_time": "2024-08-21T07:35:24.356Z"
   },
   {
    "duration": 34,
    "start_time": "2024-08-21T07:35:25.783Z"
   },
   {
    "duration": 1468,
    "start_time": "2024-08-21T07:37:18.018Z"
   },
   {
    "duration": 6,
    "start_time": "2024-08-21T07:37:19.500Z"
   },
   {
    "duration": 7,
    "start_time": "2024-08-21T07:37:22.030Z"
   },
   {
    "duration": 9,
    "start_time": "2024-08-21T07:37:31.383Z"
   },
   {
    "duration": 6,
    "start_time": "2024-08-21T07:38:28.341Z"
   },
   {
    "duration": 631,
    "start_time": "2024-08-21T07:38:31.294Z"
   },
   {
    "duration": 4,
    "start_time": "2024-08-21T07:38:33.026Z"
   },
   {
    "duration": 21,
    "start_time": "2024-08-21T07:38:34.256Z"
   },
   {
    "duration": 153,
    "start_time": "2024-08-21T07:39:48.282Z"
   },
   {
    "duration": 4,
    "start_time": "2024-08-21T07:39:49.568Z"
   },
   {
    "duration": 5,
    "start_time": "2024-08-21T07:39:50.617Z"
   },
   {
    "duration": 8,
    "start_time": "2024-08-21T07:39:51.763Z"
   },
   {
    "duration": 1124,
    "start_time": "2024-08-21T07:41:52.209Z"
   },
   {
    "duration": 222,
    "start_time": "2024-08-21T07:41:53.582Z"
   },
   {
    "duration": 14,
    "start_time": "2024-08-21T07:41:54.969Z"
   },
   {
    "duration": 1622,
    "start_time": "2024-08-21T07:43:30.858Z"
   },
   {
    "duration": 0,
    "start_time": "2024-08-21T07:43:32.483Z"
   },
   {
    "duration": 14,
    "start_time": "2024-08-21T07:43:43.002Z"
   },
   {
    "duration": 2021,
    "start_time": "2024-08-21T07:43:55.494Z"
   },
   {
    "duration": 1157,
    "start_time": "2024-08-21T07:44:05.710Z"
   },
   {
    "duration": 51,
    "start_time": "2024-08-21T07:45:36.169Z"
   },
   {
    "duration": 13,
    "start_time": "2024-08-21T07:45:37.352Z"
   },
   {
    "duration": 115,
    "start_time": "2024-08-21T07:45:38.771Z"
   },
   {
    "duration": 6,
    "start_time": "2024-08-21T07:45:52.234Z"
   },
   {
    "duration": 325,
    "start_time": "2024-08-21T07:45:52.395Z"
   },
   {
    "duration": 86,
    "start_time": "2024-08-21T07:45:52.724Z"
   },
   {
    "duration": 41,
    "start_time": "2024-08-21T07:45:52.813Z"
   },
   {
    "duration": 25,
    "start_time": "2024-08-21T07:45:52.924Z"
   },
   {
    "duration": 2025,
    "start_time": "2024-08-21T07:45:53.062Z"
   },
   {
    "duration": 6,
    "start_time": "2024-08-21T07:45:55.090Z"
   },
   {
    "duration": 0,
    "start_time": "2024-08-21T07:45:55.099Z"
   },
   {
    "duration": 0,
    "start_time": "2024-08-21T07:45:55.101Z"
   },
   {
    "duration": 0,
    "start_time": "2024-08-21T07:45:55.103Z"
   },
   {
    "duration": 0,
    "start_time": "2024-08-21T07:45:55.105Z"
   },
   {
    "duration": 0,
    "start_time": "2024-08-21T07:45:55.133Z"
   },
   {
    "duration": 0,
    "start_time": "2024-08-21T07:45:55.135Z"
   },
   {
    "duration": 9,
    "start_time": "2024-08-21T07:45:55.221Z"
   },
   {
    "duration": 46,
    "start_time": "2024-08-21T07:45:55.409Z"
   },
   {
    "duration": 22,
    "start_time": "2024-08-21T07:45:55.607Z"
   },
   {
    "duration": 6,
    "start_time": "2024-08-21T07:45:56.229Z"
   },
   {
    "duration": 7,
    "start_time": "2024-08-21T07:45:57.035Z"
   },
   {
    "duration": 1235,
    "start_time": "2024-08-21T07:45:57.852Z"
   },
   {
    "duration": 4,
    "start_time": "2024-08-21T07:45:59.091Z"
   },
   {
    "duration": 37,
    "start_time": "2024-08-21T07:45:59.098Z"
   },
   {
    "duration": 18,
    "start_time": "2024-08-21T07:45:59.140Z"
   },
   {
    "duration": 19,
    "start_time": "2024-08-21T07:45:59.270Z"
   },
   {
    "duration": 3,
    "start_time": "2024-08-21T07:45:59.453Z"
   },
   {
    "duration": 34,
    "start_time": "2024-08-21T07:45:59.676Z"
   },
   {
    "duration": 25,
    "start_time": "2024-08-21T07:46:00.311Z"
   },
   {
    "duration": 18,
    "start_time": "2024-08-21T07:46:00.487Z"
   },
   {
    "duration": 41,
    "start_time": "2024-08-21T07:46:01.168Z"
   },
   {
    "duration": 54,
    "start_time": "2024-08-21T07:46:01.405Z"
   },
   {
    "duration": 10,
    "start_time": "2024-08-21T07:46:01.604Z"
   },
   {
    "duration": 13,
    "start_time": "2024-08-21T07:46:01.826Z"
   },
   {
    "duration": 328,
    "start_time": "2024-08-21T07:46:02.282Z"
   },
   {
    "duration": 8,
    "start_time": "2024-08-21T07:46:04.269Z"
   },
   {
    "duration": 5,
    "start_time": "2024-08-21T07:46:04.630Z"
   },
   {
    "duration": 10,
    "start_time": "2024-08-21T07:46:05.399Z"
   },
   {
    "duration": 11,
    "start_time": "2024-08-21T07:46:06.339Z"
   },
   {
    "duration": 43598,
    "start_time": "2024-08-21T07:46:07.378Z"
   },
   {
    "duration": 3,
    "start_time": "2024-08-21T07:46:50.979Z"
   },
   {
    "duration": 82,
    "start_time": "2024-08-21T07:46:50.987Z"
   },
   {
    "duration": 215,
    "start_time": "2024-08-21T07:46:51.072Z"
   },
   {
    "duration": 356,
    "start_time": "2024-08-21T07:46:51.290Z"
   },
   {
    "duration": 24,
    "start_time": "2024-08-21T07:46:51.650Z"
   },
   {
    "duration": 13,
    "start_time": "2024-08-21T07:46:51.677Z"
   },
   {
    "duration": 1515,
    "start_time": "2024-08-21T07:46:51.692Z"
   },
   {
    "duration": 7,
    "start_time": "2024-08-21T07:46:53.209Z"
   },
   {
    "duration": 7,
    "start_time": "2024-08-21T07:46:53.232Z"
   },
   {
    "duration": 534,
    "start_time": "2024-08-21T07:46:53.243Z"
   },
   {
    "duration": 4,
    "start_time": "2024-08-21T07:46:53.781Z"
   },
   {
    "duration": 44,
    "start_time": "2024-08-21T07:46:53.789Z"
   },
   {
    "duration": 167,
    "start_time": "2024-08-21T07:46:53.836Z"
   },
   {
    "duration": 4,
    "start_time": "2024-08-21T07:46:54.006Z"
   },
   {
    "duration": 19,
    "start_time": "2024-08-21T07:46:54.013Z"
   },
   {
    "duration": 8,
    "start_time": "2024-08-21T07:46:54.035Z"
   },
   {
    "duration": 1172,
    "start_time": "2024-08-21T07:46:54.046Z"
   },
   {
    "duration": 231,
    "start_time": "2024-08-21T07:46:55.220Z"
   },
   {
    "duration": 14,
    "start_time": "2024-08-21T07:46:55.454Z"
   },
   {
    "duration": 0,
    "start_time": "2024-08-21T07:46:56.735Z"
   },
   {
    "duration": 0,
    "start_time": "2024-08-21T07:46:56.738Z"
   },
   {
    "duration": 0,
    "start_time": "2024-08-21T07:46:56.740Z"
   },
   {
    "duration": 0,
    "start_time": "2024-08-21T07:46:56.742Z"
   },
   {
    "duration": 119,
    "start_time": "2024-08-21T07:46:57.275Z"
   },
   {
    "duration": 1220,
    "start_time": "2024-08-21T07:47:09.675Z"
   },
   {
    "duration": 3,
    "start_time": "2024-08-21T07:47:38.347Z"
   },
   {
    "duration": 347,
    "start_time": "2024-08-21T07:47:38.359Z"
   },
   {
    "duration": 93,
    "start_time": "2024-08-21T07:47:38.711Z"
   },
   {
    "duration": 32,
    "start_time": "2024-08-21T07:47:38.807Z"
   },
   {
    "duration": 25,
    "start_time": "2024-08-21T07:47:38.842Z"
   },
   {
    "duration": 2010,
    "start_time": "2024-08-21T07:47:38.872Z"
   },
   {
    "duration": 6,
    "start_time": "2024-08-21T07:47:40.885Z"
   },
   {
    "duration": 0,
    "start_time": "2024-08-21T07:47:40.897Z"
   },
   {
    "duration": 0,
    "start_time": "2024-08-21T07:47:40.899Z"
   },
   {
    "duration": 0,
    "start_time": "2024-08-21T07:47:40.901Z"
   },
   {
    "duration": 0,
    "start_time": "2024-08-21T07:47:40.903Z"
   },
   {
    "duration": 0,
    "start_time": "2024-08-21T07:47:40.905Z"
   },
   {
    "duration": 0,
    "start_time": "2024-08-21T07:47:40.934Z"
   },
   {
    "duration": 0,
    "start_time": "2024-08-21T07:47:40.935Z"
   },
   {
    "duration": 0,
    "start_time": "2024-08-21T07:47:40.937Z"
   },
   {
    "duration": 0,
    "start_time": "2024-08-21T07:47:40.939Z"
   },
   {
    "duration": 0,
    "start_time": "2024-08-21T07:47:40.941Z"
   },
   {
    "duration": 0,
    "start_time": "2024-08-21T07:47:40.943Z"
   },
   {
    "duration": 0,
    "start_time": "2024-08-21T07:47:40.945Z"
   },
   {
    "duration": 0,
    "start_time": "2024-08-21T07:47:40.947Z"
   },
   {
    "duration": 0,
    "start_time": "2024-08-21T07:47:40.948Z"
   },
   {
    "duration": 0,
    "start_time": "2024-08-21T07:47:40.951Z"
   },
   {
    "duration": 0,
    "start_time": "2024-08-21T07:47:40.954Z"
   },
   {
    "duration": 0,
    "start_time": "2024-08-21T07:47:40.956Z"
   },
   {
    "duration": 0,
    "start_time": "2024-08-21T07:47:40.959Z"
   },
   {
    "duration": 0,
    "start_time": "2024-08-21T07:47:40.961Z"
   },
   {
    "duration": 0,
    "start_time": "2024-08-21T07:47:40.963Z"
   },
   {
    "duration": 0,
    "start_time": "2024-08-21T07:47:40.965Z"
   },
   {
    "duration": 0,
    "start_time": "2024-08-21T07:47:40.966Z"
   },
   {
    "duration": 0,
    "start_time": "2024-08-21T07:47:40.968Z"
   },
   {
    "duration": 0,
    "start_time": "2024-08-21T07:47:40.970Z"
   },
   {
    "duration": 1,
    "start_time": "2024-08-21T07:47:41.033Z"
   },
   {
    "duration": 0,
    "start_time": "2024-08-21T07:47:41.036Z"
   },
   {
    "duration": 0,
    "start_time": "2024-08-21T07:47:41.038Z"
   },
   {
    "duration": 0,
    "start_time": "2024-08-21T07:47:41.040Z"
   },
   {
    "duration": 0,
    "start_time": "2024-08-21T07:47:41.043Z"
   },
   {
    "duration": 0,
    "start_time": "2024-08-21T07:47:41.045Z"
   },
   {
    "duration": 0,
    "start_time": "2024-08-21T07:47:41.048Z"
   },
   {
    "duration": 1,
    "start_time": "2024-08-21T07:47:41.049Z"
   },
   {
    "duration": 0,
    "start_time": "2024-08-21T07:47:41.052Z"
   },
   {
    "duration": 0,
    "start_time": "2024-08-21T07:47:41.054Z"
   },
   {
    "duration": 0,
    "start_time": "2024-08-21T07:47:41.056Z"
   },
   {
    "duration": 0,
    "start_time": "2024-08-21T07:47:41.059Z"
   },
   {
    "duration": 0,
    "start_time": "2024-08-21T07:47:41.061Z"
   },
   {
    "duration": 0,
    "start_time": "2024-08-21T07:47:41.063Z"
   },
   {
    "duration": 0,
    "start_time": "2024-08-21T07:47:41.065Z"
   },
   {
    "duration": 0,
    "start_time": "2024-08-21T07:47:41.068Z"
   },
   {
    "duration": 0,
    "start_time": "2024-08-21T07:47:41.070Z"
   },
   {
    "duration": 0,
    "start_time": "2024-08-21T07:47:41.072Z"
   },
   {
    "duration": 0,
    "start_time": "2024-08-21T07:47:41.133Z"
   },
   {
    "duration": 0,
    "start_time": "2024-08-21T07:47:41.135Z"
   },
   {
    "duration": 0,
    "start_time": "2024-08-21T07:47:41.138Z"
   },
   {
    "duration": 0,
    "start_time": "2024-08-21T07:47:41.140Z"
   },
   {
    "duration": 0,
    "start_time": "2024-08-21T07:47:41.142Z"
   },
   {
    "duration": 0,
    "start_time": "2024-08-21T07:47:41.143Z"
   },
   {
    "duration": 0,
    "start_time": "2024-08-21T07:47:41.146Z"
   },
   {
    "duration": 0,
    "start_time": "2024-08-21T07:47:41.148Z"
   },
   {
    "duration": 1,
    "start_time": "2024-08-21T07:47:41.150Z"
   },
   {
    "duration": 0,
    "start_time": "2024-08-21T07:47:41.153Z"
   },
   {
    "duration": 0,
    "start_time": "2024-08-21T07:47:41.155Z"
   },
   {
    "duration": 0,
    "start_time": "2024-08-21T07:47:41.156Z"
   },
   {
    "duration": 3,
    "start_time": "2024-08-21T07:48:01.872Z"
   },
   {
    "duration": 321,
    "start_time": "2024-08-21T07:48:02.015Z"
   },
   {
    "duration": 97,
    "start_time": "2024-08-21T07:48:02.341Z"
   },
   {
    "duration": 27,
    "start_time": "2024-08-21T07:48:02.441Z"
   },
   {
    "duration": 23,
    "start_time": "2024-08-21T07:48:02.511Z"
   },
   {
    "duration": 1982,
    "start_time": "2024-08-21T07:48:02.688Z"
   },
   {
    "duration": 5,
    "start_time": "2024-08-21T07:48:04.674Z"
   },
   {
    "duration": 0,
    "start_time": "2024-08-21T07:48:04.683Z"
   },
   {
    "duration": 0,
    "start_time": "2024-08-21T07:48:04.686Z"
   },
   {
    "duration": 0,
    "start_time": "2024-08-21T07:48:04.689Z"
   },
   {
    "duration": 0,
    "start_time": "2024-08-21T07:48:04.691Z"
   },
   {
    "duration": 0,
    "start_time": "2024-08-21T07:48:04.693Z"
   },
   {
    "duration": 0,
    "start_time": "2024-08-21T07:48:04.696Z"
   },
   {
    "duration": 10,
    "start_time": "2024-08-21T07:48:04.847Z"
   },
   {
    "duration": 53,
    "start_time": "2024-08-21T07:48:05.012Z"
   },
   {
    "duration": 24,
    "start_time": "2024-08-21T07:48:05.214Z"
   },
   {
    "duration": 6,
    "start_time": "2024-08-21T07:48:05.860Z"
   },
   {
    "duration": 6,
    "start_time": "2024-08-21T07:48:06.788Z"
   },
   {
    "duration": 1315,
    "start_time": "2024-08-21T07:48:07.762Z"
   },
   {
    "duration": 3,
    "start_time": "2024-08-21T07:48:09.080Z"
   },
   {
    "duration": 19,
    "start_time": "2024-08-21T07:48:09.604Z"
   },
   {
    "duration": 19,
    "start_time": "2024-08-21T07:48:10.033Z"
   },
   {
    "duration": 20,
    "start_time": "2024-08-21T07:48:10.392Z"
   },
   {
    "duration": 3,
    "start_time": "2024-08-21T07:48:10.797Z"
   },
   {
    "duration": 39,
    "start_time": "2024-08-21T07:48:11.222Z"
   },
   {
    "duration": 27,
    "start_time": "2024-08-21T07:48:12.714Z"
   },
   {
    "duration": 19,
    "start_time": "2024-08-21T07:48:13.382Z"
   },
   {
    "duration": 41,
    "start_time": "2024-08-21T07:48:15.390Z"
   },
   {
    "duration": 49,
    "start_time": "2024-08-21T07:48:15.884Z"
   },
   {
    "duration": 11,
    "start_time": "2024-08-21T07:48:16.433Z"
   },
   {
    "duration": 11,
    "start_time": "2024-08-21T07:48:16.991Z"
   },
   {
    "duration": 334,
    "start_time": "2024-08-21T07:48:18.597Z"
   },
   {
    "duration": 7,
    "start_time": "2024-08-21T07:48:21.145Z"
   },
   {
    "duration": 5,
    "start_time": "2024-08-21T07:48:22.191Z"
   },
   {
    "duration": 11,
    "start_time": "2024-08-21T07:48:24.182Z"
   },
   {
    "duration": 14,
    "start_time": "2024-08-21T07:48:26.060Z"
   },
   {
    "duration": 3,
    "start_time": "2024-08-21T07:49:11.677Z"
   },
   {
    "duration": 324,
    "start_time": "2024-08-21T07:49:15.324Z"
   },
   {
    "duration": 320,
    "start_time": "2024-08-21T07:49:18.480Z"
   },
   {
    "duration": 82,
    "start_time": "2024-08-21T07:49:19.199Z"
   },
   {
    "duration": 24,
    "start_time": "2024-08-21T07:49:19.932Z"
   },
   {
    "duration": 26,
    "start_time": "2024-08-21T07:49:20.746Z"
   },
   {
    "duration": 2024,
    "start_time": "2024-08-21T07:49:21.466Z"
   },
   {
    "duration": 5,
    "start_time": "2024-08-21T07:49:23.494Z"
   },
   {
    "duration": 1170,
    "start_time": "2024-08-21T07:49:39.796Z"
   },
   {
    "duration": 1991,
    "start_time": "2024-08-21T07:50:12.428Z"
   },
   {
    "duration": 1995,
    "start_time": "2024-08-21T07:50:24.077Z"
   },
   {
    "duration": 6,
    "start_time": "2024-08-21T07:50:32.692Z"
   },
   {
    "duration": 1318,
    "start_time": "2024-08-21T07:52:12.999Z"
   },
   {
    "duration": 2610,
    "start_time": "2024-08-21T07:52:26.928Z"
   },
   {
    "duration": 2280,
    "start_time": "2024-08-21T07:52:50.469Z"
   },
   {
    "duration": 1355,
    "start_time": "2024-08-21T07:53:55.936Z"
   },
   {
    "duration": 1282,
    "start_time": "2024-08-21T07:54:20.943Z"
   },
   {
    "duration": 1340,
    "start_time": "2024-08-21T07:54:31.055Z"
   },
   {
    "duration": 64,
    "start_time": "2024-08-21T07:54:34.133Z"
   },
   {
    "duration": 13,
    "start_time": "2024-08-21T07:54:53.562Z"
   },
   {
    "duration": 46,
    "start_time": "2024-08-21T07:54:58.943Z"
   },
   {
    "duration": 13,
    "start_time": "2024-08-21T07:55:00.159Z"
   },
   {
    "duration": 123,
    "start_time": "2024-08-21T07:55:02.168Z"
   },
   {
    "duration": 77,
    "start_time": "2024-08-21T07:55:24.979Z"
   },
   {
    "duration": 81,
    "start_time": "2024-08-21T07:55:34.942Z"
   },
   {
    "duration": 9,
    "start_time": "2024-08-21T07:55:45.841Z"
   },
   {
    "duration": 319,
    "start_time": "2024-08-26T15:07:06.405Z"
   },
   {
    "duration": 404,
    "start_time": "2024-08-26T15:07:12.820Z"
   },
   {
    "duration": 3,
    "start_time": "2024-08-26T15:07:13.784Z"
   },
   {
    "duration": 369,
    "start_time": "2024-08-26T15:07:14.009Z"
   },
   {
    "duration": 91,
    "start_time": "2024-08-26T15:07:14.381Z"
   },
   {
    "duration": 26,
    "start_time": "2024-08-26T15:07:14.475Z"
   },
   {
    "duration": 25,
    "start_time": "2024-08-26T15:07:14.504Z"
   },
   {
    "duration": 2082,
    "start_time": "2024-08-26T15:07:14.654Z"
   },
   {
    "duration": 5,
    "start_time": "2024-08-26T15:07:16.739Z"
   },
   {
    "duration": 0,
    "start_time": "2024-08-26T15:07:16.767Z"
   },
   {
    "duration": 0,
    "start_time": "2024-08-26T15:07:16.769Z"
   },
   {
    "duration": 0,
    "start_time": "2024-08-26T15:07:16.771Z"
   },
   {
    "duration": 0,
    "start_time": "2024-08-26T15:07:16.773Z"
   },
   {
    "duration": 0,
    "start_time": "2024-08-26T15:07:16.775Z"
   },
   {
    "duration": 0,
    "start_time": "2024-08-26T15:07:16.777Z"
   },
   {
    "duration": 0,
    "start_time": "2024-08-26T15:07:16.779Z"
   },
   {
    "duration": 47,
    "start_time": "2024-08-26T15:07:16.886Z"
   },
   {
    "duration": 29,
    "start_time": "2024-08-26T15:07:17.064Z"
   },
   {
    "duration": 6,
    "start_time": "2024-08-26T15:07:17.656Z"
   },
   {
    "duration": 6,
    "start_time": "2024-08-26T15:07:18.360Z"
   },
   {
    "duration": 1349,
    "start_time": "2024-08-26T15:07:19.069Z"
   },
   {
    "duration": 3,
    "start_time": "2024-08-26T15:07:20.421Z"
   },
   {
    "duration": 40,
    "start_time": "2024-08-26T15:07:20.428Z"
   },
   {
    "duration": 18,
    "start_time": "2024-08-26T15:07:20.472Z"
   },
   {
    "duration": 18,
    "start_time": "2024-08-26T15:07:20.566Z"
   },
   {
    "duration": 5,
    "start_time": "2024-08-26T15:07:20.713Z"
   },
   {
    "duration": 34,
    "start_time": "2024-08-26T15:07:20.870Z"
   },
   {
    "duration": 25,
    "start_time": "2024-08-26T15:07:21.410Z"
   },
   {
    "duration": 17,
    "start_time": "2024-08-26T15:07:21.586Z"
   },
   {
    "duration": 47,
    "start_time": "2024-08-26T15:07:22.167Z"
   },
   {
    "duration": 48,
    "start_time": "2024-08-26T15:07:22.361Z"
   },
   {
    "duration": 10,
    "start_time": "2024-08-26T15:07:22.536Z"
   },
   {
    "duration": 64,
    "start_time": "2024-08-26T15:07:22.748Z"
   },
   {
    "duration": 343,
    "start_time": "2024-08-26T15:07:23.127Z"
   },
   {
    "duration": 8,
    "start_time": "2024-08-26T15:07:27.204Z"
   },
   {
    "duration": 6,
    "start_time": "2024-08-26T15:07:27.762Z"
   },
   {
    "duration": 10,
    "start_time": "2024-08-26T15:07:29.267Z"
   },
   {
    "duration": 11,
    "start_time": "2024-08-26T15:07:30.664Z"
   },
   {
    "duration": 43037,
    "start_time": "2024-08-26T15:07:36.494Z"
   },
   {
    "duration": 241,
    "start_time": "2024-08-26T15:08:19.535Z"
   },
   {
    "duration": 75,
    "start_time": "2024-08-26T15:08:19.846Z"
   },
   {
    "duration": 61,
    "start_time": "2024-08-26T15:08:25.633Z"
   },
   {
    "duration": 246,
    "start_time": "2024-08-26T15:47:55.856Z"
   },
   {
    "duration": 321,
    "start_time": "2024-08-26T15:48:00.048Z"
   },
   {
    "duration": 338,
    "start_time": "2024-08-26T17:56:43.747Z"
   },
   {
    "duration": 236,
    "start_time": "2024-08-26T17:56:44.087Z"
   },
   {
    "duration": 73,
    "start_time": "2024-08-26T17:56:44.325Z"
   },
   {
    "duration": 17,
    "start_time": "2024-08-26T17:56:44.400Z"
   },
   {
    "duration": 16,
    "start_time": "2024-08-26T17:56:44.419Z"
   },
   {
    "duration": 1303,
    "start_time": "2024-08-26T17:56:44.437Z"
   },
   {
    "duration": 4,
    "start_time": "2024-08-26T17:56:45.742Z"
   },
   {
    "duration": 0,
    "start_time": "2024-08-26T17:56:45.749Z"
   },
   {
    "duration": 0,
    "start_time": "2024-08-26T17:56:45.750Z"
   },
   {
    "duration": 0,
    "start_time": "2024-08-26T17:56:45.752Z"
   },
   {
    "duration": 0,
    "start_time": "2024-08-26T17:56:45.753Z"
   },
   {
    "duration": 0,
    "start_time": "2024-08-26T17:56:45.754Z"
   },
   {
    "duration": 0,
    "start_time": "2024-08-26T17:56:45.754Z"
   },
   {
    "duration": 0,
    "start_time": "2024-08-26T17:56:45.756Z"
   },
   {
    "duration": 0,
    "start_time": "2024-08-26T17:56:45.757Z"
   },
   {
    "duration": 0,
    "start_time": "2024-08-26T17:56:45.758Z"
   },
   {
    "duration": 0,
    "start_time": "2024-08-26T17:56:45.759Z"
   },
   {
    "duration": 0,
    "start_time": "2024-08-26T17:56:45.760Z"
   },
   {
    "duration": 0,
    "start_time": "2024-08-26T17:56:45.761Z"
   },
   {
    "duration": 0,
    "start_time": "2024-08-26T17:56:45.762Z"
   },
   {
    "duration": 0,
    "start_time": "2024-08-26T17:56:45.763Z"
   },
   {
    "duration": 0,
    "start_time": "2024-08-26T17:56:45.764Z"
   },
   {
    "duration": 0,
    "start_time": "2024-08-26T17:56:45.765Z"
   },
   {
    "duration": 0,
    "start_time": "2024-08-26T17:56:45.765Z"
   },
   {
    "duration": 0,
    "start_time": "2024-08-26T17:56:45.767Z"
   },
   {
    "duration": 0,
    "start_time": "2024-08-26T17:56:45.769Z"
   },
   {
    "duration": 0,
    "start_time": "2024-08-26T17:56:45.770Z"
   },
   {
    "duration": 0,
    "start_time": "2024-08-26T17:56:45.771Z"
   },
   {
    "duration": 0,
    "start_time": "2024-08-26T17:56:45.772Z"
   },
   {
    "duration": 0,
    "start_time": "2024-08-26T17:56:45.774Z"
   },
   {
    "duration": 0,
    "start_time": "2024-08-26T17:56:45.775Z"
   },
   {
    "duration": 0,
    "start_time": "2024-08-26T17:56:45.776Z"
   },
   {
    "duration": 0,
    "start_time": "2024-08-26T17:56:45.777Z"
   },
   {
    "duration": 0,
    "start_time": "2024-08-26T17:56:45.783Z"
   },
   {
    "duration": 0,
    "start_time": "2024-08-26T17:56:45.840Z"
   },
   {
    "duration": 0,
    "start_time": "2024-08-26T17:56:45.841Z"
   },
   {
    "duration": 0,
    "start_time": "2024-08-26T17:56:45.842Z"
   },
   {
    "duration": 0,
    "start_time": "2024-08-26T17:56:45.843Z"
   },
   {
    "duration": 0,
    "start_time": "2024-08-26T17:56:45.844Z"
   },
   {
    "duration": 0,
    "start_time": "2024-08-26T17:56:45.845Z"
   },
   {
    "duration": 0,
    "start_time": "2024-08-26T17:56:45.847Z"
   },
   {
    "duration": 0,
    "start_time": "2024-08-26T17:56:45.849Z"
   },
   {
    "duration": 0,
    "start_time": "2024-08-26T17:56:45.850Z"
   },
   {
    "duration": 0,
    "start_time": "2024-08-26T17:56:45.851Z"
   },
   {
    "duration": 0,
    "start_time": "2024-08-26T17:56:45.852Z"
   },
   {
    "duration": 0,
    "start_time": "2024-08-26T17:56:45.853Z"
   },
   {
    "duration": 0,
    "start_time": "2024-08-26T17:56:45.855Z"
   },
   {
    "duration": 0,
    "start_time": "2024-08-26T17:56:45.856Z"
   },
   {
    "duration": 0,
    "start_time": "2024-08-26T17:56:45.858Z"
   },
   {
    "duration": 0,
    "start_time": "2024-08-26T17:56:45.859Z"
   },
   {
    "duration": 0,
    "start_time": "2024-08-26T17:56:45.861Z"
   },
   {
    "duration": 0,
    "start_time": "2024-08-26T17:56:45.862Z"
   },
   {
    "duration": 0,
    "start_time": "2024-08-26T17:56:45.863Z"
   },
   {
    "duration": 0,
    "start_time": "2024-08-26T17:56:45.865Z"
   },
   {
    "duration": 0,
    "start_time": "2024-08-26T17:56:45.866Z"
   },
   {
    "duration": 0,
    "start_time": "2024-08-26T17:56:45.868Z"
   },
   {
    "duration": 0,
    "start_time": "2024-08-26T17:56:45.869Z"
   },
   {
    "duration": 0,
    "start_time": "2024-08-26T17:56:45.872Z"
   },
   {
    "duration": 0,
    "start_time": "2024-08-26T17:56:45.873Z"
   },
   {
    "duration": 0,
    "start_time": "2024-08-26T17:56:45.875Z"
   },
   {
    "duration": 0,
    "start_time": "2024-08-26T17:56:45.876Z"
   },
   {
    "duration": 3,
    "start_time": "2024-08-26T18:04:59.494Z"
   },
   {
    "duration": 177,
    "start_time": "2024-08-26T18:04:59.501Z"
   },
   {
    "duration": 47,
    "start_time": "2024-08-26T18:04:59.680Z"
   },
   {
    "duration": 14,
    "start_time": "2024-08-26T18:04:59.740Z"
   },
   {
    "duration": 13,
    "start_time": "2024-08-26T18:04:59.756Z"
   },
   {
    "duration": 1228,
    "start_time": "2024-08-26T18:04:59.772Z"
   },
   {
    "duration": 4,
    "start_time": "2024-08-26T18:05:01.002Z"
   },
   {
    "duration": 0,
    "start_time": "2024-08-26T18:05:01.009Z"
   },
   {
    "duration": 0,
    "start_time": "2024-08-26T18:05:01.010Z"
   },
   {
    "duration": 0,
    "start_time": "2024-08-26T18:05:01.012Z"
   },
   {
    "duration": 0,
    "start_time": "2024-08-26T18:05:01.013Z"
   },
   {
    "duration": 0,
    "start_time": "2024-08-26T18:05:01.015Z"
   },
   {
    "duration": 0,
    "start_time": "2024-08-26T18:05:01.016Z"
   },
   {
    "duration": 0,
    "start_time": "2024-08-26T18:05:01.041Z"
   },
   {
    "duration": 0,
    "start_time": "2024-08-26T18:05:01.042Z"
   },
   {
    "duration": 0,
    "start_time": "2024-08-26T18:05:01.043Z"
   },
   {
    "duration": 0,
    "start_time": "2024-08-26T18:05:01.044Z"
   },
   {
    "duration": 0,
    "start_time": "2024-08-26T18:05:01.045Z"
   },
   {
    "duration": 0,
    "start_time": "2024-08-26T18:05:01.046Z"
   },
   {
    "duration": 0,
    "start_time": "2024-08-26T18:05:01.046Z"
   },
   {
    "duration": 0,
    "start_time": "2024-08-26T18:05:01.048Z"
   },
   {
    "duration": 0,
    "start_time": "2024-08-26T18:05:01.048Z"
   },
   {
    "duration": 0,
    "start_time": "2024-08-26T18:05:01.050Z"
   },
   {
    "duration": 0,
    "start_time": "2024-08-26T18:05:01.050Z"
   },
   {
    "duration": 0,
    "start_time": "2024-08-26T18:05:01.051Z"
   },
   {
    "duration": 0,
    "start_time": "2024-08-26T18:05:01.053Z"
   },
   {
    "duration": 0,
    "start_time": "2024-08-26T18:05:01.054Z"
   },
   {
    "duration": 0,
    "start_time": "2024-08-26T18:05:01.055Z"
   },
   {
    "duration": 0,
    "start_time": "2024-08-26T18:05:01.056Z"
   },
   {
    "duration": 0,
    "start_time": "2024-08-26T18:05:01.057Z"
   },
   {
    "duration": 0,
    "start_time": "2024-08-26T18:05:01.058Z"
   },
   {
    "duration": 0,
    "start_time": "2024-08-26T18:05:01.060Z"
   },
   {
    "duration": 0,
    "start_time": "2024-08-26T18:05:01.061Z"
   },
   {
    "duration": 0,
    "start_time": "2024-08-26T18:05:01.063Z"
   },
   {
    "duration": 0,
    "start_time": "2024-08-26T18:05:01.064Z"
   },
   {
    "duration": 0,
    "start_time": "2024-08-26T18:05:01.066Z"
   },
   {
    "duration": 0,
    "start_time": "2024-08-26T18:05:01.067Z"
   },
   {
    "duration": 0,
    "start_time": "2024-08-26T18:05:01.069Z"
   },
   {
    "duration": 0,
    "start_time": "2024-08-26T18:05:01.070Z"
   },
   {
    "duration": 0,
    "start_time": "2024-08-26T18:05:01.071Z"
   },
   {
    "duration": 0,
    "start_time": "2024-08-26T18:05:01.072Z"
   },
   {
    "duration": 0,
    "start_time": "2024-08-26T18:05:01.073Z"
   },
   {
    "duration": 0,
    "start_time": "2024-08-26T18:05:01.075Z"
   },
   {
    "duration": 1,
    "start_time": "2024-08-26T18:05:01.075Z"
   },
   {
    "duration": 0,
    "start_time": "2024-08-26T18:05:01.077Z"
   },
   {
    "duration": 0,
    "start_time": "2024-08-26T18:05:01.078Z"
   },
   {
    "duration": 0,
    "start_time": "2024-08-26T18:05:01.079Z"
   },
   {
    "duration": 0,
    "start_time": "2024-08-26T18:05:01.080Z"
   },
   {
    "duration": 0,
    "start_time": "2024-08-26T18:05:01.142Z"
   },
   {
    "duration": 0,
    "start_time": "2024-08-26T18:05:01.144Z"
   },
   {
    "duration": 0,
    "start_time": "2024-08-26T18:05:01.145Z"
   },
   {
    "duration": 0,
    "start_time": "2024-08-26T18:05:01.147Z"
   },
   {
    "duration": 0,
    "start_time": "2024-08-26T18:05:01.148Z"
   },
   {
    "duration": 0,
    "start_time": "2024-08-26T18:05:01.150Z"
   },
   {
    "duration": 0,
    "start_time": "2024-08-26T18:05:01.151Z"
   },
   {
    "duration": 0,
    "start_time": "2024-08-26T18:05:01.153Z"
   },
   {
    "duration": 0,
    "start_time": "2024-08-26T18:05:01.156Z"
   },
   {
    "duration": 0,
    "start_time": "2024-08-26T18:05:01.158Z"
   },
   {
    "duration": 0,
    "start_time": "2024-08-26T18:05:01.159Z"
   },
   {
    "duration": 0,
    "start_time": "2024-08-26T18:05:01.160Z"
   },
   {
    "duration": 0,
    "start_time": "2024-08-26T18:05:01.161Z"
   },
   {
    "duration": 635,
    "start_time": "2024-08-26T18:49:06.145Z"
   },
   {
    "duration": 4,
    "start_time": "2024-08-26T18:49:15.836Z"
   },
   {
    "duration": 4,
    "start_time": "2024-08-26T18:50:30.445Z"
   },
   {
    "duration": 4,
    "start_time": "2024-08-26T18:50:31.457Z"
   },
   {
    "duration": 88,
    "start_time": "2024-08-26T19:33:59.363Z"
   },
   {
    "duration": 2,
    "start_time": "2024-08-26T19:34:00.427Z"
   },
   {
    "duration": 4,
    "start_time": "2024-08-26T19:34:01.256Z"
   },
   {
    "duration": 6,
    "start_time": "2024-08-26T19:34:02.140Z"
   },
   {
    "duration": 466,
    "start_time": "2024-08-27T03:23:05.791Z"
   },
   {
    "duration": 3,
    "start_time": "2024-08-27T03:23:08.743Z"
   },
   {
    "duration": 388,
    "start_time": "2024-08-27T03:23:09.396Z"
   },
   {
    "duration": 116,
    "start_time": "2024-08-27T03:23:09.787Z"
   },
   {
    "duration": 26,
    "start_time": "2024-08-27T03:23:10.016Z"
   },
   {
    "duration": 25,
    "start_time": "2024-08-27T03:23:10.305Z"
   },
   {
    "duration": 2250,
    "start_time": "2024-08-27T03:23:11.143Z"
   },
   {
    "duration": 6,
    "start_time": "2024-08-27T03:23:13.397Z"
   },
   {
    "duration": 144,
    "start_time": "2024-08-27T03:23:14.062Z"
   },
   {
    "duration": 13,
    "start_time": "2024-08-27T03:23:14.266Z"
   },
   {
    "duration": 155,
    "start_time": "2024-08-27T03:23:14.595Z"
   },
   {
    "duration": 172,
    "start_time": "2024-08-27T03:23:15.003Z"
   },
   {
    "duration": 2643,
    "start_time": "2024-08-27T03:24:24.217Z"
   },
   {
    "duration": 157,
    "start_time": "2024-08-27T03:27:21.313Z"
   },
   {
    "duration": 156,
    "start_time": "2024-08-27T03:27:57.496Z"
   },
   {
    "duration": 157,
    "start_time": "2024-08-27T09:21:49.917Z"
   },
   {
    "duration": 310,
    "start_time": "2024-08-27T09:21:56.045Z"
   },
   {
    "duration": 218,
    "start_time": "2024-08-27T09:21:57.449Z"
   },
   {
    "duration": 195,
    "start_time": "2024-08-27T09:22:02.003Z"
   },
   {
    "duration": 50,
    "start_time": "2024-08-27T09:22:02.782Z"
   },
   {
    "duration": 17,
    "start_time": "2024-08-27T09:22:03.650Z"
   },
   {
    "duration": 17,
    "start_time": "2024-08-27T09:22:04.518Z"
   },
   {
    "duration": 1197,
    "start_time": "2024-08-27T09:22:05.482Z"
   },
   {
    "duration": 75,
    "start_time": "2024-08-27T09:22:10.662Z"
   },
   {
    "duration": 3,
    "start_time": "2024-08-27T09:27:55.361Z"
   },
   {
    "duration": 2,
    "start_time": "2024-08-27T09:28:12.753Z"
   },
   {
    "duration": 174,
    "start_time": "2024-08-27T09:28:13.565Z"
   },
   {
    "duration": 50,
    "start_time": "2024-08-27T09:28:14.036Z"
   },
   {
    "duration": 18,
    "start_time": "2024-08-27T09:28:14.348Z"
   },
   {
    "duration": 17,
    "start_time": "2024-08-27T09:28:14.749Z"
   },
   {
    "duration": 1184,
    "start_time": "2024-08-27T09:28:15.074Z"
   },
   {
    "duration": 76,
    "start_time": "2024-08-27T09:28:16.395Z"
   },
   {
    "duration": 13,
    "start_time": "2024-08-27T09:28:16.617Z"
   },
   {
    "duration": 84,
    "start_time": "2024-08-27T09:28:16.952Z"
   },
   {
    "duration": 91,
    "start_time": "2024-08-27T09:28:17.304Z"
   },
   {
    "duration": 44,
    "start_time": "2024-08-27T09:28:17.591Z"
   },
   {
    "duration": 14,
    "start_time": "2024-08-27T09:28:18.530Z"
   },
   {
    "duration": 6,
    "start_time": "2024-08-27T09:28:18.730Z"
   },
   {
    "duration": 28,
    "start_time": "2024-08-27T09:28:19.215Z"
   },
   {
    "duration": 11,
    "start_time": "2024-08-27T09:28:19.492Z"
   },
   {
    "duration": 5,
    "start_time": "2024-08-27T09:28:20.328Z"
   },
   {
    "duration": 4,
    "start_time": "2024-08-27T09:28:21.584Z"
   },
   {
    "duration": 816,
    "start_time": "2024-08-27T09:28:22.630Z"
   },
   {
    "duration": 3,
    "start_time": "2024-08-27T09:28:23.449Z"
   },
   {
    "duration": 7,
    "start_time": "2024-08-27T09:28:23.815Z"
   },
   {
    "duration": 10,
    "start_time": "2024-08-27T09:28:24.065Z"
   },
   {
    "duration": 10,
    "start_time": "2024-08-27T09:28:24.323Z"
   },
   {
    "duration": 3,
    "start_time": "2024-08-27T09:28:24.554Z"
   },
   {
    "duration": 15,
    "start_time": "2024-08-27T09:28:24.775Z"
   },
   {
    "duration": 12,
    "start_time": "2024-08-27T09:28:25.779Z"
   },
   {
    "duration": 14,
    "start_time": "2024-08-27T09:28:26.071Z"
   },
   {
    "duration": 17,
    "start_time": "2024-08-27T09:28:26.386Z"
   },
   {
    "duration": 15,
    "start_time": "2024-08-27T09:28:27.284Z"
   },
   {
    "duration": 44,
    "start_time": "2024-08-27T09:28:27.548Z"
   },
   {
    "duration": 23,
    "start_time": "2024-08-27T09:28:27.822Z"
   },
   {
    "duration": 9,
    "start_time": "2024-08-27T09:28:28.101Z"
   },
   {
    "duration": 589,
    "start_time": "2024-08-27T09:28:28.311Z"
   },
   {
    "duration": 4,
    "start_time": "2024-08-27T09:28:30.389Z"
   },
   {
    "duration": 5,
    "start_time": "2024-08-27T09:28:30.628Z"
   },
   {
    "duration": 6,
    "start_time": "2024-08-27T09:28:31.132Z"
   },
   {
    "duration": 7,
    "start_time": "2024-08-27T09:28:32.488Z"
   },
   {
    "duration": 19362,
    "start_time": "2024-08-27T09:28:33.207Z"
   },
   {
    "duration": 318,
    "start_time": "2024-08-27T09:28:52.572Z"
   },
   {
    "duration": 135,
    "start_time": "2024-08-27T09:28:52.892Z"
   },
   {
    "duration": 184,
    "start_time": "2024-08-27T09:28:53.030Z"
   },
   {
    "duration": 9,
    "start_time": "2024-08-27T09:28:53.216Z"
   },
   {
    "duration": 17,
    "start_time": "2024-08-27T09:28:53.228Z"
   },
   {
    "duration": 127,
    "start_time": "2024-08-27T09:28:53.246Z"
   },
   {
    "duration": 122,
    "start_time": "2024-08-27T09:28:53.375Z"
   },
   {
    "duration": 48,
    "start_time": "2024-08-27T09:28:53.499Z"
   },
   {
    "duration": 115,
    "start_time": "2024-08-27T09:28:53.550Z"
   },
   {
    "duration": 1063,
    "start_time": "2024-08-27T09:28:58.695Z"
   },
   {
    "duration": 48,
    "start_time": "2024-08-27T09:28:59.760Z"
   },
   {
    "duration": 5,
    "start_time": "2024-08-27T09:28:59.959Z"
   },
   {
    "duration": 268,
    "start_time": "2024-08-27T09:29:01.413Z"
   },
   {
    "duration": 106,
    "start_time": "2024-08-27T09:29:03.937Z"
   },
   {
    "duration": 54,
    "start_time": "2024-08-27T09:29:04.267Z"
   },
   {
    "duration": 6,
    "start_time": "2024-08-27T09:29:04.779Z"
   },
   {
    "duration": 10,
    "start_time": "2024-08-27T09:29:05.223Z"
   },
   {
    "duration": 752,
    "start_time": "2024-08-27T09:29:06.548Z"
   },
   {
    "duration": 6,
    "start_time": "2024-08-27T09:29:07.302Z"
   },
   {
    "duration": 6,
    "start_time": "2024-08-27T09:29:07.310Z"
   },
   {
    "duration": 706,
    "start_time": "2024-08-27T09:29:09.019Z"
   },
   {
    "duration": 24,
    "start_time": "2024-08-27T09:29:12.365Z"
   },
   {
    "duration": 8,
    "start_time": "2024-08-27T09:29:13.170Z"
   },
   {
    "duration": 7,
    "start_time": "2024-08-27T09:29:13.965Z"
   },
   {
    "duration": 339,
    "start_time": "2024-08-27T17:17:25.686Z"
   },
   {
    "duration": 262,
    "start_time": "2024-08-27T17:17:37.000Z"
   },
   {
    "duration": 87,
    "start_time": "2024-08-27T17:17:39.439Z"
   },
   {
    "duration": 21,
    "start_time": "2024-08-27T17:17:46.771Z"
   },
   {
    "duration": 20,
    "start_time": "2024-08-27T17:18:00.447Z"
   },
   {
    "duration": 1345,
    "start_time": "2024-08-27T17:18:06.017Z"
   },
   {
    "duration": 82,
    "start_time": "2024-08-27T17:18:24.312Z"
   },
   {
    "duration": 9,
    "start_time": "2024-08-27T17:18:25.565Z"
   },
   {
    "duration": 87,
    "start_time": "2024-08-27T17:18:27.104Z"
   },
   {
    "duration": 95,
    "start_time": "2024-08-27T17:18:30.193Z"
   },
   {
    "duration": 53,
    "start_time": "2024-08-27T17:18:32.162Z"
   },
   {
    "duration": 14,
    "start_time": "2024-08-27T17:18:36.919Z"
   },
   {
    "duration": 8,
    "start_time": "2024-08-27T17:18:38.585Z"
   },
   {
    "duration": 27,
    "start_time": "2024-08-27T17:18:39.944Z"
   },
   {
    "duration": 12,
    "start_time": "2024-08-27T17:18:43.925Z"
   },
   {
    "duration": 5,
    "start_time": "2024-08-27T17:18:49.909Z"
   },
   {
    "duration": 5,
    "start_time": "2024-08-27T17:18:53.758Z"
   },
   {
    "duration": 775,
    "start_time": "2024-08-27T17:18:54.727Z"
   },
   {
    "duration": 5,
    "start_time": "2024-08-27T17:18:55.504Z"
   },
   {
    "duration": 8,
    "start_time": "2024-08-27T17:18:57.479Z"
   },
   {
    "duration": 10,
    "start_time": "2024-08-27T17:18:57.700Z"
   },
   {
    "duration": 11,
    "start_time": "2024-08-27T17:18:57.925Z"
   },
   {
    "duration": 2,
    "start_time": "2024-08-27T17:19:06.599Z"
   },
   {
    "duration": 14,
    "start_time": "2024-08-27T17:19:07.290Z"
   },
   {
    "duration": 12,
    "start_time": "2024-08-27T17:19:09.761Z"
   },
   {
    "duration": 17,
    "start_time": "2024-08-27T17:19:10.848Z"
   },
   {
    "duration": 25,
    "start_time": "2024-08-27T17:19:12.004Z"
   },
   {
    "duration": 18,
    "start_time": "2024-08-27T17:19:17.439Z"
   },
   {
    "duration": 46,
    "start_time": "2024-08-27T17:19:19.398Z"
   },
   {
    "duration": 33,
    "start_time": "2024-08-27T17:19:40.466Z"
   },
   {
    "duration": 10,
    "start_time": "2024-08-27T17:19:42.087Z"
   },
   {
    "duration": 615,
    "start_time": "2024-08-27T17:19:43.478Z"
   },
   {
    "duration": 5,
    "start_time": "2024-08-27T17:19:46.974Z"
   },
   {
    "duration": 6,
    "start_time": "2024-08-27T17:19:49.323Z"
   },
   {
    "duration": 6,
    "start_time": "2024-08-27T17:20:19.992Z"
   },
   {
    "duration": 6,
    "start_time": "2024-08-27T17:20:25.496Z"
   },
   {
    "duration": 20401,
    "start_time": "2024-08-27T17:20:38.497Z"
   },
   {
    "duration": 2057,
    "start_time": "2024-08-27T17:20:58.900Z"
   },
   {
    "duration": 141,
    "start_time": "2024-08-27T17:21:00.960Z"
   },
   {
    "duration": 193,
    "start_time": "2024-08-27T17:21:01.104Z"
   },
   {
    "duration": 303,
    "start_time": "2024-08-27T17:24:22.315Z"
   },
   {
    "duration": 193,
    "start_time": "2024-08-27T17:29:52.240Z"
   },
   {
    "duration": 109,
    "start_time": "2024-08-27T17:29:56.424Z"
   },
   {
    "duration": 57,
    "start_time": "2024-08-27T17:29:57.825Z"
   },
   {
    "duration": 195,
    "start_time": "2024-08-27T17:29:59.836Z"
   },
   {
    "duration": 128,
    "start_time": "2024-08-27T17:30:15.712Z"
   },
   {
    "duration": 59,
    "start_time": "2024-08-27T17:36:33.464Z"
   },
   {
    "duration": 47,
    "start_time": "2024-08-27T17:36:34.681Z"
   },
   {
    "duration": 13,
    "start_time": "2024-08-27T17:36:36.262Z"
   },
   {
    "duration": 6,
    "start_time": "2024-08-27T17:36:50.358Z"
   },
   {
    "duration": 13,
    "start_time": "2024-08-27T17:36:54.262Z"
   },
   {
    "duration": 194,
    "start_time": "2024-08-27T17:47:43.735Z"
   },
   {
    "duration": 203,
    "start_time": "2024-08-27T17:48:30.770Z"
   },
   {
    "duration": 145,
    "start_time": "2024-08-27T17:49:42.039Z"
   },
   {
    "duration": 179,
    "start_time": "2024-08-27T17:50:23.206Z"
   },
   {
    "duration": 151,
    "start_time": "2024-08-27T17:55:08.954Z"
   },
   {
    "duration": 157,
    "start_time": "2024-08-27T17:55:51.186Z"
   },
   {
    "duration": 152,
    "start_time": "2024-08-27T17:56:23.170Z"
   },
   {
    "duration": 8,
    "start_time": "2024-08-27T18:00:12.020Z"
   },
   {
    "duration": 19,
    "start_time": "2024-08-27T18:00:15.163Z"
   },
   {
    "duration": 120,
    "start_time": "2024-08-27T18:00:18.513Z"
   },
   {
    "duration": 136,
    "start_time": "2024-08-27T18:01:02.172Z"
   },
   {
    "duration": 167,
    "start_time": "2024-08-27T18:01:17.432Z"
   },
   {
    "duration": 223,
    "start_time": "2024-08-27T18:03:51.063Z"
   },
   {
    "duration": 200,
    "start_time": "2024-08-27T18:04:07.958Z"
   },
   {
    "duration": 204,
    "start_time": "2024-08-27T18:04:20.770Z"
   },
   {
    "duration": 760,
    "start_time": "2024-08-27T18:04:43.871Z"
   },
   {
    "duration": 242,
    "start_time": "2024-08-27T18:04:51.267Z"
   },
   {
    "duration": 249,
    "start_time": "2024-08-27T18:05:08.749Z"
   },
   {
    "duration": 18,
    "start_time": "2024-08-27T18:23:48.050Z"
   },
   {
    "duration": 39,
    "start_time": "2024-08-27T18:23:54.264Z"
   },
   {
    "duration": 115,
    "start_time": "2024-08-27T18:23:55.815Z"
   },
   {
    "duration": 1166,
    "start_time": "2024-08-27T18:24:05.602Z"
   },
   {
    "duration": 58,
    "start_time": "2024-08-27T18:24:26.305Z"
   },
   {
    "duration": 41,
    "start_time": "2024-08-27T18:24:28.095Z"
   },
   {
    "duration": 6,
    "start_time": "2024-08-27T18:24:29.565Z"
   },
   {
    "duration": 12,
    "start_time": "2024-08-27T18:25:26.495Z"
   },
   {
    "duration": 262,
    "start_time": "2024-08-27T18:25:31.091Z"
   },
   {
    "duration": 6,
    "start_time": "2024-08-27T18:25:53.363Z"
   },
   {
    "duration": 10,
    "start_time": "2024-08-27T18:27:04.945Z"
   },
   {
    "duration": 3,
    "start_time": "2024-08-27T18:31:05.195Z"
   },
   {
    "duration": 2,
    "start_time": "2024-08-27T18:31:07.625Z"
   },
   {
    "duration": 265,
    "start_time": "2024-08-27T18:31:08.293Z"
   },
   {
    "duration": 60,
    "start_time": "2024-08-27T18:31:08.905Z"
   },
   {
    "duration": 18,
    "start_time": "2024-08-27T18:31:09.398Z"
   },
   {
    "duration": 23,
    "start_time": "2024-08-27T18:31:10.036Z"
   },
   {
    "duration": 1223,
    "start_time": "2024-08-27T18:31:10.662Z"
   },
   {
    "duration": 96,
    "start_time": "2024-08-27T18:31:24.893Z"
   },
   {
    "duration": 7,
    "start_time": "2024-08-27T18:31:25.322Z"
   },
   {
    "duration": 97,
    "start_time": "2024-08-27T18:31:25.866Z"
   },
   {
    "duration": 93,
    "start_time": "2024-08-27T18:31:26.540Z"
   },
   {
    "duration": 40,
    "start_time": "2024-08-27T18:31:27.208Z"
   },
   {
    "duration": 16,
    "start_time": "2024-08-27T18:31:29.322Z"
   },
   {
    "duration": 7,
    "start_time": "2024-08-27T18:31:30.073Z"
   },
   {
    "duration": 27,
    "start_time": "2024-08-27T18:31:30.881Z"
   },
   {
    "duration": 22,
    "start_time": "2024-08-27T18:31:31.685Z"
   },
   {
    "duration": 6,
    "start_time": "2024-08-27T18:31:44.296Z"
   },
   {
    "duration": 713,
    "start_time": "2024-08-27T18:31:50.755Z"
   },
   {
    "duration": 3,
    "start_time": "2024-08-27T18:31:51.607Z"
   },
   {
    "duration": 8,
    "start_time": "2024-08-27T18:31:55.366Z"
   },
   {
    "duration": 12,
    "start_time": "2024-08-27T18:31:56.031Z"
   },
   {
    "duration": 11,
    "start_time": "2024-08-27T18:31:56.787Z"
   },
   {
    "duration": 3,
    "start_time": "2024-08-27T18:31:57.581Z"
   },
   {
    "duration": 15,
    "start_time": "2024-08-27T18:31:58.600Z"
   },
   {
    "duration": 14,
    "start_time": "2024-08-27T18:32:00.805Z"
   },
   {
    "duration": 17,
    "start_time": "2024-08-27T18:32:01.461Z"
   },
   {
    "duration": 17,
    "start_time": "2024-08-27T18:32:02.079Z"
   },
   {
    "duration": 17,
    "start_time": "2024-08-27T18:32:04.042Z"
   },
   {
    "duration": 45,
    "start_time": "2024-08-27T18:32:04.709Z"
   },
   {
    "duration": 24,
    "start_time": "2024-08-27T18:32:05.561Z"
   },
   {
    "duration": 11,
    "start_time": "2024-08-27T18:32:06.342Z"
   },
   {
    "duration": 649,
    "start_time": "2024-08-27T18:32:07.054Z"
   },
   {
    "duration": 6,
    "start_time": "2024-08-27T18:32:09.868Z"
   },
   {
    "duration": 5,
    "start_time": "2024-08-27T18:32:11.353Z"
   },
   {
    "duration": 7,
    "start_time": "2024-08-27T18:32:12.896Z"
   },
   {
    "duration": 7,
    "start_time": "2024-08-27T18:32:14.876Z"
   },
   {
    "duration": 22002,
    "start_time": "2024-08-27T18:32:17.033Z"
   },
   {
    "duration": 207,
    "start_time": "2024-08-27T18:32:39.042Z"
   },
   {
    "duration": 147,
    "start_time": "2024-08-27T18:32:39.251Z"
   },
   {
    "duration": 242,
    "start_time": "2024-08-27T18:32:39.401Z"
   },
   {
    "duration": 12,
    "start_time": "2024-08-27T18:32:39.645Z"
   },
   {
    "duration": 12,
    "start_time": "2024-08-27T18:32:39.659Z"
   },
   {
    "duration": 159,
    "start_time": "2024-08-27T18:32:39.672Z"
   },
   {
    "duration": 140,
    "start_time": "2024-08-27T18:32:39.842Z"
   },
   {
    "duration": 50,
    "start_time": "2024-08-27T18:33:12.889Z"
   },
   {
    "duration": 140,
    "start_time": "2024-08-27T18:33:14.083Z"
   },
   {
    "duration": 1126,
    "start_time": "2024-08-27T18:33:16.267Z"
   },
   {
    "duration": 54,
    "start_time": "2024-08-27T18:33:17.395Z"
   },
   {
    "duration": 6,
    "start_time": "2024-08-27T18:33:18.048Z"
   },
   {
    "duration": 283,
    "start_time": "2024-08-27T18:33:21.627Z"
   },
   {
    "duration": 120,
    "start_time": "2024-08-27T18:33:25.586Z"
   },
   {
    "duration": 64,
    "start_time": "2024-08-27T18:33:26.171Z"
   },
   {
    "duration": 7,
    "start_time": "2024-08-27T18:33:26.399Z"
   },
   {
    "duration": 12,
    "start_time": "2024-08-27T18:33:26.945Z"
   },
   {
    "duration": 22,
    "start_time": "2024-08-27T18:33:28.896Z"
   },
   {
    "duration": 14,
    "start_time": "2024-08-27T18:33:29.356Z"
   },
   {
    "duration": 7,
    "start_time": "2024-08-27T18:33:29.973Z"
   },
   {
    "duration": 157,
    "start_time": "2024-08-28T04:28:29.405Z"
   },
   {
    "duration": 321,
    "start_time": "2024-08-28T16:35:25.154Z"
   },
   {
    "duration": 274,
    "start_time": "2024-08-28T16:35:25.973Z"
   },
   {
    "duration": 10,
    "start_time": "2024-08-28T16:35:27.542Z"
   },
   {
    "duration": 91,
    "start_time": "2024-08-28T16:35:27.899Z"
   },
   {
    "duration": 18,
    "start_time": "2024-08-28T16:35:28.370Z"
   },
   {
    "duration": 18,
    "start_time": "2024-08-28T16:35:28.809Z"
   },
   {
    "duration": 1326,
    "start_time": "2024-08-28T16:35:29.243Z"
   },
   {
    "duration": 80,
    "start_time": "2024-08-28T16:35:34.043Z"
   },
   {
    "duration": 7,
    "start_time": "2024-08-28T16:35:35.579Z"
   },
   {
    "duration": 85,
    "start_time": "2024-08-28T16:35:36.135Z"
   },
   {
    "duration": 94,
    "start_time": "2024-08-28T16:36:16.299Z"
   },
   {
    "duration": 85,
    "start_time": "2024-08-28T16:36:29.025Z"
   },
   {
    "duration": 84,
    "start_time": "2024-08-28T16:36:55.139Z"
   },
   {
    "duration": 50,
    "start_time": "2024-08-28T16:36:57.253Z"
   },
   {
    "duration": 378,
    "start_time": "2024-08-28T16:38:00.954Z"
   },
   {
    "duration": 13,
    "start_time": "2024-08-28T16:38:17.957Z"
   },
   {
    "duration": 6,
    "start_time": "2024-08-28T16:38:19.298Z"
   },
   {
    "duration": 26,
    "start_time": "2024-08-28T16:38:20.900Z"
   },
   {
    "duration": 13,
    "start_time": "2024-08-28T16:38:23.646Z"
   },
   {
    "duration": 13,
    "start_time": "2024-08-28T16:39:34.362Z"
   },
   {
    "duration": 4,
    "start_time": "2024-08-28T16:39:45.966Z"
   },
   {
    "duration": 4,
    "start_time": "2024-08-28T16:41:34.773Z"
   },
   {
    "duration": 5,
    "start_time": "2024-08-28T16:42:12.223Z"
   },
   {
    "duration": 20,
    "start_time": "2024-08-28T16:43:00.327Z"
   },
   {
    "duration": 1243,
    "start_time": "2024-08-28T16:43:13.671Z"
   },
   {
    "duration": 17,
    "start_time": "2024-08-28T16:43:18.009Z"
   },
   {
    "duration": 21,
    "start_time": "2024-08-28T16:43:20.644Z"
   },
   {
    "duration": 5,
    "start_time": "2024-08-28T16:43:45.367Z"
   },
   {
    "duration": 739,
    "start_time": "2024-08-28T16:45:09.198Z"
   },
   {
    "duration": 7,
    "start_time": "2024-08-28T16:47:02.556Z"
   },
   {
    "duration": 10,
    "start_time": "2024-08-28T16:47:33.159Z"
   },
   {
    "duration": 7,
    "start_time": "2024-08-28T16:49:38.150Z"
   },
   {
    "duration": 14,
    "start_time": "2024-08-28T16:53:19.468Z"
   },
   {
    "duration": 210,
    "start_time": "2024-08-28T16:55:45.392Z"
   },
   {
    "duration": 3,
    "start_time": "2024-08-28T16:56:47.937Z"
   },
   {
    "duration": 3,
    "start_time": "2024-08-28T16:57:21.304Z"
   },
   {
    "duration": 6,
    "start_time": "2024-08-28T16:57:46.817Z"
   },
   {
    "duration": 13,
    "start_time": "2024-08-28T16:59:45.209Z"
   },
   {
    "duration": 202,
    "start_time": "2024-08-28T17:50:41.186Z"
   },
   {
    "duration": 56,
    "start_time": "2024-08-28T17:51:36.087Z"
   },
   {
    "duration": 21,
    "start_time": "2024-08-28T17:51:54.010Z"
   },
   {
    "duration": 20,
    "start_time": "2024-08-28T17:52:09.157Z"
   },
   {
    "duration": 1207,
    "start_time": "2024-08-28T17:52:20.344Z"
   },
   {
    "duration": 76,
    "start_time": "2024-08-28T17:56:21.463Z"
   },
   {
    "duration": 75,
    "start_time": "2024-08-28T17:56:30.436Z"
   },
   {
    "duration": 37,
    "start_time": "2024-08-28T17:56:32.898Z"
   },
   {
    "duration": 330,
    "start_time": "2024-08-29T18:04:26.413Z"
   },
   {
    "duration": 254,
    "start_time": "2024-08-29T18:04:28.205Z"
   },
   {
    "duration": 3,
    "start_time": "2024-08-29T18:07:31.093Z"
   },
   {
    "duration": 197,
    "start_time": "2024-08-29T18:07:32.070Z"
   },
   {
    "duration": 82,
    "start_time": "2024-08-29T18:07:37.170Z"
   },
   {
    "duration": 23,
    "start_time": "2024-08-29T18:07:41.819Z"
   },
   {
    "duration": 22,
    "start_time": "2024-08-29T18:07:45.990Z"
   },
   {
    "duration": 1302,
    "start_time": "2024-08-29T18:07:50.909Z"
   },
   {
    "duration": 72,
    "start_time": "2024-08-29T18:07:58.785Z"
   },
   {
    "duration": 12,
    "start_time": "2024-08-29T18:08:05.026Z"
   },
   {
    "duration": 71,
    "start_time": "2024-08-29T18:08:15.535Z"
   },
   {
    "duration": 81,
    "start_time": "2024-08-29T18:08:17.715Z"
   },
   {
    "duration": 44,
    "start_time": "2024-08-29T18:08:19.580Z"
   },
   {
    "duration": 13,
    "start_time": "2024-08-29T18:08:21.805Z"
   },
   {
    "duration": 6,
    "start_time": "2024-08-29T18:08:24.071Z"
   },
   {
    "duration": 28,
    "start_time": "2024-08-29T18:08:26.721Z"
   },
   {
    "duration": 11,
    "start_time": "2024-08-29T18:08:30.448Z"
   },
   {
    "duration": 6,
    "start_time": "2024-08-29T18:08:46.008Z"
   },
   {
    "duration": 5,
    "start_time": "2024-08-29T18:08:48.683Z"
   },
   {
    "duration": 5,
    "start_time": "2024-08-29T18:08:51.649Z"
   },
   {
    "duration": 4,
    "start_time": "2024-08-29T18:09:04.782Z"
   },
   {
    "duration": 4,
    "start_time": "2024-08-29T18:09:06.899Z"
   },
   {
    "duration": 4,
    "start_time": "2024-08-29T18:09:24.533Z"
   },
   {
    "duration": 736,
    "start_time": "2024-08-29T18:09:57.650Z"
   },
   {
    "duration": 647,
    "start_time": "2024-08-29T18:09:59.941Z"
   },
   {
    "duration": 7,
    "start_time": "2024-08-29T18:12:49.150Z"
   },
   {
    "duration": 10,
    "start_time": "2024-08-29T18:12:50.278Z"
   },
   {
    "duration": 7,
    "start_time": "2024-08-29T18:12:51.853Z"
   },
   {
    "duration": 9,
    "start_time": "2024-08-29T18:13:01.724Z"
   },
   {
    "duration": 15,
    "start_time": "2024-08-29T18:13:14.695Z"
   },
   {
    "duration": 6,
    "start_time": "2024-08-29T18:13:17.524Z"
   },
   {
    "duration": 10,
    "start_time": "2024-08-29T18:14:03.116Z"
   },
   {
    "duration": 6,
    "start_time": "2024-08-29T18:14:06.287Z"
   },
   {
    "duration": 13,
    "start_time": "2024-08-29T18:14:27.417Z"
   },
   {
    "duration": 11,
    "start_time": "2024-08-29T18:14:45.940Z"
   },
   {
    "duration": 13,
    "start_time": "2024-08-29T18:15:34.995Z"
   },
   {
    "duration": 18,
    "start_time": "2024-08-29T18:15:51.154Z"
   },
   {
    "duration": 15,
    "start_time": "2024-08-29T18:15:52.764Z"
   },
   {
    "duration": 44,
    "start_time": "2024-08-29T18:15:55.008Z"
   },
   {
    "duration": 43,
    "start_time": "2024-08-29T18:15:56.120Z"
   },
   {
    "duration": 32,
    "start_time": "2024-08-29T18:16:23.104Z"
   },
   {
    "duration": 29,
    "start_time": "2024-08-29T18:16:37.480Z"
   },
   {
    "duration": 10,
    "start_time": "2024-08-29T18:16:40.261Z"
   },
   {
    "duration": 595,
    "start_time": "2024-08-29T18:16:42.847Z"
   },
   {
    "duration": 7,
    "start_time": "2024-08-29T18:20:17.106Z"
   },
   {
    "duration": 5,
    "start_time": "2024-08-29T18:23:21.142Z"
   },
   {
    "duration": 4,
    "start_time": "2024-08-29T18:23:23.647Z"
   },
   {
    "duration": 5,
    "start_time": "2024-08-29T18:24:01.978Z"
   },
   {
    "duration": 7,
    "start_time": "2024-08-29T18:29:14.408Z"
   },
   {
    "duration": 2068,
    "start_time": "2024-08-29T18:29:17.384Z"
   },
   {
    "duration": 19925,
    "start_time": "2024-08-29T18:31:54.666Z"
   },
   {
    "duration": 20065,
    "start_time": "2024-08-29T18:32:52.853Z"
   },
   {
    "duration": 151,
    "start_time": "2024-08-29T18:33:45.845Z"
   },
   {
    "duration": 2,
    "start_time": "2024-08-29T18:34:48.736Z"
   },
   {
    "duration": 6,
    "start_time": "2024-08-29T18:34:49.727Z"
   },
   {
    "duration": 194,
    "start_time": "2024-08-29T18:34:54.976Z"
   },
   {
    "duration": 6,
    "start_time": "2024-08-29T18:35:02.179Z"
   },
   {
    "duration": 131,
    "start_time": "2024-08-29T18:35:07.343Z"
   },
   {
    "duration": 19992,
    "start_time": "2024-08-29T18:35:11.360Z"
   },
   {
    "duration": 147,
    "start_time": "2024-08-29T18:36:05.488Z"
   },
   {
    "duration": 9,
    "start_time": "2024-08-29T18:36:24.565Z"
   },
   {
    "duration": 9,
    "start_time": "2024-08-29T18:36:29.871Z"
   },
   {
    "duration": 125,
    "start_time": "2024-08-29T18:36:32.107Z"
   },
   {
    "duration": 136,
    "start_time": "2024-08-29T18:36:34.609Z"
   },
   {
    "duration": 42,
    "start_time": "2024-08-29T18:36:58.475Z"
   },
   {
    "duration": 126,
    "start_time": "2024-08-29T18:37:05.114Z"
   },
   {
    "duration": 1040,
    "start_time": "2024-08-29T18:37:15.827Z"
   },
   {
    "duration": 179,
    "start_time": "2024-08-29T18:37:27.300Z"
   },
   {
    "duration": 46,
    "start_time": "2024-08-29T18:37:32.000Z"
   },
   {
    "duration": 4,
    "start_time": "2024-08-29T18:37:33.552Z"
   },
   {
    "duration": 263,
    "start_time": "2024-08-29T18:39:55.139Z"
   },
   {
    "duration": 103,
    "start_time": "2024-08-29T18:40:07.556Z"
   },
   {
    "duration": 50,
    "start_time": "2024-08-29T18:40:08.461Z"
   },
   {
    "duration": 5,
    "start_time": "2024-08-29T18:40:09.283Z"
   },
   {
    "duration": 10,
    "start_time": "2024-08-29T18:40:10.558Z"
   },
   {
    "duration": 21,
    "start_time": "2024-08-29T18:40:14.467Z"
   },
   {
    "duration": 8,
    "start_time": "2024-08-29T18:40:15.894Z"
   },
   {
    "duration": 6,
    "start_time": "2024-08-29T18:40:16.957Z"
   },
   {
    "duration": 2,
    "start_time": "2024-08-29T18:48:30.250Z"
   },
   {
    "duration": 6,
    "start_time": "2024-08-29T18:48:31.141Z"
   },
   {
    "duration": 185,
    "start_time": "2024-08-29T18:48:33.804Z"
   },
   {
    "duration": 283,
    "start_time": "2024-08-30T05:47:56.475Z"
   },
   {
    "duration": 290,
    "start_time": "2024-08-30T05:47:57.155Z"
   },
   {
    "duration": 11,
    "start_time": "2024-08-30T05:47:58.494Z"
   },
   {
    "duration": 87,
    "start_time": "2024-08-30T05:47:59.031Z"
   },
   {
    "duration": 25,
    "start_time": "2024-08-30T05:47:59.766Z"
   },
   {
    "duration": 32,
    "start_time": "2024-08-30T05:48:07.164Z"
   },
   {
    "duration": 1281,
    "start_time": "2024-08-30T05:48:07.975Z"
   },
   {
    "duration": 80,
    "start_time": "2024-08-30T05:48:11.722Z"
   },
   {
    "duration": 7,
    "start_time": "2024-08-30T05:48:12.391Z"
   },
   {
    "duration": 97,
    "start_time": "2024-08-30T05:48:14.321Z"
   },
   {
    "duration": 96,
    "start_time": "2024-08-30T05:48:15.274Z"
   },
   {
    "duration": 44,
    "start_time": "2024-08-30T05:48:15.641Z"
   },
   {
    "duration": 12,
    "start_time": "2024-08-30T05:48:26.485Z"
   },
   {
    "duration": 6,
    "start_time": "2024-08-30T05:48:26.688Z"
   },
   {
    "duration": 27,
    "start_time": "2024-08-30T05:48:26.909Z"
   },
   {
    "duration": 12,
    "start_time": "2024-08-30T05:48:27.221Z"
   },
   {
    "duration": 5,
    "start_time": "2024-08-30T05:48:28.023Z"
   },
   {
    "duration": 4,
    "start_time": "2024-08-30T05:48:28.210Z"
   },
   {
    "duration": 5,
    "start_time": "2024-08-30T05:48:28.773Z"
   },
   {
    "duration": 5,
    "start_time": "2024-08-30T05:48:28.954Z"
   },
   {
    "duration": 755,
    "start_time": "2024-08-30T05:48:29.543Z"
   },
   {
    "duration": 657,
    "start_time": "2024-08-30T05:48:30.301Z"
   },
   {
    "duration": 9,
    "start_time": "2024-08-30T05:48:30.960Z"
   },
   {
    "duration": 9,
    "start_time": "2024-08-30T05:48:30.970Z"
   },
   {
    "duration": 29,
    "start_time": "2024-08-30T05:48:30.981Z"
   },
   {
    "duration": 10,
    "start_time": "2024-08-30T05:48:31.260Z"
   },
   {
    "duration": 6,
    "start_time": "2024-08-30T05:48:31.565Z"
   },
   {
    "duration": 15,
    "start_time": "2024-08-30T05:48:31.959Z"
   },
   {
    "duration": 11,
    "start_time": "2024-08-30T05:48:32.472Z"
   },
   {
    "duration": 14,
    "start_time": "2024-08-30T05:48:32.669Z"
   },
   {
    "duration": 18,
    "start_time": "2024-08-30T05:48:33.030Z"
   },
   {
    "duration": 16,
    "start_time": "2024-08-30T05:48:33.547Z"
   },
   {
    "duration": 31,
    "start_time": "2024-08-30T05:48:33.744Z"
   },
   {
    "duration": 27,
    "start_time": "2024-08-30T05:48:34.139Z"
   },
   {
    "duration": 9,
    "start_time": "2024-08-30T05:48:34.348Z"
   },
   {
    "duration": 605,
    "start_time": "2024-08-30T05:48:34.549Z"
   },
   {
    "duration": 5,
    "start_time": "2024-08-30T05:48:35.707Z"
   },
   {
    "duration": 4,
    "start_time": "2024-08-30T05:48:35.978Z"
   },
   {
    "duration": 1862,
    "start_time": "2024-08-30T05:48:36.512Z"
   },
   {
    "duration": 7,
    "start_time": "2024-08-30T05:48:38.376Z"
   },
   {
    "duration": 214,
    "start_time": "2024-08-30T05:48:38.385Z"
   },
   {
    "duration": 10,
    "start_time": "2024-08-30T05:48:38.601Z"
   },
   {
    "duration": 169,
    "start_time": "2024-08-30T05:48:38.614Z"
   },
   {
    "duration": 20276,
    "start_time": "2024-08-30T05:48:39.213Z"
   },
   {
    "duration": 159,
    "start_time": "2024-08-30T05:48:59.491Z"
   },
   {
    "duration": 9,
    "start_time": "2024-08-30T05:48:59.651Z"
   },
   {
    "duration": 8,
    "start_time": "2024-08-30T05:48:59.662Z"
   },
   {
    "duration": 160,
    "start_time": "2024-08-30T05:48:59.672Z"
   },
   {
    "duration": 132,
    "start_time": "2024-08-30T05:48:59.834Z"
   },
   {
    "duration": 49,
    "start_time": "2024-08-30T05:48:59.968Z"
   },
   {
    "duration": 119,
    "start_time": "2024-08-30T05:49:00.019Z"
   },
   {
    "duration": 1087,
    "start_time": "2024-08-30T05:49:00.141Z"
   },
   {
    "duration": 49,
    "start_time": "2024-08-30T05:49:01.232Z"
   },
   {
    "duration": 4,
    "start_time": "2024-08-30T05:49:01.283Z"
   },
   {
    "duration": 278,
    "start_time": "2024-08-30T05:49:01.289Z"
   },
   {
    "duration": 106,
    "start_time": "2024-08-30T05:49:01.569Z"
   },
   {
    "duration": 63,
    "start_time": "2024-08-30T05:49:01.677Z"
   },
   {
    "duration": 5,
    "start_time": "2024-08-30T05:49:01.742Z"
   },
   {
    "duration": 9,
    "start_time": "2024-08-30T05:49:01.748Z"
   },
   {
    "duration": 23,
    "start_time": "2024-08-30T05:49:01.759Z"
   },
   {
    "duration": 28,
    "start_time": "2024-08-30T05:49:01.784Z"
   },
   {
    "duration": 5,
    "start_time": "2024-08-30T05:49:01.813Z"
   },
   {
    "duration": 326,
    "start_time": "2024-08-30T15:48:39.702Z"
   },
   {
    "duration": 262,
    "start_time": "2024-08-30T15:48:40.030Z"
   },
   {
    "duration": 10,
    "start_time": "2024-08-30T15:48:40.295Z"
   },
   {
    "duration": 93,
    "start_time": "2024-08-30T15:48:40.370Z"
   },
   {
    "duration": 21,
    "start_time": "2024-08-30T15:48:40.558Z"
   },
   {
    "duration": 19,
    "start_time": "2024-08-30T15:48:40.727Z"
   },
   {
    "duration": 1319,
    "start_time": "2024-08-30T15:48:40.915Z"
   },
   {
    "duration": 86,
    "start_time": "2024-08-30T15:48:42.237Z"
   },
   {
    "duration": 8,
    "start_time": "2024-08-30T15:48:42.324Z"
   },
   {
    "duration": 81,
    "start_time": "2024-08-30T15:48:42.385Z"
   },
   {
    "duration": 81,
    "start_time": "2024-08-30T15:48:42.799Z"
   },
   {
    "duration": 41,
    "start_time": "2024-08-30T15:48:42.995Z"
   },
   {
    "duration": 17,
    "start_time": "2024-08-30T15:48:43.583Z"
   },
   {
    "duration": 6,
    "start_time": "2024-08-30T15:48:43.792Z"
   },
   {
    "duration": 27,
    "start_time": "2024-08-30T15:48:44.002Z"
   },
   {
    "duration": 10,
    "start_time": "2024-08-30T15:48:44.210Z"
   },
   {
    "duration": 4,
    "start_time": "2024-08-30T15:48:44.831Z"
   },
   {
    "duration": 4,
    "start_time": "2024-08-30T15:48:45.024Z"
   },
   {
    "duration": 5,
    "start_time": "2024-08-30T15:48:45.614Z"
   },
   {
    "duration": 4,
    "start_time": "2024-08-30T15:48:45.814Z"
   },
   {
    "duration": 748,
    "start_time": "2024-08-30T15:48:46.392Z"
   },
   {
    "duration": 637,
    "start_time": "2024-08-30T15:48:47.143Z"
   },
   {
    "duration": 7,
    "start_time": "2024-08-30T15:48:47.786Z"
   },
   {
    "duration": 10,
    "start_time": "2024-08-30T15:48:47.794Z"
   },
   {
    "duration": 6,
    "start_time": "2024-08-30T15:48:47.805Z"
   },
   {
    "duration": 10,
    "start_time": "2024-08-30T15:48:48.258Z"
   },
   {
    "duration": 6,
    "start_time": "2024-08-30T15:48:48.673Z"
   },
   {
    "duration": 15,
    "start_time": "2024-08-30T15:48:49.069Z"
   },
   {
    "duration": 13,
    "start_time": "2024-08-30T15:48:49.798Z"
   },
   {
    "duration": 18,
    "start_time": "2024-08-30T15:48:49.981Z"
   },
   {
    "duration": 21,
    "start_time": "2024-08-30T15:48:50.436Z"
   },
   {
    "duration": 27,
    "start_time": "2024-08-30T15:49:18.392Z"
   },
   {
    "duration": 47,
    "start_time": "2024-08-30T15:49:19.504Z"
   },
   {
    "duration": 25,
    "start_time": "2024-08-30T15:49:21.512Z"
   },
   {
    "duration": 14,
    "start_time": "2024-08-30T15:49:22.229Z"
   },
   {
    "duration": 672,
    "start_time": "2024-08-30T15:49:23.171Z"
   },
   {
    "duration": 6,
    "start_time": "2024-08-30T15:49:27.176Z"
   },
   {
    "duration": 6,
    "start_time": "2024-08-30T15:49:27.394Z"
   },
   {
    "duration": 2003,
    "start_time": "2024-08-30T15:49:29.206Z"
   },
   {
    "duration": 290,
    "start_time": "2024-08-30T17:06:35.567Z"
   },
   {
    "duration": 267,
    "start_time": "2024-08-30T17:06:35.859Z"
   },
   {
    "duration": 10,
    "start_time": "2024-08-30T17:06:36.128Z"
   },
   {
    "duration": 86,
    "start_time": "2024-08-30T17:06:36.149Z"
   },
   {
    "duration": 24,
    "start_time": "2024-08-30T17:06:36.323Z"
   },
   {
    "duration": 23,
    "start_time": "2024-08-30T17:06:36.466Z"
   },
   {
    "duration": 1333,
    "start_time": "2024-08-30T17:06:36.630Z"
   },
   {
    "duration": 80,
    "start_time": "2024-08-30T17:06:37.965Z"
   },
   {
    "duration": 7,
    "start_time": "2024-08-30T17:06:38.047Z"
   },
   {
    "duration": 101,
    "start_time": "2024-08-30T17:06:38.057Z"
   },
   {
    "duration": 83,
    "start_time": "2024-08-30T17:06:38.254Z"
   },
   {
    "duration": 42,
    "start_time": "2024-08-30T17:06:38.425Z"
   },
   {
    "duration": 14,
    "start_time": "2024-08-30T17:06:38.916Z"
   },
   {
    "duration": 6,
    "start_time": "2024-08-30T17:06:39.105Z"
   },
   {
    "duration": 27,
    "start_time": "2024-08-30T17:06:39.285Z"
   },
   {
    "duration": 12,
    "start_time": "2024-08-30T17:06:39.446Z"
   },
   {
    "duration": 5,
    "start_time": "2024-08-30T17:06:39.944Z"
   },
   {
    "duration": 8,
    "start_time": "2024-08-30T17:06:40.164Z"
   },
   {
    "duration": 4,
    "start_time": "2024-08-30T17:06:40.756Z"
   },
   {
    "duration": 5,
    "start_time": "2024-08-30T17:06:40.908Z"
   },
   {
    "duration": 745,
    "start_time": "2024-08-30T17:06:41.451Z"
   },
   {
    "duration": 674,
    "start_time": "2024-08-30T17:06:42.198Z"
   },
   {
    "duration": 7,
    "start_time": "2024-08-30T17:06:42.874Z"
   },
   {
    "duration": 10,
    "start_time": "2024-08-30T17:06:42.882Z"
   },
   {
    "duration": 7,
    "start_time": "2024-08-30T17:06:42.910Z"
   },
   {
    "duration": 10,
    "start_time": "2024-08-30T17:06:43.010Z"
   },
   {
    "duration": 6,
    "start_time": "2024-08-30T17:06:43.360Z"
   },
   {
    "duration": 14,
    "start_time": "2024-08-30T17:06:43.678Z"
   },
   {
    "duration": 15,
    "start_time": "2024-08-30T17:06:44.235Z"
   },
   {
    "duration": 24,
    "start_time": "2024-08-30T17:06:44.397Z"
   },
   {
    "duration": 27,
    "start_time": "2024-08-30T17:06:44.771Z"
   },
   {
    "duration": 15,
    "start_time": "2024-08-30T17:06:45.317Z"
   },
   {
    "duration": 30,
    "start_time": "2024-08-30T17:06:45.480Z"
   },
   {
    "duration": 25,
    "start_time": "2024-08-30T17:06:45.871Z"
   },
   {
    "duration": 10,
    "start_time": "2024-08-30T17:06:46.040Z"
   },
   {
    "duration": 585,
    "start_time": "2024-08-30T17:06:46.241Z"
   },
   {
    "duration": 4,
    "start_time": "2024-08-30T17:06:47.261Z"
   },
   {
    "duration": 4,
    "start_time": "2024-08-30T17:06:47.473Z"
   },
   {
    "duration": 1851,
    "start_time": "2024-08-30T17:06:49.072Z"
   },
   {
    "duration": 7,
    "start_time": "2024-08-30T17:06:50.925Z"
   },
   {
    "duration": 215,
    "start_time": "2024-08-30T17:06:50.934Z"
   },
   {
    "duration": 7,
    "start_time": "2024-08-30T17:06:51.151Z"
   },
   {
    "duration": 145,
    "start_time": "2024-08-30T17:06:51.159Z"
   },
   {
    "duration": 20472,
    "start_time": "2024-08-30T17:06:51.305Z"
   },
   {
    "duration": 157,
    "start_time": "2024-08-30T17:07:11.779Z"
   },
   {
    "duration": 8,
    "start_time": "2024-08-30T17:07:11.939Z"
   },
   {
    "duration": 8,
    "start_time": "2024-08-30T17:07:11.949Z"
   },
   {
    "duration": 152,
    "start_time": "2024-08-30T17:07:11.958Z"
   },
   {
    "duration": 138,
    "start_time": "2024-08-30T17:07:12.112Z"
   },
   {
    "duration": 42,
    "start_time": "2024-08-30T17:07:12.252Z"
   },
   {
    "duration": 126,
    "start_time": "2024-08-30T17:07:12.296Z"
   },
   {
    "duration": 1060,
    "start_time": "2024-08-30T17:07:12.424Z"
   },
   {
    "duration": 56,
    "start_time": "2024-08-30T17:07:13.488Z"
   },
   {
    "duration": 4,
    "start_time": "2024-08-30T17:07:13.546Z"
   },
   {
    "duration": 271,
    "start_time": "2024-08-30T17:07:13.551Z"
   },
   {
    "duration": 109,
    "start_time": "2024-08-30T17:07:13.824Z"
   },
   {
    "duration": 56,
    "start_time": "2024-08-30T17:07:13.935Z"
   },
   {
    "duration": 16,
    "start_time": "2024-08-30T17:07:13.993Z"
   },
   {
    "duration": 12,
    "start_time": "2024-08-30T17:07:14.011Z"
   },
   {
    "duration": 24,
    "start_time": "2024-08-30T17:07:14.025Z"
   },
   {
    "duration": 8,
    "start_time": "2024-08-30T17:07:14.051Z"
   },
   {
    "duration": 7,
    "start_time": "2024-08-30T17:07:14.061Z"
   },
   {
    "duration": 3,
    "start_time": "2024-08-30T17:29:31.069Z"
   },
   {
    "duration": 199,
    "start_time": "2024-08-30T17:29:31.356Z"
   },
   {
    "duration": 12,
    "start_time": "2024-08-30T17:29:32.738Z"
   },
   {
    "duration": 59,
    "start_time": "2024-08-30T17:29:33.261Z"
   },
   {
    "duration": 23,
    "start_time": "2024-08-30T17:29:33.591Z"
   },
   {
    "duration": 22,
    "start_time": "2024-08-30T17:29:33.964Z"
   },
   {
    "duration": 1202,
    "start_time": "2024-08-30T17:29:34.378Z"
   },
   {
    "duration": 75,
    "start_time": "2024-08-30T17:29:44.415Z"
   },
   {
    "duration": 6,
    "start_time": "2024-08-30T17:29:44.975Z"
   },
   {
    "duration": 70,
    "start_time": "2024-08-30T17:29:58.068Z"
   },
   {
    "duration": 6,
    "start_time": "2024-08-30T17:29:59.608Z"
   },
   {
    "duration": 74,
    "start_time": "2024-08-30T17:30:20.690Z"
   },
   {
    "duration": 76,
    "start_time": "2024-08-30T17:30:22.112Z"
   },
   {
    "duration": 39,
    "start_time": "2024-08-30T17:30:23.066Z"
   },
   {
    "duration": 15,
    "start_time": "2024-08-30T17:30:25.198Z"
   },
   {
    "duration": 6,
    "start_time": "2024-08-30T17:30:25.845Z"
   },
   {
    "duration": 26,
    "start_time": "2024-08-30T17:30:26.745Z"
   },
   {
    "duration": 12,
    "start_time": "2024-08-30T17:30:32.467Z"
   },
   {
    "duration": 4,
    "start_time": "2024-08-30T17:30:57.705Z"
   },
   {
    "duration": 4,
    "start_time": "2024-08-30T17:30:58.294Z"
   },
   {
    "duration": 4,
    "start_time": "2024-08-30T17:31:03.473Z"
   },
   {
    "duration": 4,
    "start_time": "2024-08-30T17:31:04.026Z"
   },
   {
    "duration": 734,
    "start_time": "2024-08-30T17:31:06.339Z"
   },
   {
    "duration": 723,
    "start_time": "2024-08-30T17:31:07.075Z"
   },
   {
    "duration": 7,
    "start_time": "2024-08-30T17:31:20.176Z"
   },
   {
    "duration": 10,
    "start_time": "2024-08-30T17:31:22.261Z"
   },
   {
    "duration": 7,
    "start_time": "2024-08-30T17:31:23.503Z"
   },
   {
    "duration": 12,
    "start_time": "2024-08-30T17:31:25.545Z"
   },
   {
    "duration": 6,
    "start_time": "2024-08-30T17:31:27.785Z"
   },
   {
    "duration": 16,
    "start_time": "2024-08-30T17:31:28.689Z"
   },
   {
    "duration": 14,
    "start_time": "2024-08-30T17:31:30.772Z"
   },
   {
    "duration": 13,
    "start_time": "2024-08-30T17:31:31.423Z"
   },
   {
    "duration": 21,
    "start_time": "2024-08-30T17:31:32.846Z"
   },
   {
    "duration": 16,
    "start_time": "2024-08-30T17:31:36.872Z"
   },
   {
    "duration": 31,
    "start_time": "2024-08-30T17:31:37.694Z"
   },
   {
    "duration": 25,
    "start_time": "2024-08-30T17:31:41.577Z"
   },
   {
    "duration": 10,
    "start_time": "2024-08-30T17:31:42.196Z"
   },
   {
    "duration": 603,
    "start_time": "2024-08-30T17:31:43.785Z"
   },
   {
    "duration": 118,
    "start_time": "2024-08-30T18:21:02.004Z"
   },
   {
    "duration": 348,
    "start_time": "2024-08-31T04:34:29.450Z"
   },
   {
    "duration": 260,
    "start_time": "2024-08-31T04:34:29.801Z"
   },
   {
    "duration": 11,
    "start_time": "2024-08-31T04:34:30.064Z"
   },
   {
    "duration": 84,
    "start_time": "2024-08-31T04:34:30.077Z"
   },
   {
    "duration": 23,
    "start_time": "2024-08-31T04:34:30.163Z"
   },
   {
    "duration": 22,
    "start_time": "2024-08-31T04:34:30.188Z"
   },
   {
    "duration": 1453,
    "start_time": "2024-08-31T04:34:30.212Z"
   },
   {
    "duration": 97,
    "start_time": "2024-08-31T04:34:31.667Z"
   },
   {
    "duration": 6,
    "start_time": "2024-08-31T04:34:31.766Z"
   },
   {
    "duration": 104,
    "start_time": "2024-08-31T04:34:31.776Z"
   },
   {
    "duration": 100,
    "start_time": "2024-08-31T04:34:31.881Z"
   },
   {
    "duration": 49,
    "start_time": "2024-08-31T04:34:31.982Z"
   },
   {
    "duration": 14,
    "start_time": "2024-08-31T04:34:32.043Z"
   },
   {
    "duration": 6,
    "start_time": "2024-08-31T04:34:32.060Z"
   },
   {
    "duration": 34,
    "start_time": "2024-08-31T04:34:32.069Z"
   },
   {
    "duration": 37,
    "start_time": "2024-08-31T04:34:32.105Z"
   },
   {
    "duration": 5,
    "start_time": "2024-08-31T04:34:32.145Z"
   },
   {
    "duration": 5,
    "start_time": "2024-08-31T04:34:32.152Z"
   },
   {
    "duration": 5,
    "start_time": "2024-08-31T04:34:32.159Z"
   },
   {
    "duration": 5,
    "start_time": "2024-08-31T04:34:32.166Z"
   },
   {
    "duration": 1095,
    "start_time": "2024-08-31T04:34:32.173Z"
   },
   {
    "duration": 1011,
    "start_time": "2024-08-31T04:34:33.270Z"
   },
   {
    "duration": 8,
    "start_time": "2024-08-31T04:34:34.283Z"
   },
   {
    "duration": 9,
    "start_time": "2024-08-31T04:34:34.292Z"
   },
   {
    "duration": 6,
    "start_time": "2024-08-31T04:34:34.302Z"
   },
   {
    "duration": 34,
    "start_time": "2024-08-31T04:34:34.310Z"
   },
   {
    "duration": 5,
    "start_time": "2024-08-31T04:35:07.443Z"
   },
   {
    "duration": 3,
    "start_time": "2024-08-31T04:35:12.851Z"
   },
   {
    "duration": 3,
    "start_time": "2024-08-31T04:36:39.597Z"
   },
   {
    "duration": 8,
    "start_time": "2024-08-31T04:36:51.187Z"
   },
   {
    "duration": 275,
    "start_time": "2024-08-31T16:14:44.029Z"
   },
   {
    "duration": 264,
    "start_time": "2024-08-31T16:14:44.632Z"
   },
   {
    "duration": 12,
    "start_time": "2024-08-31T16:14:46.350Z"
   },
   {
    "duration": 83,
    "start_time": "2024-08-31T16:14:47.132Z"
   },
   {
    "duration": 24,
    "start_time": "2024-08-31T16:14:48.774Z"
   },
   {
    "duration": 22,
    "start_time": "2024-08-31T16:14:50.055Z"
   },
   {
    "duration": 1366,
    "start_time": "2024-08-31T16:14:59.054Z"
   },
   {
    "duration": 80,
    "start_time": "2024-08-31T16:15:02.556Z"
   },
   {
    "duration": 6,
    "start_time": "2024-08-31T16:15:10.223Z"
   },
   {
    "duration": 7,
    "start_time": "2024-08-31T16:15:34.167Z"
   },
   {
    "duration": 7,
    "start_time": "2024-08-31T16:16:08.167Z"
   },
   {
    "duration": 75,
    "start_time": "2024-08-31T16:17:55.754Z"
   },
   {
    "duration": 8,
    "start_time": "2024-08-31T16:18:02.036Z"
   },
   {
    "duration": 3,
    "start_time": "2024-08-31T16:18:06.728Z"
   },
   {
    "duration": 6,
    "start_time": "2024-08-31T16:18:11.093Z"
   },
   {
    "duration": 4,
    "start_time": "2024-08-31T16:18:12.983Z"
   },
   {
    "duration": 15,
    "start_time": "2024-08-31T16:19:20.637Z"
   },
   {
    "duration": 8,
    "start_time": "2024-08-31T16:19:22.828Z"
   },
   {
    "duration": 29,
    "start_time": "2024-08-31T16:20:00.855Z"
   },
   {
    "duration": 11,
    "start_time": "2024-08-31T16:20:08.841Z"
   },
   {
    "duration": 14,
    "start_time": "2024-08-31T16:20:50.852Z"
   },
   {
    "duration": 4,
    "start_time": "2024-08-31T16:22:43.947Z"
   },
   {
    "duration": 7,
    "start_time": "2024-08-31T16:22:45.679Z"
   },
   {
    "duration": 5,
    "start_time": "2024-08-31T16:22:51.253Z"
   },
   {
    "duration": 5,
    "start_time": "2024-08-31T16:22:52.590Z"
   },
   {
    "duration": 779,
    "start_time": "2024-08-31T16:22:58.113Z"
   },
   {
    "duration": 708,
    "start_time": "2024-08-31T16:23:00.685Z"
   },
   {
    "duration": 8,
    "start_time": "2024-08-31T16:23:09.521Z"
   },
   {
    "duration": 11,
    "start_time": "2024-08-31T16:23:11.447Z"
   },
   {
    "duration": 7,
    "start_time": "2024-08-31T16:23:15.315Z"
   },
   {
    "duration": 8,
    "start_time": "2024-08-31T16:23:30.121Z"
   },
   {
    "duration": 10,
    "start_time": "2024-08-31T16:23:36.407Z"
   },
   {
    "duration": 12,
    "start_time": "2024-08-31T16:25:54.706Z"
   },
   {
    "duration": 9,
    "start_time": "2024-08-31T16:26:08.331Z"
   },
   {
    "duration": 14,
    "start_time": "2024-08-31T16:26:56.892Z"
   },
   {
    "duration": 5,
    "start_time": "2024-08-31T16:26:59.968Z"
   },
   {
    "duration": 7,
    "start_time": "2024-08-31T16:27:04.321Z"
   },
   {
    "duration": 6,
    "start_time": "2024-08-31T16:27:05.054Z"
   },
   {
    "duration": 6,
    "start_time": "2024-08-31T16:27:07.263Z"
   },
   {
    "duration": 17,
    "start_time": "2024-08-31T16:27:09.499Z"
   },
   {
    "duration": 33,
    "start_time": "2024-08-31T16:27:09.735Z"
   },
   {
    "duration": 30,
    "start_time": "2024-08-31T16:27:10.220Z"
   },
   {
    "duration": 10,
    "start_time": "2024-08-31T16:27:10.452Z"
   },
   {
    "duration": 617,
    "start_time": "2024-08-31T16:27:10.701Z"
   },
   {
    "duration": 5,
    "start_time": "2024-08-31T16:27:15.166Z"
   },
   {
    "duration": 4,
    "start_time": "2024-08-31T16:27:15.699Z"
   },
   {
    "duration": 1823,
    "start_time": "2024-08-31T16:27:17.999Z"
   },
   {
    "duration": 4,
    "start_time": "2024-08-31T16:27:19.825Z"
   },
   {
    "duration": 125,
    "start_time": "2024-08-31T16:27:19.831Z"
   },
   {
    "duration": 657,
    "start_time": "2024-08-31T16:27:20.834Z"
   },
   {
    "duration": 0,
    "start_time": "2024-08-31T16:27:21.493Z"
   },
   {
    "duration": 9,
    "start_time": "2024-08-31T16:27:22.981Z"
   },
   {
    "duration": 141,
    "start_time": "2024-08-31T16:27:23.796Z"
   },
   {
    "duration": 6,
    "start_time": "2024-08-31T16:27:30.924Z"
   },
   {
    "duration": 4,
    "start_time": "2024-08-31T16:27:31.162Z"
   },
   {
    "duration": 135,
    "start_time": "2024-08-31T16:27:31.410Z"
   },
   {
    "duration": 128,
    "start_time": "2024-08-31T16:27:31.682Z"
   },
   {
    "duration": 9,
    "start_time": "2024-08-31T16:27:32.654Z"
   },
   {
    "duration": 119,
    "start_time": "2024-08-31T16:27:32.878Z"
   },
   {
    "duration": 1105,
    "start_time": "2024-08-31T16:27:33.858Z"
   },
   {
    "duration": 46,
    "start_time": "2024-08-31T16:27:34.966Z"
   },
   {
    "duration": 4,
    "start_time": "2024-08-31T16:27:35.014Z"
   },
   {
    "duration": 357,
    "start_time": "2024-08-31T16:27:35.551Z"
   },
   {
    "duration": 109,
    "start_time": "2024-08-31T16:27:36.581Z"
   },
   {
    "duration": 61,
    "start_time": "2024-08-31T16:27:36.826Z"
   },
   {
    "duration": 6,
    "start_time": "2024-08-31T16:27:37.064Z"
   },
   {
    "duration": 11,
    "start_time": "2024-08-31T16:27:37.314Z"
   },
   {
    "duration": 26,
    "start_time": "2024-08-31T16:27:38.330Z"
   },
   {
    "duration": 9,
    "start_time": "2024-08-31T16:27:38.547Z"
   },
   {
    "duration": 6,
    "start_time": "2024-08-31T16:27:38.849Z"
   },
   {
    "duration": 32,
    "start_time": "2024-08-31T16:29:21.374Z"
   },
   {
    "duration": 7,
    "start_time": "2024-08-31T16:34:18.299Z"
   },
   {
    "duration": 7,
    "start_time": "2024-08-31T16:36:52.263Z"
   },
   {
    "duration": 5,
    "start_time": "2024-08-31T16:37:11.307Z"
   },
   {
    "duration": 207,
    "start_time": "2024-08-31T16:37:23.047Z"
   },
   {
    "duration": 82,
    "start_time": "2024-08-31T16:37:29.195Z"
   },
   {
    "duration": 7,
    "start_time": "2024-08-31T16:37:34.705Z"
   },
   {
    "duration": 88,
    "start_time": "2024-08-31T16:37:43.347Z"
   },
   {
    "duration": 71,
    "start_time": "2024-08-31T16:37:46.688Z"
   },
   {
    "duration": 39,
    "start_time": "2024-08-31T16:37:48.261Z"
   },
   {
    "duration": 13,
    "start_time": "2024-08-31T16:38:00.333Z"
   },
   {
    "duration": 14,
    "start_time": "2024-08-31T16:38:04.933Z"
   },
   {
    "duration": 17,
    "start_time": "2024-08-31T16:38:07.771Z"
   },
   {
    "duration": 15,
    "start_time": "2024-08-31T16:38:16.002Z"
   },
   {
    "duration": 11,
    "start_time": "2024-08-31T16:38:17.820Z"
   },
   {
    "duration": 14,
    "start_time": "2024-08-31T16:38:25.826Z"
   },
   {
    "duration": 10,
    "start_time": "2024-08-31T16:38:27.460Z"
   },
   {
    "duration": 18,
    "start_time": "2024-08-31T16:38:31.795Z"
   },
   {
    "duration": 6,
    "start_time": "2024-08-31T16:38:34.363Z"
   },
   {
    "duration": 67,
    "start_time": "2024-08-31T16:38:37.668Z"
   },
   {
    "duration": 5,
    "start_time": "2024-08-31T16:38:48.015Z"
   },
   {
    "duration": 5,
    "start_time": "2024-08-31T16:38:50.259Z"
   },
   {
    "duration": 3,
    "start_time": "2024-08-31T16:38:53.483Z"
   },
   {
    "duration": 7,
    "start_time": "2024-08-31T16:38:54.507Z"
   },
   {
    "duration": 194,
    "start_time": "2024-08-31T16:38:58.181Z"
   },
   {
    "duration": 7,
    "start_time": "2024-08-31T16:39:03.268Z"
   },
   {
    "duration": 132,
    "start_time": "2024-08-31T16:39:06.264Z"
   },
   {
    "duration": 21227,
    "start_time": "2024-08-31T16:39:10.536Z"
   },
   {
    "duration": 157,
    "start_time": "2024-08-31T16:39:31.765Z"
   },
   {
    "duration": 154,
    "start_time": "2024-08-31T16:40:32.483Z"
   },
   {
    "duration": 9,
    "start_time": "2024-08-31T16:40:39.559Z"
   },
   {
    "duration": 9,
    "start_time": "2024-08-31T16:40:43.726Z"
   },
   {
    "duration": 130,
    "start_time": "2024-08-31T16:40:49.174Z"
   },
   {
    "duration": 135,
    "start_time": "2024-08-31T16:41:00.571Z"
   },
   {
    "duration": 39,
    "start_time": "2024-08-31T16:41:05.272Z"
   },
   {
    "duration": 117,
    "start_time": "2024-08-31T16:41:08.336Z"
   },
   {
    "duration": 1098,
    "start_time": "2024-08-31T16:41:15.313Z"
   },
   {
    "duration": 4,
    "start_time": "2024-08-31T16:41:19.906Z"
   },
   {
    "duration": 284,
    "start_time": "2024-08-31T16:41:25.677Z"
   },
   {
    "duration": 57,
    "start_time": "2024-08-31T16:41:31.539Z"
   },
   {
    "duration": 61,
    "start_time": "2024-08-31T16:41:33.543Z"
   },
   {
    "duration": 5,
    "start_time": "2024-08-31T16:41:34.806Z"
   },
   {
    "duration": 10,
    "start_time": "2024-08-31T16:41:36.539Z"
   },
   {
    "duration": 22,
    "start_time": "2024-08-31T16:41:46.969Z"
   },
   {
    "duration": 8,
    "start_time": "2024-08-31T16:41:48.156Z"
   },
   {
    "duration": 6,
    "start_time": "2024-08-31T16:41:51.724Z"
   },
   {
    "duration": 299,
    "start_time": "2024-08-31T20:48:36.760Z"
   },
   {
    "duration": 260,
    "start_time": "2024-08-31T20:48:37.061Z"
   },
   {
    "duration": 10,
    "start_time": "2024-08-31T20:48:51.436Z"
   },
   {
    "duration": 84,
    "start_time": "2024-08-31T20:48:52.970Z"
   },
   {
    "duration": 23,
    "start_time": "2024-08-31T20:48:53.799Z"
   },
   {
    "duration": 23,
    "start_time": "2024-08-31T20:48:54.647Z"
   },
   {
    "duration": 1309,
    "start_time": "2024-08-31T20:48:55.343Z"
   },
   {
    "duration": 81,
    "start_time": "2024-08-31T20:49:39.002Z"
   },
   {
    "duration": 8,
    "start_time": "2024-08-31T20:49:40.479Z"
   },
   {
    "duration": 85,
    "start_time": "2024-08-31T20:50:03.453Z"
   },
   {
    "duration": 92,
    "start_time": "2024-08-31T20:50:58.321Z"
   },
   {
    "duration": 44,
    "start_time": "2024-08-31T20:50:59.828Z"
   },
   {
    "duration": 13,
    "start_time": "2024-08-31T20:51:03.175Z"
   },
   {
    "duration": 6,
    "start_time": "2024-08-31T20:51:04.279Z"
   },
   {
    "duration": 27,
    "start_time": "2024-08-31T20:51:05.383Z"
   },
   {
    "duration": 13,
    "start_time": "2024-08-31T20:51:06.408Z"
   },
   {
    "duration": 4,
    "start_time": "2024-08-31T20:51:47.671Z"
   },
   {
    "duration": 4,
    "start_time": "2024-08-31T20:51:49.568Z"
   },
   {
    "duration": 4,
    "start_time": "2024-08-31T20:53:38.839Z"
   },
   {
    "duration": 5,
    "start_time": "2024-08-31T20:53:39.859Z"
   },
   {
    "duration": 795,
    "start_time": "2024-08-31T20:53:49.601Z"
   },
   {
    "duration": 708,
    "start_time": "2024-08-31T20:53:50.449Z"
   },
   {
    "duration": 8,
    "start_time": "2024-08-31T20:54:22.472Z"
   },
   {
    "duration": 9,
    "start_time": "2024-08-31T20:54:24.175Z"
   },
   {
    "duration": 6,
    "start_time": "2024-08-31T20:54:24.864Z"
   },
   {
    "duration": 4,
    "start_time": "2024-08-31T20:56:07.116Z"
   },
   {
    "duration": 7,
    "start_time": "2024-08-31T20:56:12.059Z"
   },
   {
    "duration": 10,
    "start_time": "2024-08-31T20:56:13.278Z"
   },
   {
    "duration": 11,
    "start_time": "2024-08-31T20:56:14.698Z"
   },
   {
    "duration": 6,
    "start_time": "2024-08-31T20:56:21.244Z"
   },
   {
    "duration": 14,
    "start_time": "2024-08-31T20:56:24.457Z"
   },
   {
    "duration": 12,
    "start_time": "2024-08-31T20:56:34.780Z"
   },
   {
    "duration": 18,
    "start_time": "2024-08-31T20:56:35.980Z"
   },
   {
    "duration": 22,
    "start_time": "2024-08-31T20:56:38.163Z"
   },
   {
    "duration": 16,
    "start_time": "2024-08-31T20:58:01.971Z"
   },
   {
    "duration": 31,
    "start_time": "2024-08-31T20:58:02.835Z"
   },
   {
    "duration": 26,
    "start_time": "2024-08-31T20:58:31.180Z"
   },
   {
    "duration": 12,
    "start_time": "2024-08-31T20:58:32.096Z"
   },
   {
    "duration": 663,
    "start_time": "2024-08-31T20:58:32.776Z"
   },
   {
    "duration": 4,
    "start_time": "2024-08-31T20:58:40.166Z"
   },
   {
    "duration": 4,
    "start_time": "2024-08-31T20:58:40.962Z"
   },
   {
    "duration": 1886,
    "start_time": "2024-08-31T20:58:43.059Z"
   },
   {
    "duration": 7,
    "start_time": "2024-08-31T20:58:44.948Z"
   },
   {
    "duration": 201,
    "start_time": "2024-08-31T20:58:46.419Z"
   },
   {
    "duration": 7,
    "start_time": "2024-08-31T20:58:49.741Z"
   },
   {
    "duration": 131,
    "start_time": "2024-08-31T20:58:50.396Z"
   },
   {
    "duration": 20370,
    "start_time": "2024-08-31T20:58:56.078Z"
   },
   {
    "duration": 162,
    "start_time": "2024-08-31T20:59:16.450Z"
   },
   {
    "duration": 9,
    "start_time": "2024-08-31T20:59:21.209Z"
   },
   {
    "duration": 9,
    "start_time": "2024-08-31T20:59:30.418Z"
   },
   {
    "duration": 129,
    "start_time": "2024-08-31T20:59:34.116Z"
   },
   {
    "duration": 132,
    "start_time": "2024-08-31T20:59:35.082Z"
   },
   {
    "duration": 38,
    "start_time": "2024-08-31T20:59:40.350Z"
   },
   {
    "duration": 118,
    "start_time": "2024-08-31T20:59:41.299Z"
   },
   {
    "duration": 1080,
    "start_time": "2024-08-31T20:59:45.432Z"
   },
   {
    "duration": 49,
    "start_time": "2024-08-31T20:59:46.582Z"
   },
   {
    "duration": 5,
    "start_time": "2024-08-31T20:59:47.383Z"
   },
   {
    "duration": 274,
    "start_time": "2024-08-31T20:59:51.691Z"
   },
   {
    "duration": 108,
    "start_time": "2024-08-31T20:59:59.981Z"
   },
   {
    "duration": 55,
    "start_time": "2024-08-31T21:00:00.206Z"
   },
   {
    "duration": 6,
    "start_time": "2024-08-31T21:00:00.435Z"
   },
   {
    "duration": 10,
    "start_time": "2024-08-31T21:00:00.664Z"
   },
   {
    "duration": 23,
    "start_time": "2024-08-31T21:00:01.603Z"
   },
   {
    "duration": 11,
    "start_time": "2024-08-31T21:00:01.833Z"
   },
   {
    "duration": 7,
    "start_time": "2024-08-31T21:00:02.070Z"
   },
   {
    "duration": 183,
    "start_time": "2024-08-31T21:11:51.252Z"
   },
   {
    "duration": 275,
    "start_time": "2024-08-31T21:29:36.848Z"
   },
   {
    "duration": 294,
    "start_time": "2024-08-31T21:30:02.310Z"
   },
   {
    "duration": 272,
    "start_time": "2024-08-31T21:33:48.450Z"
   },
   {
    "duration": 274,
    "start_time": "2024-08-31T21:34:13.630Z"
   },
   {
    "duration": 9,
    "start_time": "2024-08-31T21:47:35.732Z"
   },
   {
    "duration": 6,
    "start_time": "2024-08-31T21:48:11.214Z"
   },
   {
    "duration": 7,
    "start_time": "2024-08-31T21:48:26.409Z"
   },
   {
    "duration": 161,
    "start_time": "2024-09-01T05:50:41.120Z"
   },
   {
    "duration": 297,
    "start_time": "2024-09-01T05:50:54.097Z"
   },
   {
    "duration": 254,
    "start_time": "2024-09-01T05:50:54.396Z"
   },
   {
    "duration": 12,
    "start_time": "2024-09-01T05:50:54.652Z"
   },
   {
    "duration": 81,
    "start_time": "2024-09-01T05:50:54.784Z"
   },
   {
    "duration": 24,
    "start_time": "2024-09-01T05:50:54.937Z"
   },
   {
    "duration": 22,
    "start_time": "2024-09-01T05:50:55.103Z"
   },
   {
    "duration": 1324,
    "start_time": "2024-09-01T05:50:55.290Z"
   },
   {
    "duration": 92,
    "start_time": "2024-09-01T05:50:56.616Z"
   },
   {
    "duration": 8,
    "start_time": "2024-09-01T05:50:56.710Z"
   },
   {
    "duration": 87,
    "start_time": "2024-09-01T05:50:56.783Z"
   },
   {
    "duration": 87,
    "start_time": "2024-09-01T05:50:57.118Z"
   },
   {
    "duration": 53,
    "start_time": "2024-09-01T05:50:57.343Z"
   },
   {
    "duration": 13,
    "start_time": "2024-09-01T05:50:57.907Z"
   },
   {
    "duration": 6,
    "start_time": "2024-09-01T05:50:58.088Z"
   },
   {
    "duration": 26,
    "start_time": "2024-09-01T05:50:58.260Z"
   },
   {
    "duration": 13,
    "start_time": "2024-09-01T05:50:58.443Z"
   },
   {
    "duration": 5,
    "start_time": "2024-09-01T05:50:59.398Z"
   },
   {
    "duration": 4,
    "start_time": "2024-09-01T05:50:59.573Z"
   },
   {
    "duration": 5,
    "start_time": "2024-09-01T05:51:00.181Z"
   },
   {
    "duration": 4,
    "start_time": "2024-09-01T05:51:00.381Z"
   },
   {
    "duration": 810,
    "start_time": "2024-09-01T05:51:01.000Z"
   },
   {
    "duration": 719,
    "start_time": "2024-09-01T05:51:01.812Z"
   },
   {
    "duration": 12,
    "start_time": "2024-09-01T05:51:02.533Z"
   },
   {
    "duration": 10,
    "start_time": "2024-09-01T05:51:02.547Z"
   },
   {
    "duration": 7,
    "start_time": "2024-09-01T05:51:02.559Z"
   },
   {
    "duration": 3,
    "start_time": "2024-09-01T05:51:02.867Z"
   },
   {
    "duration": 8,
    "start_time": "2024-09-01T05:51:03.275Z"
   },
   {
    "duration": 9,
    "start_time": "2024-09-01T05:51:03.477Z"
   },
   {
    "duration": 6,
    "start_time": "2024-09-01T05:51:03.713Z"
   },
   {
    "duration": 8,
    "start_time": "2024-09-01T05:51:03.915Z"
   },
   {
    "duration": 6,
    "start_time": "2024-09-01T05:51:04.346Z"
   },
   {
    "duration": 14,
    "start_time": "2024-09-01T05:51:04.715Z"
   },
   {
    "duration": 11,
    "start_time": "2024-09-01T05:51:05.276Z"
   },
   {
    "duration": 18,
    "start_time": "2024-09-01T05:51:05.469Z"
   },
   {
    "duration": 27,
    "start_time": "2024-09-01T05:51:05.871Z"
   },
   {
    "duration": 17,
    "start_time": "2024-09-01T05:51:06.655Z"
   },
   {
    "duration": 34,
    "start_time": "2024-09-01T05:51:06.839Z"
   },
   {
    "duration": 28,
    "start_time": "2024-09-01T05:51:07.249Z"
   },
   {
    "duration": 10,
    "start_time": "2024-09-01T05:51:07.460Z"
   },
   {
    "duration": 607,
    "start_time": "2024-09-01T05:51:07.691Z"
   },
   {
    "duration": 5,
    "start_time": "2024-09-01T05:51:08.985Z"
   },
   {
    "duration": 4,
    "start_time": "2024-09-01T05:51:09.193Z"
   },
   {
    "duration": 1867,
    "start_time": "2024-09-01T05:51:09.754Z"
   },
   {
    "duration": 8,
    "start_time": "2024-09-01T05:51:11.623Z"
   },
   {
    "duration": 254,
    "start_time": "2024-09-01T05:51:11.632Z"
   },
   {
    "duration": 7,
    "start_time": "2024-09-01T05:51:11.888Z"
   },
   {
    "duration": 146,
    "start_time": "2024-09-01T05:51:11.896Z"
   },
   {
    "duration": 20538,
    "start_time": "2024-09-01T05:51:12.384Z"
   },
   {
    "duration": 162,
    "start_time": "2024-09-01T05:51:32.924Z"
   },
   {
    "duration": 9,
    "start_time": "2024-09-01T05:51:33.088Z"
   },
   {
    "duration": 8,
    "start_time": "2024-09-01T05:51:33.099Z"
   },
   {
    "duration": 147,
    "start_time": "2024-09-01T05:51:33.108Z"
   },
   {
    "duration": 140,
    "start_time": "2024-09-01T05:51:33.257Z"
   },
   {
    "duration": 51,
    "start_time": "2024-09-01T05:51:33.399Z"
   },
   {
    "duration": 127,
    "start_time": "2024-09-01T05:51:33.453Z"
   },
   {
    "duration": 1101,
    "start_time": "2024-09-01T05:51:33.582Z"
   },
   {
    "duration": 57,
    "start_time": "2024-09-01T05:51:34.686Z"
   },
   {
    "duration": 5,
    "start_time": "2024-09-01T05:51:34.744Z"
   },
   {
    "duration": 291,
    "start_time": "2024-09-01T05:51:34.750Z"
   },
   {
    "duration": 45,
    "start_time": "2024-09-01T05:51:35.043Z"
   },
   {
    "duration": 0,
    "start_time": "2024-09-01T05:51:35.090Z"
   },
   {
    "duration": 0,
    "start_time": "2024-09-01T05:51:35.091Z"
   },
   {
    "duration": 0,
    "start_time": "2024-09-01T05:51:35.092Z"
   },
   {
    "duration": 0,
    "start_time": "2024-09-01T05:51:35.093Z"
   },
   {
    "duration": 0,
    "start_time": "2024-09-01T05:51:35.094Z"
   },
   {
    "duration": 0,
    "start_time": "2024-09-01T05:51:35.095Z"
   },
   {
    "duration": 0,
    "start_time": "2024-09-01T05:51:35.096Z"
   },
   {
    "duration": 120,
    "start_time": "2024-09-01T05:52:00.278Z"
   },
   {
    "duration": 293,
    "start_time": "2024-09-01T05:53:17.158Z"
   },
   {
    "duration": 141,
    "start_time": "2024-09-01T05:59:19.345Z"
   },
   {
    "duration": 121,
    "start_time": "2024-09-01T05:59:27.707Z"
   },
   {
    "duration": 114,
    "start_time": "2024-09-01T05:59:40.668Z"
   },
   {
    "duration": 121,
    "start_time": "2024-09-01T06:00:05.211Z"
   },
   {
    "duration": 125,
    "start_time": "2024-09-01T06:00:15.331Z"
   }
  ],
  "kernelspec": {
   "display_name": "base",
   "language": "python",
   "name": "python3"
  },
  "language_info": {
   "codemirror_mode": {
    "name": "ipython",
    "version": 3
   },
   "file_extension": ".py",
   "mimetype": "text/x-python",
   "name": "python",
   "nbconvert_exporter": "python",
   "pygments_lexer": "ipython3",
   "version": "3.12.4"
  },
  "toc": {
   "base_numbering": 1,
   "nav_menu": {},
   "number_sections": true,
   "sideBar": true,
   "skip_h1_title": true,
   "title_cell": "Table of Contents",
   "title_sidebar": "Contents",
   "toc_cell": false,
   "toc_position": {
    "height": "calc(100% - 180px)",
    "left": "10px",
    "top": "150px",
    "width": "238.597px"
   },
   "toc_section_display": true,
   "toc_window_display": true
  }
 },
 "nbformat": 4,
 "nbformat_minor": 5
}
